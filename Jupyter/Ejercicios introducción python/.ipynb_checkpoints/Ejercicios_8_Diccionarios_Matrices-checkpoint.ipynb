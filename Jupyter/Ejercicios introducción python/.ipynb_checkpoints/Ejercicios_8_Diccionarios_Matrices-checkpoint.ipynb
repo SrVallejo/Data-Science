{
 "cells": [
  {
   "cell_type": "code",
   "execution_count": 1,
   "id": "1f4e5a1e",
   "metadata": {},
   "outputs": [],
   "source": [
    "import pandas as pd\n",
    "import numpy as np"
   ]
  },
  {
   "cell_type": "markdown",
   "id": "be321aae",
   "metadata": {},
   "source": [
    "*Creado por:*\n",
    "    \n",
    "*Isabel Maniega*"
   ]
  },
  {
   "cell_type": "markdown",
   "id": "d6bbbfca",
   "metadata": {},
   "source": [
    "# Ejercicio 1"
   ]
  },
  {
   "cell_type": "markdown",
   "id": "ac7ab658",
   "metadata": {},
   "source": [
    "**Calcula la longitud de una cadena de texto sin usar la instruccion len(cadena)**"
   ]
  },
  {
   "cell_type": "markdown",
   "id": "94e8c4cb",
   "metadata": {},
   "source": [
    "**1)**\n",
    "\n",
    "Cadena de texto: hola como estas?\n",
    "\n",
    "Nombre de la variable: \"cadena\""
   ]
  },
  {
   "cell_type": "markdown",
   "id": "9a7bd245",
   "metadata": {},
   "source": [
    "**2)**\n",
    "\n",
    "Longitud de la cadena de texto"
   ]
  },
  {
   "cell_type": "markdown",
   "id": "41d08bfc",
   "metadata": {},
   "source": [
    "**3)**\n",
    "\n",
    "Longitud de la cadena de texto calculada con un bucle"
   ]
  },
  {
   "cell_type": "code",
   "execution_count": 34,
   "id": "f68d9d1f",
   "metadata": {},
   "outputs": [
    {
     "name": "stdout",
     "output_type": "stream",
     "text": [
      "Dime tu frase a medir: Hola que tal?\n",
      "La cadena Hola que tal? tiene 13 caracteres\n"
     ]
    }
   ],
   "source": [
    "text = input(\"Dime tu frase a medir: \")\n",
    "\n",
    "i = 0\n",
    "\n",
    "while True:\n",
    "    try:\n",
    "        text[i]\n",
    "        i += 1\n",
    "    except:\n",
    "        break\n",
    "\n",
    "print(f\"La cadena {text} tiene {i} caracteres\")"
   ]
  },
  {
   "cell_type": "markdown",
   "id": "31e3a07e",
   "metadata": {},
   "source": [
    "# Ejercicio 2"
   ]
  },
  {
   "cell_type": "markdown",
   "id": "6c9c2279",
   "metadata": {},
   "source": [
    "Crea un diccionario que tenga la nota de 3 asignaturas y \n",
    "\n",
    "haz un pequeño algoritmo que calcule la nota media"
   ]
  },
  {
   "cell_type": "code",
   "execution_count": 3,
   "id": "2f9ba620",
   "metadata": {},
   "outputs": [
    {
     "data": {
      "text/plain": [
       "{'Python': 10, 'Big Data': 8, 'NLP': 6}"
      ]
     },
     "execution_count": 3,
     "metadata": {},
     "output_type": "execute_result"
    }
   ],
   "source": [
    "# CURSO         -> Nota\n",
    "# ---------------------\n",
    "# Python        ->  10\n",
    "# Big Data      ->  8\n",
    "# NLP           ->  6\n",
    "dic_notas = {\"Python\":10,\"Big Data\":8, \"NLP\":6}\n",
    "dic_notas"
   ]
  },
  {
   "cell_type": "markdown",
   "id": "a7a8a8d5",
   "metadata": {},
   "source": [
    "**1)** Muestra el valor de las claves"
   ]
  },
  {
   "cell_type": "code",
   "execution_count": 4,
   "id": "1e183191",
   "metadata": {},
   "outputs": [
    {
     "name": "stdout",
     "output_type": "stream",
     "text": [
      "Python\n",
      "Big Data\n",
      "NLP\n"
     ]
    }
   ],
   "source": [
    "for key in dic_notas.keys():\n",
    "    print(key)\n"
   ]
  },
  {
   "cell_type": "markdown",
   "id": "2b9e9608",
   "metadata": {},
   "source": [
    "**2)** Muestra el valor de los valores del diccionario"
   ]
  },
  {
   "cell_type": "code",
   "execution_count": 5,
   "id": "bf936fa5",
   "metadata": {},
   "outputs": [
    {
     "name": "stdout",
     "output_type": "stream",
     "text": [
      "10\n",
      "8\n",
      "6\n"
     ]
    }
   ],
   "source": [
    "for value in dic_notas.values():\n",
    "    print(value)"
   ]
  },
  {
   "cell_type": "markdown",
   "id": "4a8a70cf",
   "metadata": {},
   "source": [
    "**3)** Apendiza en el diccionario un nuevo elemento: \n",
    "    \n",
    "Machine Learning  --> 9"
   ]
  },
  {
   "cell_type": "code",
   "execution_count": 6,
   "id": "319cb8a4",
   "metadata": {},
   "outputs": [
    {
     "data": {
      "text/plain": [
       "{'Python': 10, 'Big Data': 8, 'NLP': 6, 'Machine Learning': 9}"
      ]
     },
     "execution_count": 6,
     "metadata": {},
     "output_type": "execute_result"
    }
   ],
   "source": [
    "dic_notas[\"Machine Learning\"] = 9\n",
    "dic_notas"
   ]
  },
  {
   "cell_type": "markdown",
   "id": "58eaa626",
   "metadata": {},
   "source": [
    "**4)** Haciendo uso un bucle muestra la clave y el valor del diccionario, cuyo resultado final sean listas anidadas.\n",
    "\n",
    "*[[\"clave1\", valor1], [\"clave2\", valor2]]* "
   ]
  },
  {
   "cell_type": "code",
   "execution_count": 7,
   "id": "fcdc95c0",
   "metadata": {},
   "outputs": [
    {
     "data": {
      "text/plain": [
       "[['Python', 10], ['Big Data', 8], ['NLP', 6], ['Machine Learning', 9]]"
      ]
     },
     "execution_count": 7,
     "metadata": {},
     "output_type": "execute_result"
    }
   ],
   "source": [
    "l =[]\n",
    "for key in dic_notas.keys():\n",
    "    l.append([key, dic_notas[key]])\n",
    "l"
   ]
  },
  {
   "cell_type": "markdown",
   "id": "1597ef90",
   "metadata": {},
   "source": [
    "**5)** Reconvierte el diccionario para transformarlo en un dataframe y busca la asignatura con la nota más alta"
   ]
  },
  {
   "cell_type": "code",
   "execution_count": 8,
   "id": "eec120d0",
   "metadata": {},
   "outputs": [
    {
     "data": {
      "text/html": [
       "<div>\n",
       "<style scoped>\n",
       "    .dataframe tbody tr th:only-of-type {\n",
       "        vertical-align: middle;\n",
       "    }\n",
       "\n",
       "    .dataframe tbody tr th {\n",
       "        vertical-align: top;\n",
       "    }\n",
       "\n",
       "    .dataframe thead th {\n",
       "        text-align: right;\n",
       "    }\n",
       "</style>\n",
       "<table border=\"1\" class=\"dataframe\">\n",
       "  <thead>\n",
       "    <tr style=\"text-align: right;\">\n",
       "      <th></th>\n",
       "      <th>claves</th>\n",
       "      <th>valores</th>\n",
       "    </tr>\n",
       "  </thead>\n",
       "  <tbody>\n",
       "    <tr>\n",
       "      <th>0</th>\n",
       "      <td>Python</td>\n",
       "      <td>10</td>\n",
       "    </tr>\n",
       "    <tr>\n",
       "      <th>1</th>\n",
       "      <td>Big Data</td>\n",
       "      <td>8</td>\n",
       "    </tr>\n",
       "    <tr>\n",
       "      <th>2</th>\n",
       "      <td>NLP</td>\n",
       "      <td>6</td>\n",
       "    </tr>\n",
       "    <tr>\n",
       "      <th>3</th>\n",
       "      <td>Machine Learning</td>\n",
       "      <td>9</td>\n",
       "    </tr>\n",
       "  </tbody>\n",
       "</table>\n",
       "</div>"
      ],
      "text/plain": [
       "             claves  valores\n",
       "0            Python       10\n",
       "1          Big Data        8\n",
       "2               NLP        6\n",
       "3  Machine Learning        9"
      ]
     },
     "execution_count": 8,
     "metadata": {},
     "output_type": "execute_result"
    }
   ],
   "source": [
    "df_diccionario = pd.DataFrame([key for key in dic_notas.keys()], columns=[\"claves\"])\n",
    "df_diccionario[\"valores\"] = [value for value in dic_notas.values()]\n",
    "\n",
    "df_diccionario"
   ]
  },
  {
   "cell_type": "code",
   "execution_count": 9,
   "id": "e60386cc",
   "metadata": {},
   "outputs": [
    {
     "data": {
      "text/plain": [
       "10"
      ]
     },
     "execution_count": 9,
     "metadata": {},
     "output_type": "execute_result"
    }
   ],
   "source": [
    "max(df_diccionario[\"valores\"])"
   ]
  },
  {
   "cell_type": "markdown",
   "id": "7351d83b",
   "metadata": {},
   "source": [
    "**6)** ¿y la nota más baja?"
   ]
  },
  {
   "cell_type": "code",
   "execution_count": 10,
   "id": "1ceb29cc",
   "metadata": {},
   "outputs": [
    {
     "data": {
      "text/plain": [
       "6"
      ]
     },
     "execution_count": 10,
     "metadata": {},
     "output_type": "execute_result"
    }
   ],
   "source": [
    "min(df_diccionario[\"valores\"])"
   ]
  },
  {
   "cell_type": "markdown",
   "id": "9a3e2600",
   "metadata": {},
   "source": [
    "**7)** Ordena el dataframe en orden descendente: "
   ]
  },
  {
   "cell_type": "code",
   "execution_count": 11,
   "id": "619aa311",
   "metadata": {},
   "outputs": [
    {
     "data": {
      "text/html": [
       "<div>\n",
       "<style scoped>\n",
       "    .dataframe tbody tr th:only-of-type {\n",
       "        vertical-align: middle;\n",
       "    }\n",
       "\n",
       "    .dataframe tbody tr th {\n",
       "        vertical-align: top;\n",
       "    }\n",
       "\n",
       "    .dataframe thead th {\n",
       "        text-align: right;\n",
       "    }\n",
       "</style>\n",
       "<table border=\"1\" class=\"dataframe\">\n",
       "  <thead>\n",
       "    <tr style=\"text-align: right;\">\n",
       "      <th></th>\n",
       "      <th>claves</th>\n",
       "      <th>valores</th>\n",
       "    </tr>\n",
       "  </thead>\n",
       "  <tbody>\n",
       "    <tr>\n",
       "      <th>0</th>\n",
       "      <td>Python</td>\n",
       "      <td>10</td>\n",
       "    </tr>\n",
       "    <tr>\n",
       "      <th>3</th>\n",
       "      <td>Machine Learning</td>\n",
       "      <td>9</td>\n",
       "    </tr>\n",
       "    <tr>\n",
       "      <th>1</th>\n",
       "      <td>Big Data</td>\n",
       "      <td>8</td>\n",
       "    </tr>\n",
       "    <tr>\n",
       "      <th>2</th>\n",
       "      <td>NLP</td>\n",
       "      <td>6</td>\n",
       "    </tr>\n",
       "  </tbody>\n",
       "</table>\n",
       "</div>"
      ],
      "text/plain": [
       "             claves  valores\n",
       "0            Python       10\n",
       "3  Machine Learning        9\n",
       "1          Big Data        8\n",
       "2               NLP        6"
      ]
     },
     "execution_count": 11,
     "metadata": {},
     "output_type": "execute_result"
    }
   ],
   "source": [
    "df_diccionario = df_diccionario.sort_values(by=\"valores\", ascending = False)\n",
    "df_diccionario"
   ]
  },
  {
   "cell_type": "markdown",
   "id": "034af2d3",
   "metadata": {},
   "source": [
    "**Extra** Calcula la media de notas usando el diccionario"
   ]
  },
  {
   "cell_type": "code",
   "execution_count": 12,
   "id": "ff525b08",
   "metadata": {},
   "outputs": [
    {
     "name": "stdout",
     "output_type": "stream",
     "text": [
      "La media de notas es de: 8.25\n"
     ]
    }
   ],
   "source": [
    "media = 0\n",
    "for value in dic_notas.values():\n",
    "    media += value\n",
    "    \n",
    "media /= len(dic_notas)\n",
    "print (f\"La media de notas es de: {media}\")"
   ]
  },
  {
   "cell_type": "markdown",
   "id": "a8411fa5",
   "metadata": {},
   "source": [
    "# Ejercicio 3"
   ]
  },
  {
   "cell_type": "markdown",
   "id": "8092a3da",
   "metadata": {},
   "source": [
    "Dadas 2 funciones:\n",
    "\n",
    "Determina cual de ellas ejecuta mas rápido.\n",
    "\n",
    "Si sabes, hazlo de 2 formas."
   ]
  },
  {
   "cell_type": "markdown",
   "id": "9bc4512a",
   "metadata": {},
   "source": [
    "**función a**\n",
    "\n",
    "def main():\n",
    "    for i in range(10**8):\n",
    "        pass\n",
    "\n",
    "main()"
   ]
  },
  {
   "cell_type": "code",
   "execution_count": 13,
   "id": "c726343c",
   "metadata": {},
   "outputs": [],
   "source": [
    "def fun_a():\n",
    "    for i in range (10**8):\n",
    "        pass"
   ]
  },
  {
   "cell_type": "code",
   "execution_count": 14,
   "id": "3fdaa00d",
   "metadata": {},
   "outputs": [
    {
     "name": "stdout",
     "output_type": "stream",
     "text": [
      "CPU times: total: 1.83 s\n",
      "Wall time: 1.83 s\n"
     ]
    }
   ],
   "source": [
    "%%time\n",
    "\n",
    "fun_a()"
   ]
  },
  {
   "cell_type": "markdown",
   "id": "cfe23cd4",
   "metadata": {},
   "source": [
    "**función b**\n",
    "\n",
    "def main():\n",
    "    for i in np.arange(10**8):\n",
    "        pass\n",
    "\n",
    "main()"
   ]
  },
  {
   "cell_type": "code",
   "execution_count": 15,
   "id": "79087587",
   "metadata": {},
   "outputs": [],
   "source": [
    "def fun_b():\n",
    "    for i in np.arange(10**8):\n",
    "        pass"
   ]
  },
  {
   "cell_type": "code",
   "execution_count": 16,
   "id": "c4699452",
   "metadata": {},
   "outputs": [
    {
     "name": "stdout",
     "output_type": "stream",
     "text": [
      "CPU times: total: 5.19 s\n",
      "Wall time: 5.2 s\n"
     ]
    }
   ],
   "source": [
    "%%time\n",
    "\n",
    "fun_b()"
   ]
  },
  {
   "cell_type": "markdown",
   "id": "7ab2998b",
   "metadata": {},
   "source": [
    "Es más rápida la **función a** que no usa numpy"
   ]
  },
  {
   "cell_type": "markdown",
   "id": "0c94fd7d",
   "metadata": {},
   "source": [
    "# Ejercicio 4"
   ]
  },
  {
   "cell_type": "markdown",
   "id": "18ecba93",
   "metadata": {},
   "source": [
    "Dada: \n",
    "\n",
    "Una matriz tal que así:\n",
    "\n",
    "A = np.array([[1,2,3], [4,5,6], [7,8,9]])\n",
    "\n",
    "se pide:"
   ]
  },
  {
   "cell_type": "markdown",
   "id": "c00e68c5",
   "metadata": {},
   "source": [
    "**1)**\n",
    "\n",
    "Escribe ese código en Python "
   ]
  },
  {
   "cell_type": "code",
   "execution_count": 30,
   "id": "b3b8edb5",
   "metadata": {},
   "outputs": [],
   "source": [
    "a = np.array([\n",
    "    [1,2,3], \n",
    "    [4,5,6], \n",
    "    [7,8,9]\n",
    "])"
   ]
  },
  {
   "cell_type": "markdown",
   "id": "1d6be6de",
   "metadata": {},
   "source": [
    "**2)**\n",
    "\n",
    "Escribe la matriz transpuesta.\n",
    "\n",
    "Nota, puedes usar numpy, si quieres.\n",
    "\n",
    "si sabes más de una forma puedes usar varias."
   ]
  },
  {
   "cell_type": "code",
   "execution_count": 31,
   "id": "baa86077",
   "metadata": {},
   "outputs": [
    {
     "data": {
      "text/plain": [
       "array([[1, 4, 7],\n",
       "       [2, 5, 8],\n",
       "       [3, 6, 9]])"
      ]
     },
     "execution_count": 31,
     "metadata": {},
     "output_type": "execute_result"
    }
   ],
   "source": [
    "a.T"
   ]
  },
  {
   "cell_type": "code",
   "execution_count": 32,
   "id": "1ea2d8cb",
   "metadata": {},
   "outputs": [
    {
     "data": {
      "text/plain": [
       "array([[1, 4, 7],\n",
       "       [2, 5, 8],\n",
       "       [3, 6, 9]])"
      ]
     },
     "execution_count": 32,
     "metadata": {},
     "output_type": "execute_result"
    }
   ],
   "source": [
    "np.transpose(a)"
   ]
  },
  {
   "cell_type": "markdown",
   "id": "c86a4f23",
   "metadata": {},
   "source": [
    "**3)**\n",
    "\n",
    "Se pide que hagas lo mismo, pero con un bucle."
   ]
  },
  {
   "cell_type": "code",
   "execution_count": 33,
   "id": "29cf19ce",
   "metadata": {},
   "outputs": [
    {
     "name": "stdout",
     "output_type": "stream",
     "text": [
      "[[1 4 7]\n",
      " [2 5 8]\n",
      " [3 6 9]]\n"
     ]
    }
   ],
   "source": [
    "b = np.zeros((len(a[0]),(len(a))),dtype=int)\n",
    "\n",
    "\n",
    "## i = posición de la fila\n",
    "for i in range(len(a)):\n",
    "    ## j = posición de la columna\n",
    "    for j in range(len(a[0])):\n",
    "        b[j,i] = a[i,j]\n",
    "        \n",
    "print(b)"
   ]
  },
  {
   "cell_type": "markdown",
   "id": "6c7632b5",
   "metadata": {},
   "source": [
    "*Creado por:*\n",
    "    \n",
    "*Isabel Maniega*"
   ]
  }
 ],
 "metadata": {
  "kernelspec": {
   "display_name": "Python 3 (ipykernel)",
   "language": "python",
   "name": "python3"
  },
  "language_info": {
   "codemirror_mode": {
    "name": "ipython",
    "version": 3
   },
   "file_extension": ".py",
   "mimetype": "text/x-python",
   "name": "python",
   "nbconvert_exporter": "python",
   "pygments_lexer": "ipython3",
   "version": "3.8.10"
  }
 },
 "nbformat": 4,
 "nbformat_minor": 5
}

{
 "cells": [
  {
   "cell_type": "code",
   "execution_count": 17,
   "id": "510ee959",
   "metadata": {},
   "outputs": [],
   "source": [
    "#Devuelve una lista de x números de la serie de fibonacci\n",
    "def fibo(x):\n",
    "    #inicializamos la lista e introducimos los 2 primeros valores\n",
    "    fibonacci = []\n",
    "    if x > 0: fibonacci.append(0)\n",
    "    if x > 1: fibonacci.append(1)\n",
    "        \n",
    "        \n",
    "    #apendizamos valores de fibonacci a la lista, sumando los 2 ultimos valores\n",
    "    while (len(fibonacci) < x):\n",
    "        fibonacci.append(fibonacci[-1] + fibonacci[-2])\n",
    "        \n",
    "        \n",
    "    return fibonacci"
   ]
  },
  {
   "cell_type": "code",
   "execution_count": 24,
   "id": "3b18dd60",
   "metadata": {},
   "outputs": [
    {
     "name": "stdout",
     "output_type": "stream",
     "text": [
      "¿Cuantos números de fibonacci quieres?19\n"
     ]
    },
    {
     "data": {
      "text/plain": [
       "[0, 1, 1, 2, 3, 5, 8, 13, 21, 34, 55, 89, 144, 233, 377, 610, 987, 1597, 2584]"
      ]
     },
     "execution_count": 24,
     "metadata": {},
     "output_type": "execute_result"
    }
   ],
   "source": [
    "num = int(input(\"¿Cuantos números de fibonacci quieres?\"))\n",
    "\n",
    "fibo(num)"
   ]
  },
  {
   "cell_type": "code",
   "execution_count": null,
   "id": "b74351e6",
   "metadata": {},
   "outputs": [],
   "source": []
  }
 ],
 "metadata": {
  "kernelspec": {
   "display_name": "Python 3 (ipykernel)",
   "language": "python",
   "name": "python3"
  },
  "language_info": {
   "codemirror_mode": {
    "name": "ipython",
    "version": 3
   },
   "file_extension": ".py",
   "mimetype": "text/x-python",
   "name": "python",
   "nbconvert_exporter": "python",
   "pygments_lexer": "ipython3",
   "version": "3.8.10"
  }
 },
 "nbformat": 4,
 "nbformat_minor": 5
}

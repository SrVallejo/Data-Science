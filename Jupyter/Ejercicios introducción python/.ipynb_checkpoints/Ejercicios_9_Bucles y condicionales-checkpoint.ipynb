{
 "cells": [
  {
   "cell_type": "markdown",
   "id": "68d27119",
   "metadata": {},
   "source": [
    "*Creado por*\n",
    "\n",
    "*Isabel Maniega*"
   ]
  },
  {
   "cell_type": "markdown",
   "id": "59610b52",
   "metadata": {},
   "source": [
    "# Ejercicio 1"
   ]
  },
  {
   "cell_type": "markdown",
   "id": "5bdb2954",
   "metadata": {},
   "source": [
    "Algo típico en algunos proyectos, podría ser programar cosas según ciertas normativas o especificaciones."
   ]
  },
  {
   "cell_type": "markdown",
   "id": "20adfc9d",
   "metadata": {},
   "source": [
    "Nos imaginaremos el siguiente supuesto."
   ]
  },
  {
   "cell_type": "markdown",
   "id": "ada8f383",
   "metadata": {},
   "source": [
    "Es demasiado simple, y no simula algo real concreto, pero nos va a permitir repasar los condicionales."
   ]
  },
  {
   "cell_type": "code",
   "execution_count": 1,
   "id": "703163ca",
   "metadata": {},
   "outputs": [],
   "source": [
    "# Condicionales\n",
    "# if ....!=....: \n",
    "# elif.... == ...:\n",
    "# else:\n",
    "\n",
    "# Signos:\n",
    "# != distinto de\n",
    "# == igual a\n",
    "# >= mayor o igual\n",
    "# <= menor o igual\n",
    "\n",
    "# Continue / break\n",
    "# Bucle for break --> para la iteración (recorrer)\n",
    "# Bucle for continue --> sigue a otro valor"
   ]
  },
  {
   "cell_type": "markdown",
   "id": "9b702669",
   "metadata": {},
   "source": [
    "Dado este listado de números:"
   ]
  },
  {
   "cell_type": "markdown",
   "id": "48fb8e64",
   "metadata": {},
   "source": [
    "-3, 150, 0, 499, 500, 1200, -350, 0, 750, 25"
   ]
  },
  {
   "cell_type": "markdown",
   "id": "bba97c83",
   "metadata": {},
   "source": [
    "Haz un pequeño algoritmo que haga lo siguiente:\n",
    "* Si el número es negativo debe imprimir lo siguiente **el valor es negativo**\n",
    "* Si es 0 debe imprimir un mensaje que indique: **0**\n",
    "* Si se encuentra entre 0 (no incluido) y 200 (si incluido), imprime **0,200**\n",
    "* Si se encuentra entre 200 (no incluido) y 500 (no incluido), debe imprimir **(200, 500)**\n",
    "* Si es 500 debe **continuar** sin hacer nada\n",
    "* Si se encuentra entre 500 (no incluido) y 1000 (no incluido) debe **saltar automaticamente y dejar de testear** (parar)\n",
    "* Para el resto de números, debe decir: **valor demasiado grande, desde 1000, en adelante**"
   ]
  },
  {
   "cell_type": "code",
   "execution_count": 5,
   "id": "95ad170c",
   "metadata": {},
   "outputs": [
    {
     "name": "stdout",
     "output_type": "stream",
     "text": [
      "El valor es negativo\n",
      "0,200\n",
      "0\n",
      "(200,500)\n",
      "Valor demasiado grande, desde 1000, en adelante\n",
      "El valor es negativo\n",
      "0\n"
     ]
    }
   ],
   "source": [
    "numbers = [\n",
    "    -3, 150, 0, \n",
    "    499, 500, 1200, \n",
    "    -350, 0, 750, \n",
    "    25\n",
    "    ]\n",
    "\n",
    "for num in numbers:\n",
    "    if num < 0: print(\"El valor es negativo\")\n",
    "    elif num == 0: print(0)\n",
    "    elif num <= 200: print(\"0,200\")\n",
    "    elif num < 500: print (\"(200,500)\")\n",
    "    elif num == 500: continue\n",
    "    elif num < 1000: break\n",
    "    else: print(\"Valor demasiado grande, desde 1000, en adelante\")"
   ]
  },
  {
   "cell_type": "markdown",
   "id": "e4b05d52",
   "metadata": {},
   "source": [
    "# Ejercicio 2"
   ]
  },
  {
   "cell_type": "markdown",
   "id": "ff33a8b2",
   "metadata": {},
   "source": [
    "Dada la lista de nombre \"listado\" y de valores: 10, 20, 20, 30, 40, 40, 40"
   ]
  },
  {
   "cell_type": "markdown",
   "id": "8966f85e",
   "metadata": {},
   "source": [
    "**1)** Crea la lista e imprimela"
   ]
  },
  {
   "cell_type": "code",
   "execution_count": 10,
   "id": "c98ffa7f",
   "metadata": {},
   "outputs": [
    {
     "data": {
      "text/plain": [
       "[10, 20, 20, 30, 40, 40, 40]"
      ]
     },
     "execution_count": 10,
     "metadata": {},
     "output_type": "execute_result"
    }
   ],
   "source": [
    "numbers = [\n",
    "    10, 20, 20,\n",
    "    30, 40, 40, \n",
    "    40\n",
    "    ]\n",
    "\n",
    "numbers"
   ]
  },
  {
   "cell_type": "markdown",
   "id": "9170d4b8",
   "metadata": {},
   "source": [
    "**2)** Haz un set de esa lista"
   ]
  },
  {
   "cell_type": "code",
   "execution_count": 7,
   "id": "a935af5e",
   "metadata": {},
   "outputs": [
    {
     "data": {
      "text/plain": [
       "{10, 20, 30, 40}"
      ]
     },
     "execution_count": 7,
     "metadata": {},
     "output_type": "execute_result"
    }
   ],
   "source": [
    "set(numbers)"
   ]
  },
  {
   "cell_type": "markdown",
   "id": "0b025e98",
   "metadata": {},
   "source": [
    "**3)** Trata de buscar los números NO REPETIDOS de esa lista (sin usar set)\n",
    "\n",
    "**Pista: Puedes almacenar todo en una nueva lista**"
   ]
  },
  {
   "cell_type": "code",
   "execution_count": 24,
   "id": "13b2fc86",
   "metadata": {},
   "outputs": [
    {
     "data": {
      "text/plain": [
       "[10, 20, 30, 40]"
      ]
     },
     "execution_count": 24,
     "metadata": {},
     "output_type": "execute_result"
    }
   ],
   "source": [
    "numbers = [\n",
    "    10, 20, 20, \n",
    "    30, 40, 40, \n",
    "    40\n",
    "    ]\n",
    "new_numbers = []\n",
    "\n",
    "for i in range(0,len(numbers)):\n",
    "    if numbers[i] not in new_numbers:\n",
    "        new_numbers.append(numbers[i])\n",
    "\n",
    "new_numbers"
   ]
  },
  {
   "cell_type": "code",
   "execution_count": 27,
   "id": "7d19d74c",
   "metadata": {},
   "outputs": [
    {
     "data": {
      "text/plain": [
       "[10, 30]"
      ]
     },
     "execution_count": 27,
     "metadata": {},
     "output_type": "execute_result"
    }
   ],
   "source": [
    "numbers = [\n",
    "    10, 20, 20, \n",
    "    30, 40, 40, \n",
    "    40\n",
    "    ]\n",
    "\n",
    "new_numbers = []\n",
    "\n",
    "for i in range(0,len(numbers)):\n",
    "    if numbers.count(numbers[i])== 1:\n",
    "        new_numbers.append(numbers[i])\n",
    "\n",
    "new_numbers"
   ]
  },
  {
   "cell_type": "markdown",
   "id": "77f3afff",
   "metadata": {},
   "source": [
    "# Ejercicio 3"
   ]
  },
  {
   "cell_type": "markdown",
   "id": "8106f0ea",
   "metadata": {},
   "source": [
    "Dados estos clientes:"
   ]
  },
  {
   "cell_type": "markdown",
   "id": "70b751a0",
   "metadata": {},
   "source": [
    "* Usando el continue/break"
   ]
  },
  {
   "cell_type": "markdown",
   "id": "acf10424",
   "metadata": {},
   "source": [
    "Trata de averiguar si un cliente concreto se encuentra en la BBDD (Base de Datos)"
   ]
  },
  {
   "cell_type": "markdown",
   "id": "0eb878a1",
   "metadata": {},
   "source": [
    "\"Ana Pérez\", \"Juan García\", \"Andres Álvarez\", \"Luis Ramos\", \"Pedro Cadenas\", \"Estefanía Miguélez\", \"Alberto Delgado\", \"Susana Castro\", \"Luis González\""
   ]
  },
  {
   "cell_type": "code",
   "execution_count": 28,
   "id": "a10bf971",
   "metadata": {},
   "outputs": [],
   "source": [
    "employees = [\n",
    "    \"Ana Pérez\", \"Juan García\", \"Andres Álvarez\", \n",
    "    \"Luis Ramos\", \"Pedro Cadenas\", \"Estefanía Miguélez\", \n",
    "    \"Alberto Delgado\", \"Susana Castro\", \"Luis González\"\n",
    "    ]\n"
   ]
  },
  {
   "cell_type": "code",
   "execution_count": 29,
   "id": "27914c8a",
   "metadata": {},
   "outputs": [
    {
     "name": "stdout",
     "output_type": "stream",
     "text": [
      "Se encuentra en la lista\n"
     ]
    }
   ],
   "source": [
    "##Metodo 1\n",
    "if \"Luis González\" in employees: print(\"Se encuentra en la lista\")\n",
    "else: print(\"No se encuentra en la lista\")"
   ]
  },
  {
   "cell_type": "code",
   "execution_count": 32,
   "id": "a6faa9d6",
   "metadata": {},
   "outputs": [
    {
     "name": "stdout",
     "output_type": "stream",
     "text": [
      "Se encuentra en la lista\n"
     ]
    }
   ],
   "source": [
    "##Metodo 2\n",
    "\n",
    "finded = False\n",
    "\n",
    "for name in employees:\n",
    "    if name == \"Estefanía Miguélez\":\n",
    "        finded = True\n",
    "        break\n",
    "\n",
    "if finded: print(\"Se encuentra en la lista\")\n",
    "else: print(\"No se encuentra en la lista\")"
   ]
  },
  {
   "cell_type": "markdown",
   "id": "4c4e23e1",
   "metadata": {},
   "source": [
    "*Creado por*\n",
    "\n",
    "*Isabel Maniega*"
   ]
  }
 ],
 "metadata": {
  "kernelspec": {
   "display_name": "Python 3 (ipykernel)",
   "language": "python",
   "name": "python3"
  },
  "language_info": {
   "codemirror_mode": {
    "name": "ipython",
    "version": 3
   },
   "file_extension": ".py",
   "mimetype": "text/x-python",
   "name": "python",
   "nbconvert_exporter": "python",
   "pygments_lexer": "ipython3",
   "version": "3.8.10"
  }
 },
 "nbformat": 4,
 "nbformat_minor": 5
}

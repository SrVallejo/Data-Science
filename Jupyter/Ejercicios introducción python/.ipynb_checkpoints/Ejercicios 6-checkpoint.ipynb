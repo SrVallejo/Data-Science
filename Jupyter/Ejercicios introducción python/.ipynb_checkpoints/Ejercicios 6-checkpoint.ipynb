{
 "cells": [
  {
   "cell_type": "code",
   "execution_count": 47,
   "id": "55978804",
   "metadata": {},
   "outputs": [
    {
     "name": "stdout",
     "output_type": "stream",
     "text": [
      "Collecting matplotlib\n",
      "  Downloading matplotlib-3.5.2-cp38-cp38-win_amd64.whl (7.2 MB)\n",
      "     ---------------------------------------- 7.2/7.2 MB 32.9 MB/s eta 0:00:00\n",
      "Requirement already satisfied: python-dateutil>=2.7 in c:\\users\\usuario\\appdata\\local\\programs\\python\\python38\\lib\\site-packages (from matplotlib) (2.8.2)\n",
      "Collecting kiwisolver>=1.0.1\n",
      "  Downloading kiwisolver-1.4.3-cp38-cp38-win_amd64.whl (55 kB)\n",
      "     ---------------------------------------- 55.4/55.4 kB 2.8 MB/s eta 0:00:00\n",
      "Requirement already satisfied: pyparsing>=2.2.1 in c:\\users\\usuario\\appdata\\local\\programs\\python\\python38\\lib\\site-packages (from matplotlib) (3.0.9)\n",
      "Collecting fonttools>=4.22.0\n",
      "  Downloading fonttools-4.34.0-py3-none-any.whl (943 kB)\n",
      "     -------------------------------------- 943.8/943.8 kB 9.9 MB/s eta 0:00:00\n",
      "Collecting pillow>=6.2.0\n",
      "  Downloading Pillow-9.2.0-cp38-cp38-win_amd64.whl (3.3 MB)\n",
      "     ---------------------------------------- 3.3/3.3 MB 26.1 MB/s eta 0:00:00\n",
      "Collecting cycler>=0.10\n",
      "  Downloading cycler-0.11.0-py3-none-any.whl (6.4 kB)\n",
      "Requirement already satisfied: packaging>=20.0 in c:\\users\\usuario\\appdata\\local\\programs\\python\\python38\\lib\\site-packages (from matplotlib) (21.3)\n",
      "Requirement already satisfied: numpy>=1.17 in c:\\users\\usuario\\appdata\\local\\programs\\python\\python38\\lib\\site-packages (from matplotlib) (1.23.0)\n",
      "Requirement already satisfied: six>=1.5 in c:\\users\\usuario\\appdata\\local\\programs\\python\\python38\\lib\\site-packages (from python-dateutil>=2.7->matplotlib) (1.16.0)\n",
      "Installing collected packages: pillow, kiwisolver, fonttools, cycler, matplotlib\n",
      "Successfully installed cycler-0.11.0 fonttools-4.34.0 kiwisolver-1.4.3 matplotlib-3.5.2 pillow-9.2.0\n",
      "Note: you may need to restart the kernel to use updated packages.\n"
     ]
    }
   ],
   "source": [
    "pip install matplotlib"
   ]
  },
  {
   "cell_type": "code",
   "execution_count": 48,
   "id": "5e143753",
   "metadata": {},
   "outputs": [
    {
     "name": "stderr",
     "output_type": "stream",
     "text": [
      "Matplotlib is building the font cache; this may take a moment.\n"
     ]
    }
   ],
   "source": [
    "import pandas as pd\n",
    "import numpy as np\n",
    "import matplotlib.pyplot as plt"
   ]
  },
  {
   "cell_type": "markdown",
   "id": "6ace16ab",
   "metadata": {},
   "source": [
    "## Ejercicio 1"
   ]
  },
  {
   "cell_type": "code",
   "execution_count": 30,
   "id": "cbd92ce4",
   "metadata": {},
   "outputs": [
    {
     "name": "stdout",
     "output_type": "stream",
     "text": [
      "[30, 20, 10, 50, 40]\n",
      "10\n",
      "El valor minimo de la lista es: 10\n"
     ]
    }
   ],
   "source": [
    "#1)\n",
    "\n",
    "listado = [30, 20, 10, 50, 40]\n",
    "print(listado)\n",
    "\n",
    "#2)\n",
    "\n",
    "print(min(listado))\n",
    "\n",
    "#3\n",
    "\n",
    "min_num = listado[0]\n",
    "for x in listado:\n",
    "    if min_num > x:\n",
    "        min_num = x\n",
    "\n",
    "print (f\"El valor minimo de la lista es: {min_num}\")\n",
    "\n"
   ]
  },
  {
   "cell_type": "markdown",
   "id": "9c9332e7",
   "metadata": {},
   "source": [
    "## Ejercicio 2"
   ]
  },
  {
   "cell_type": "code",
   "execution_count": 13,
   "id": "e1191d51",
   "metadata": {},
   "outputs": [
    {
     "name": "stdout",
     "output_type": "stream",
     "text": [
      "[30, 20, 10, 50, 40]\n",
      "50\n",
      "El valor maximo de la lista es: 50\n"
     ]
    }
   ],
   "source": [
    "#1)\n",
    "\n",
    "listado = [30, 20, 10, 50, 40]\n",
    "print(listado)\n",
    "\n",
    "#2)\n",
    "\n",
    "print(max(listado))\n",
    "\n",
    "#3\n",
    "\n",
    "max_num = listado[0]\n",
    "for x in listado:\n",
    "    if max_num < x:\n",
    "        max_num = x\n",
    "\n",
    "print (f\"El valor maximo de la lista es: {max_num}\")"
   ]
  },
  {
   "cell_type": "markdown",
   "id": "1d73b7a9",
   "metadata": {},
   "source": [
    "## Ejercicio 3"
   ]
  },
  {
   "cell_type": "code",
   "execution_count": 28,
   "id": "ee78d1e5",
   "metadata": {},
   "outputs": [
    {
     "name": "stdout",
     "output_type": "stream",
     "text": [
      "[30, 20, 10, 50, 40]\n",
      "Listado ordenado función sort: [10, 20, 30, 40, 50]\n",
      "Listado ordenado con bucle: [10, 20, 30, 40, 50]\n"
     ]
    }
   ],
   "source": [
    "#1)\n",
    "\n",
    "listado = [30, 20, 10, 50, 40]\n",
    "print(listado)\n",
    "\n",
    "#2)\n",
    "\n",
    "listado.sort()\n",
    "print(f\"Listado ordenado función sort: {listado}\")\n",
    "\n",
    "#3\n",
    "\n",
    "listado = [30, 20, 10, 50, 40]\n",
    "listado_aux = []\n",
    "\n",
    "\n",
    "for i in range(len(listado)):\n",
    "    pos_min = 0\n",
    "    mini = listado[0]\n",
    "    for j in range(len(listado)):\n",
    "        if listado[j] < mini:\n",
    "            mini = listado[j]\n",
    "            pos_min = j\n",
    "    del listado[pos_min]\n",
    "    listado_aux.append(mini)\n",
    "\n",
    "\n",
    "for x in listado_aux:\n",
    "    listado.append(x)\n",
    "    \n",
    "print(f\"Listado ordenado con bucle: {listado}\")"
   ]
  },
  {
   "cell_type": "markdown",
   "id": "3170532c",
   "metadata": {},
   "source": [
    "## Ejercicio 4"
   ]
  },
  {
   "cell_type": "code",
   "execution_count": 39,
   "id": "ecfb7382",
   "metadata": {},
   "outputs": [
    {
     "name": "stdout",
     "output_type": "stream",
     "text": [
      "[30, 20, 10, 50, 40]\n",
      "Listado ordenado función sort: [50, 40, 30, 20, 10]\n",
      "Listado ordenado con bucle: [50, 40, 30, 20, 10]\n"
     ]
    }
   ],
   "source": [
    "#1)\n",
    "\n",
    "listado = [30, 20, 10, 50, 40]\n",
    "print(listado)\n",
    "\n",
    "#2)\n",
    "\n",
    "listado.sort(reverse = True)\n",
    "#listado.reverse()\n",
    "print(f\"Listado ordenado función sort: {listado}\")\n",
    "\n",
    "#3\n",
    "\n",
    "listado = [30, 20, 10, 50, 40]\n",
    "listado_aux = []\n",
    "\n",
    "\n",
    "for i in range(len(listado)):\n",
    "    pos_max = 0\n",
    "    maxi = listado[0]\n",
    "    for j in range(len(listado)):\n",
    "        if listado[j] > maxi:\n",
    "            maxi = listado[j]\n",
    "            pos_max = j\n",
    "    del listado[pos_max]\n",
    "    listado_aux.append(maxi)\n",
    "\n",
    "\n",
    "for x in listado_aux:\n",
    "    listado.append(x)\n",
    "    \n",
    "print(f\"Listado ordenado con bucle: {listado}\")"
   ]
  },
  {
   "cell_type": "markdown",
   "id": "c1ce31a5",
   "metadata": {},
   "source": [
    "## Ejercicio 5"
   ]
  },
  {
   "cell_type": "code",
   "execution_count": 87,
   "id": "8cac6c2c",
   "metadata": {},
   "outputs": [
    {
     "name": "stdout",
     "output_type": "stream",
     "text": [
      "\n",
      "1)\n",
      "\n",
      "Lista modulos: ['Big Data', 'Python', 'Algoritmos', 'Machine Learning', 'Deep Learning', 'NLP']\n",
      "\n",
      "Big Data\n",
      "Python\n",
      "Algoritmos\n",
      "Machine Learning\n",
      "Deep Learning\n",
      "NLP\n",
      "\n",
      "\n",
      "2)\n",
      "\n",
      "Lista esenciales: ['Python', 'Algoritmos']\n",
      "\n",
      "\n",
      "3)\n",
      "\n",
      " Data frame con columna horas \n",
      "            Modulos  Horas\n",
      "0          Big Data     25\n",
      "1            Python     15\n",
      "2        Algoritmos      5\n",
      "3  Machine Learning     15\n",
      "4     Deep Learning      5\n",
      "5               NLP     10\n",
      "\n",
      "\n",
      "4)\n",
      "\n",
      "Columna Horas \n",
      "\n",
      "   Horas\n",
      "0     25\n",
      "1     15\n",
      "2      5\n",
      "3     15\n",
      "4      5\n",
      "5     10\n",
      "\n",
      "\n",
      "5)\n",
      "\n",
      "Gráfico de horas (se encuentra abajo)\n",
      "\n",
      "\n",
      "6)\n",
      "\n",
      "Módulos con 20< horas\n",
      "    Modulos\n",
      "0  Big Data\n",
      "\n",
      "\n",
      "7)\n",
      "\n",
      "Módulos con 10< horas\n",
      "            Modulos\n",
      "0          Big Data\n",
      "1            Python\n",
      "3  Machine Learning\n",
      "5               NLP\n",
      "\n",
      "\n",
      "8)\n",
      "\n",
      "Módulos con 26< horas\n",
      "No hay registros\n",
      "\n",
      "\n",
      "9)\n",
      "\n",
      "Data frame con nueva columna\n",
      "\n",
      "            Modulos  Horas  Docentes\n",
      "0          Big Data     25    Erique\n",
      "1            Python     15    Susana\n",
      "2        Algoritmos      5      Juan\n",
      "3  Machine Learning     15       Ana\n",
      "4     Deep Learning      5     Laura\n",
      "5               NLP     10  Patricia\n",
      "\n",
      "\n"
     ]
    },
    {
     "data": {
      "image/png": "[encoded data removed]",
      "text/plain": [
       "<Figure size 432x288 with 1 Axes>"
      ]
     },
     "metadata": {
      "needs_background": "light"
     },
     "output_type": "display_data"
    }
   ],
   "source": [
    "#1)\n",
    "\n",
    "modulos = [\"Big Data\", \"Python\", \"Algoritmos\", \"Machine Learning\", \"Deep Learning\", \"NLP\"]\n",
    "\n",
    "print(f\"\\n1)\\n\\nLista modulos: {modulos}\\n\")\n",
    "for element in modulos:\n",
    "    print(element)\n",
    "\n",
    "#2)\n",
    "\n",
    "esenciales =[]\n",
    "\n",
    "for element in modulos:\n",
    "    if element == \"Python\" or element == \"Algoritmos\":\n",
    "        esenciales.append(element)\n",
    "        \n",
    "print (f\"\\n\\n2)\\n\\nLista esenciales: {esenciales}\")\n",
    "\n",
    "#3)\n",
    "\n",
    "horas = [25, 15, 5, 15, 5, 10]\n",
    "aux_dict = {\"Modulos\":modulos,\"Horas\":horas}\n",
    "\n",
    "df = pd.DataFrame(aux_dict)\n",
    "print(f\"\\n\\n3)\\n\\n Data frame con columna horas \\n{df}\")\n",
    "\n",
    "#4)\n",
    "\n",
    "print(\"\\n\\n4)\\n\\nColumna Horas \\n\")\n",
    "print(df[[\"Horas\"]])\n",
    "\n",
    "#5)\n",
    "\n",
    "print(\"\\n\\n5)\\n\\nGráfico de horas (se encuentra abajo)\")\n",
    "df.Horas.plot(kind=\"bar\")\n",
    "\n",
    "#6)\n",
    "\n",
    "print(\"\\n\\n6)\\n\\nMódulos con 20< horas\")\n",
    "df_aux = df[df[\"Horas\"] >= 20]\n",
    "\n",
    "if df_aux.size != 0:\n",
    "    print(df_aux[[\"Modulos\"]])\n",
    "else:\n",
    "    print(\"No hay registros\")\n",
    "\n",
    "#7)\n",
    "\n",
    "print(\"\\n\\n7)\\n\\nMódulos con 10< horas\")\n",
    "df_aux = df[df[\"Horas\"] >= 10]\n",
    "\n",
    "if df_aux.size != 0:\n",
    "    print(df_aux[[\"Modulos\"]])\n",
    "else:\n",
    "    print(\"No hay registros\")\n",
    "\n",
    "\n",
    "#8)\n",
    "\n",
    "print(\"\\n\\n8)\\n\\nMódulos con 26< horas\")\n",
    "df_aux = df[df[\"Horas\"] >= 26]\n",
    "\n",
    "if df_aux.size != 0:\n",
    "    print(df_aux[[\"Modulos\"]])\n",
    "else:\n",
    "    print(\"No hay registros\")\n",
    "\n",
    "\n",
    "#9)\n",
    "\n",
    "docentes = [\"Erique\", \"Susana\", \"Juan\", \"Ana\", \"Laura\", \"Patricia\"]\n",
    "df[\"Docentes\"]=docentes\n",
    "\n",
    "print(\"\\n\\n9)\\n\\nData frame con nueva columna\\n\")\n",
    "print(df)\n",
    "\n",
    "print(\"\\n\")"
   ]
  },
  {
   "cell_type": "markdown",
   "id": "2c5f8b51",
   "metadata": {},
   "source": [
    "## Quicksort"
   ]
  },
  {
   "cell_type": "code",
   "execution_count": 1,
   "id": "eb827431",
   "metadata": {},
   "outputs": [
    {
     "data": {
      "text/plain": [
       "[10, 20, 30, 40, 50]"
      ]
     },
     "execution_count": 1,
     "metadata": {},
     "output_type": "execute_result"
    }
   ],
   "source": [
    "def partition(left, right, nums):\n",
    "    # Last element will be the pivot and the first element the pointer\n",
    "    pivot = nums[right] \n",
    "    ptr = left\n",
    "    for i in range(left, right):\n",
    "        if nums[i] <= pivot:\n",
    "            # Swapping values smaller than the pivot to the front\n",
    "            nums[i], nums[ptr] = nums[ptr], nums[i]\n",
    "            ptr += 1\n",
    "    # Finally swapping the last element with the pointer indexed number\n",
    "    nums[ptr], nums[right] = nums[right], nums[ptr]\n",
    "    return ptr\n",
    "\n",
    "def quicksort(left, right, nums):\n",
    "    if len(nums) == 1: #Cuando el array ya es de 1 solo elemento, lo devuelve\n",
    "        return nums\n",
    "    if left < right:   #¿???\n",
    "        pi = partition(left, right, nums)\n",
    "        quicksort(left, pi-1, nums)  \n",
    "        quicksort(pi+1, right, nums)\n",
    "    return nums\n",
    "\n",
    "\n",
    "listado = [30, 20, 10, 50, 40]\n",
    "quicksort(0,len(listado)-1,listado)"
   ]
  },
  {
   "cell_type": "code",
   "execution_count": null,
   "id": "87022d5e",
   "metadata": {},
   "outputs": [],
   "source": []
  }
 ],
 "metadata": {
  "kernelspec": {
   "display_name": "Python 3 (ipykernel)",
   "language": "python",
   "name": "python3"
  },
  "language_info": {
   "codemirror_mode": {
    "name": "ipython",
    "version": 3
   },
   "file_extension": ".py",
   "mimetype": "text/x-python",
   "name": "python",
   "nbconvert_exporter": "python",
   "pygments_lexer": "ipython3",
   "version": "3.8.10"
  }
 },
 "nbformat": 4,
 "nbformat_minor": 5
}

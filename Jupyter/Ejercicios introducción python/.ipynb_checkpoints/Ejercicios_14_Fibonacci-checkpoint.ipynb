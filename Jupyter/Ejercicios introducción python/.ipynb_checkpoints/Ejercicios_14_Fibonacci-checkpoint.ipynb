{
 "cells": [
  {
   "cell_type": "code",
   "execution_count": 15,
   "id": "01c43776",
   "metadata": {},
   "outputs": [],
   "source": [
    "import numpy as np"
   ]
  },
  {
   "cell_type": "markdown",
   "id": "9a57ec2d",
   "metadata": {},
   "source": [
    "*Creado por:*\n",
    "    \n",
    "*Isabel Maniega*"
   ]
  },
  {
   "cell_type": "markdown",
   "id": "85627aa4",
   "metadata": {},
   "source": [
    "# Ejercicio 1"
   ]
  },
  {
   "cell_type": "markdown",
   "id": "c846c627",
   "metadata": {},
   "source": [
    "Cada número es la suma de los 2 anteriores:"
   ]
  },
  {
   "cell_type": "markdown",
   "id": "482ebdb6",
   "metadata": {},
   "source": [
    "0-1-1-2-3-5-8-13-21-34..."
   ]
  },
  {
   "cell_type": "markdown",
   "id": "fb9ac12c",
   "metadata": {},
   "source": [
    "Se pide programar esa secuencia con Python."
   ]
  },
  {
   "cell_type": "markdown",
   "id": "4a9610b0",
   "metadata": {},
   "source": [
    "Nota:"
   ]
  },
  {
   "cell_type": "markdown",
   "id": "079934a6",
   "metadata": {},
   "source": [
    "Apendiza elementos hasta tener 10 primeros resultados.\n",
    "\n",
    "(los 10 números indicados desde 0 hasta 34)\n",
    "\n",
    "**Si sabes, hazlo de varias formas diferentes**"
   ]
  },
  {
   "cell_type": "code",
   "execution_count": 13,
   "id": "d203e6b9",
   "metadata": {},
   "outputs": [],
   "source": [
    "#Devuelve una lista de x números de la serie de fibonacci\n",
    "def fibo_list(x):\n",
    "    #inicializamos la lista e introducimos los 2 primeros valores\n",
    "    fibonacci = []\n",
    "    if x > 0: fibonacci.append(0)\n",
    "    if x > 1: fibonacci.append(1)\n",
    "        \n",
    "        \n",
    "    #apendizamos valores de fibonacci a la lista, sumando los 2 ultimos valores\n",
    "    while (len(fibonacci) < x):\n",
    "        fibonacci.append(fibonacci[-1] + fibonacci[-2])\n",
    "        \n",
    "        \n",
    "    return fibonacci"
   ]
  },
  {
   "cell_type": "code",
   "execution_count": 26,
   "id": "6c478c94",
   "metadata": {},
   "outputs": [
    {
     "name": "stdout",
     "output_type": "stream",
     "text": [
      "¿Cuantos números de fibonacci quieres?  10\n"
     ]
    },
    {
     "data": {
      "text/plain": [
       "[0, 1, 1, 2, 3, 5, 8, 13, 21, 34]"
      ]
     },
     "execution_count": 26,
     "metadata": {},
     "output_type": "execute_result"
    }
   ],
   "source": [
    "num = int(input(\"¿Cuantos números de fibonacci quieres?  \"))\n",
    "\n",
    "fibo_list(num)"
   ]
  },
  {
   "cell_type": "code",
   "execution_count": 23,
   "id": "b3648302",
   "metadata": {},
   "outputs": [],
   "source": [
    "#Devuelve un array de x números de la serie de fibonacci\n",
    "def fibo_array(x):\n",
    "    #inicializamos la lista e introducimos los 2 primeros valores\n",
    "    fibonacci = np.arange(x)\n",
    "    if x > 0: fibonacci[0]\n",
    "    if x > 1: fibonacci[1]\n",
    "        \n",
    "        \n",
    "    #apendizamos valores de fibonacci a la lista, sumando los 2 ultimos valores\n",
    "    for i in range(2,x):\n",
    "        fibonacci[i]=fibonacci[i-1]+fibonacci[i-2]\n",
    "        \n",
    "        \n",
    "    return fibonacci"
   ]
  },
  {
   "cell_type": "code",
   "execution_count": 24,
   "id": "e282869b",
   "metadata": {},
   "outputs": [
    {
     "name": "stdout",
     "output_type": "stream",
     "text": [
      "¿Cuantos números de fibonacci quieres?  10\n"
     ]
    },
    {
     "data": {
      "text/plain": [
       "array([ 0,  1,  1,  2,  3,  5,  8, 13, 21, 34])"
      ]
     },
     "execution_count": 24,
     "metadata": {},
     "output_type": "execute_result"
    }
   ],
   "source": [
    "num = int(input(\"¿Cuantos números de fibonacci quieres?  \"))\n",
    "\n",
    "fibo_array(num)"
   ]
  },
  {
   "cell_type": "markdown",
   "id": "b0837f63",
   "metadata": {},
   "source": [
    "# Ejercicio 2"
   ]
  },
  {
   "cell_type": "markdown",
   "id": "f8ec848c",
   "metadata": {},
   "source": [
    "Cada número es la suma de los 2 anteriores:"
   ]
  },
  {
   "cell_type": "markdown",
   "id": "4135f65d",
   "metadata": {},
   "source": [
    "0-1-1-2-3-5-8-13-21-34..."
   ]
  },
  {
   "cell_type": "markdown",
   "id": "6fdd1278",
   "metadata": {},
   "source": [
    "Se pide programar para los números de fibonacci mayores de 1000"
   ]
  },
  {
   "cell_type": "code",
   "execution_count": 33,
   "id": "37e7176d",
   "metadata": {},
   "outputs": [],
   "source": [
    "#devuelve una lista de números fibonacci entre 2 valores inicio y fin (ambos incluidos), \n",
    "#siempre que se cumpla que ambos sean números enteros positivos e inicio < fin\n",
    "def fibonacci_min_max(inicio, fin):\n",
    "    fibonacci = []\n",
    "    if inicio > 0: fibonacci.append(0)\n",
    "    if inicio > 1: fibonacci.append(1)\n",
    "    \n",
    "    sum = 1\n",
    "    while(sum < fin):\n",
    "        fibonacci.append(sum)\n",
    "        sum += fibonacci[-2]\n",
    "    \n",
    "    while(fibonacci[0] < inicio):\n",
    "        del fibonacci[0]\n",
    "    \n",
    "    return fibonacci"
   ]
  },
  {
   "cell_type": "code",
   "execution_count": 34,
   "id": "6a60863d",
   "metadata": {},
   "outputs": [
    {
     "data": {
      "text/plain": [
       "[1597, 2584, 4181, 6765, 10946, 17711, 28657, 46368, 75025]"
      ]
     },
     "execution_count": 34,
     "metadata": {},
     "output_type": "execute_result"
    }
   ],
   "source": [
    "fibonacci_min_max(1000,100000)"
   ]
  },
  {
   "cell_type": "markdown",
   "id": "89967266",
   "metadata": {},
   "source": [
    "# Ejercicio 3"
   ]
  },
  {
   "cell_type": "markdown",
   "id": "c5db2029",
   "metadata": {},
   "source": [
    "Se pide crear un NUEVO dataframe para cada uno de los siguientes casos\n",
    "planteados y que están relacionados con el Titanic DataSet\n",
    "(antes debéis de cargar el archivo como df)\n",
    "**1) Leer el archivo train.csv del titanic dataset**<br><br>\n",
    "**2) Crear un dataframe de nombre df_sobreviven refiriéndose a un dataframe en el que todos los pasajeros sobreviven**<br>\n",
    "NOTA: si al principio no estás seguro del resultado, puedes usar value_counts() para comprobar tu resultado<br><br>\n",
    "**3) Crear un dataframe de nombre df__no_sobreviven refiriéndose a un dataframe en el que NINGUNO de los pasajeros sobrevive**<br><br>\n",
    "**4) DataFrame de hombres que no sobrevivieron en el titanic**<br><br>\n",
    "**5) DataFrame de hombres que si sobrevivieron en el titanic**<br><br>\n",
    "**6) DataFrame de mujeres que no sobrevivieron en el titanic**<br><br>\n",
    "**7) DataFrame de mujeres que si sobrevivieron en el titanic**<br><br>"
   ]
  },
  {
   "cell_type": "markdown",
   "id": "70283a73",
   "metadata": {},
   "source": [
    "*Creado por:*\n",
    "    \n",
    "*Isabel Maniega*"
   ]
  }
 ],
 "metadata": {
  "kernelspec": {
   "display_name": "Python 3 (ipykernel)",
   "language": "python",
   "name": "python3"
  },
  "language_info": {
   "codemirror_mode": {
    "name": "ipython",
    "version": 3
   },
   "file_extension": ".py",
   "mimetype": "text/x-python",
   "name": "python",
   "nbconvert_exporter": "python",
   "pygments_lexer": "ipython3",
   "version": "3.8.10"
  }
 },
 "nbformat": 4,
 "nbformat_minor": 5
}

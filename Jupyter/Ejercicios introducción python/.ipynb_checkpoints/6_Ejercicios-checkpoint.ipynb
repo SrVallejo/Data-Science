{
 "cells": [
  {
   "cell_type": "markdown",
   "id": "7d6b52c9",
   "metadata": {},
   "source": [
    "*Creado por:*\n",
    "\n",
    "*Isabel Maniega*"
   ]
  },
  {
   "cell_type": "markdown",
   "id": "14c085c6",
   "metadata": {},
   "source": [
    "# Ejercicio 1"
   ]
  },
  {
   "cell_type": "markdown",
   "id": "a5738a1b",
   "metadata": {},
   "source": [
    "Mínimo de una lista de números (lista de nombre \"listado\")"
   ]
  },
  {
   "cell_type": "markdown",
   "id": "c3d2d053",
   "metadata": {},
   "source": [
    "30, 20, 10, 50, 40"
   ]
  },
  {
   "cell_type": "markdown",
   "id": "c59dae93",
   "metadata": {},
   "source": [
    "**1)** Escribe el listado e ímprimelo"
   ]
  },
  {
   "cell_type": "markdown",
   "id": "ac7ea26b",
   "metadata": {},
   "source": [
    "**2)** Prueba con min(listado)"
   ]
  },
  {
   "cell_type": "markdown",
   "id": "6e43d460",
   "metadata": {},
   "source": [
    "**3)** Realiza lo mismo pero con bucles y condicionales"
   ]
  },
  {
   "cell_type": "markdown",
   "id": "513398b0",
   "metadata": {},
   "source": [
    "# Ejercicio 2"
   ]
  },
  {
   "cell_type": "markdown",
   "id": "0765a49c",
   "metadata": {},
   "source": [
    "Máximo de una lista de números (lista de nombre \"listado\")"
   ]
  },
  {
   "cell_type": "markdown",
   "id": "9cf8394b",
   "metadata": {},
   "source": [
    "30, 20, 10, 50, 40"
   ]
  },
  {
   "cell_type": "markdown",
   "id": "29829b97",
   "metadata": {},
   "source": [
    "**1)** Escribe el listado e ímprimelo"
   ]
  },
  {
   "cell_type": "markdown",
   "id": "7c7ced27",
   "metadata": {},
   "source": [
    "**2)** Prueba con max(listado)"
   ]
  },
  {
   "cell_type": "markdown",
   "id": "fcbde10e",
   "metadata": {},
   "source": [
    "**3)** Realiza lo mismo pero con bucles y condicionales"
   ]
  },
  {
   "cell_type": "markdown",
   "id": "f6fb27f3",
   "metadata": {},
   "source": [
    "* 15 minutos de descanso\n",
    "* 1 Hora para ejercicio\n",
    "# Volvemos a las 14:30"
   ]
  },
  {
   "cell_type": "markdown",
   "id": "f7845c7a",
   "metadata": {},
   "source": [
    "# Ejercicio 3"
   ]
  },
  {
   "cell_type": "markdown",
   "id": "11209a56",
   "metadata": {},
   "source": [
    "Ordena de menor a mayor un listado de números: 30, 20, 10, 50, 40 (de nombre \"listado\")"
   ]
  },
  {
   "cell_type": "markdown",
   "id": "edd2abb3",
   "metadata": {},
   "source": [
    "Pista: si quieres almacena esos números en una lista de nombre: \"listado_ascendente\""
   ]
  },
  {
   "cell_type": "markdown",
   "id": "c4ca9367",
   "metadata": {},
   "source": [
    "**1)** Escribe el listado e ímprimelo"
   ]
  },
  {
   "cell_type": "markdown",
   "id": "adf841da",
   "metadata": {},
   "source": [
    "**2)** Prueba a usar sort()"
   ]
  },
  {
   "cell_type": "markdown",
   "id": "a38e9319",
   "metadata": {},
   "source": [
    "**3)** Realiza lo mismo pero con bucles y condicionales"
   ]
  },
  {
   "cell_type": "markdown",
   "id": "8567cc50",
   "metadata": {},
   "source": [
    "# Ejercicio 4"
   ]
  },
  {
   "cell_type": "markdown",
   "id": "a4ad405c",
   "metadata": {},
   "source": [
    "Ordena de mayor a menor un listado de números: 30, 20, 10, 50, 40 (de nombre \"listado\")"
   ]
  },
  {
   "cell_type": "markdown",
   "id": "795c0c03",
   "metadata": {},
   "source": [
    "**1)** Escribe el listado e ímprimelo"
   ]
  },
  {
   "cell_type": "markdown",
   "id": "9f42ea3d",
   "metadata": {},
   "source": [
    "**2)** Prueba a usar sort()"
   ]
  },
  {
   "cell_type": "markdown",
   "id": "bcc15e6b",
   "metadata": {},
   "source": [
    "**3)** Realiza lo mismo pero con bucles y condicionales"
   ]
  },
  {
   "cell_type": "markdown",
   "id": "bbf6dbc5",
   "metadata": {},
   "source": [
    "# Ejercicio 5"
   ]
  },
  {
   "cell_type": "markdown",
   "id": "2ad57bc4",
   "metadata": {},
   "source": [
    "Escribe el código necesario en Python para:\n",
    "* almacenar con una lista de nombre \"modulos\" los siguientes materis de un programa de Ciencia de datos:\n",
    "\n",
    "**Big Data, Python, Algoritmos, Machine Learning, Deep Learning, NLP.**"
   ]
  },
  {
   "cell_type": "markdown",
   "id": "08c2b304",
   "metadata": {},
   "source": [
    "**1)** Imprime el listado y imprime los valores de uno en uno"
   ]
  },
  {
   "cell_type": "markdown",
   "id": "a377780a",
   "metadata": {},
   "source": [
    "**2)** Dentro de ese grupo de materias, existen unas materias que son básicas en todos los programas, y que forman la base de conocimientos inciales para afrontar con éxito el resto de un programa."
   ]
  },
  {
   "cell_type": "markdown",
   "id": "972050db",
   "metadata": {},
   "source": [
    "Las mismas son: Python y Algoritmos (aunque en la práctica hay más cosas)."
   ]
  },
  {
   "cell_type": "markdown",
   "id": "11acda86",
   "metadata": {},
   "source": [
    "Se pide almacenar las mismas en un listado secundario, de nombre: \"esenciales\""
   ]
  },
  {
   "cell_type": "markdown",
   "id": "fd0b038c",
   "metadata": {},
   "source": [
    "Imprime ese listado al terminar de almacenarlos"
   ]
  },
  {
   "cell_type": "markdown",
   "id": "3483b5f4",
   "metadata": {},
   "source": [
    "**3)** Crea un Dataframe, de nombre \"df\" con esa infromación en base a la siguiente relación de módulos y horas de clase."
   ]
  },
  {
   "cell_type": "markdown",
   "id": "da348add",
   "metadata": {},
   "source": [
    "**módulo:** Big Data, Python, Algoritmos, Machine Learning, deep Learning, NLP"
   ]
  },
  {
   "cell_type": "markdown",
   "id": "7a0d8a98",
   "metadata": {},
   "source": [
    "**horas:** 25, 15, 5, 15, 5, 10"
   ]
  },
  {
   "cell_type": "markdown",
   "id": "104358e2",
   "metadata": {},
   "source": [
    "**4)** De ese dataframe, selecciona la columna \"horas\" e imprimelas"
   ]
  },
  {
   "cell_type": "markdown",
   "id": "3adcd68f",
   "metadata": {},
   "source": [
    "**5)** Muestra el gráfico (plot) para la columna \"horas\""
   ]
  },
  {
   "cell_type": "markdown",
   "id": "070c9fd7",
   "metadata": {},
   "source": [
    "**6)** Selecciona solamente las materias aquellas que tienen 20 o más horas de dedicación"
   ]
  },
  {
   "cell_type": "markdown",
   "id": "5f17df9a",
   "metadata": {},
   "source": [
    "**7)** Selecciona solamente las materias aquellas que tienen menos 10 horas de dedicación"
   ]
  },
  {
   "cell_type": "markdown",
   "id": "b5f55bce",
   "metadata": {},
   "source": [
    "**8)** Selecciona solamente las materias (si es posible) aquellas que tienen mas de 26 horas de dedicación"
   ]
  },
  {
   "cell_type": "markdown",
   "id": "22705371",
   "metadata": {},
   "source": [
    "**9)** Apendiza una nueva columna llamada \"docente\" con el nombre del instructor de la materia. Y cuyos nombres serán: Erique, Susana, Juan, Ana, Laura, Patricia, Pedro"
   ]
  },
  {
   "cell_type": "markdown",
   "id": "0284f4d8",
   "metadata": {},
   "source": [
    "*Creado por:*\n",
    "\n",
    "*Isabel Maniega*"
   ]
  }
 ],
 "metadata": {
  "kernelspec": {
   "display_name": "Python 3 (ipykernel)",
   "language": "python",
   "name": "python3"
  },
  "language_info": {
   "codemirror_mode": {
    "name": "ipython",
    "version": 3
   },
   "file_extension": ".py",
   "mimetype": "text/x-python",
   "name": "python",
   "nbconvert_exporter": "python",
   "pygments_lexer": "ipython3",
   "version": "3.8.10"
  }
 },
 "nbformat": 4,
 "nbformat_minor": 5
}

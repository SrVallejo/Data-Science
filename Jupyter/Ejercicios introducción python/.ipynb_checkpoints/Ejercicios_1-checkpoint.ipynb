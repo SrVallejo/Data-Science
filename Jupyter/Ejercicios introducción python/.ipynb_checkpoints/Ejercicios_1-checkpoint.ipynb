{
 "cells": [
  {
   "cell_type": "markdown",
   "id": "98c97d54",
   "metadata": {},
   "source": [
    "# Ejercicio 1"
   ]
  },
  {
   "cell_type": "markdown",
   "id": "02d0ecb5",
   "metadata": {},
   "source": [
    "Describe una variable con nombre \"notas\" que tenga el valor de -3, muestra su valor."
   ]
  },
  {
   "cell_type": "markdown",
   "id": "d1a89f17",
   "metadata": {},
   "source": [
    "# Ejercicio 2"
   ]
  },
  {
   "cell_type": "markdown",
   "id": "21fad97d",
   "metadata": {},
   "source": [
    "Imprime los valores de \"s\" es igual 25, de \"y\" es igual a 10, poniendo la siguiente salida:\n",
    "    El valor de \"s\" es \"valor de s\" y el valor de y es \"valor de y\""
   ]
  },
  {
   "cell_type": "markdown",
   "id": "b87fe420",
   "metadata": {},
   "source": [
    "# Ejercicio 3"
   ]
  },
  {
   "cell_type": "markdown",
   "id": "3ab3c667",
   "metadata": {},
   "source": [
    "Declarar una variable con nombre name, que tenga el valor de Juan \"El profesor\""
   ]
  },
  {
   "cell_type": "markdown",
   "id": "94129caa",
   "metadata": {},
   "source": [
    "# Ejercicio 4"
   ]
  },
  {
   "cell_type": "markdown",
   "id": "2aff5ac4",
   "metadata": {},
   "source": [
    "Concatena las siguientes palabras formando un sola: Juan \"El profesor\""
   ]
  },
  {
   "cell_type": "markdown",
   "id": "9c2e2605",
   "metadata": {},
   "source": [
    "# Ejercicio 5"
   ]
  },
  {
   "cell_type": "markdown",
   "id": "82a4215c",
   "metadata": {},
   "source": [
    "Teniendo la siguientes palabras: no cuentes los días, haz que los días cuenten"
   ]
  },
  {
   "cell_type": "markdown",
   "id": "e817694d",
   "metadata": {},
   "source": [
    "· Pon las primeras letras de cada palabra en mayúsculas:"
   ]
  },
  {
   "cell_type": "markdown",
   "id": "122d3b2b",
   "metadata": {},
   "source": [
    "· Pon todas las letras en mayúsculas:"
   ]
  },
  {
   "cell_type": "markdown",
   "id": "a5c47e57",
   "metadata": {},
   "source": [
    "· Pon todas las letras en minúculas"
   ]
  },
  {
   "cell_type": "markdown",
   "id": "f5ff99f0",
   "metadata": {},
   "source": [
    "# Ejercicio 6"
   ]
  },
  {
   "cell_type": "markdown",
   "id": "2d6ce723",
   "metadata": {},
   "source": [
    "Realiza la suma de 26 y 35:"
   ]
  },
  {
   "cell_type": "markdown",
   "id": "e76a972d",
   "metadata": {},
   "source": [
    "Realiza la multiplicación de 26 y 35:"
   ]
  },
  {
   "cell_type": "markdown",
   "id": "0090acb7",
   "metadata": {},
   "source": [
    "Realiza la operación de 2 + 32 por 10:"
   ]
  },
  {
   "cell_type": "markdown",
   "id": "ee4e32ca",
   "metadata": {},
   "source": [
    "Saca el resultado de 3 elevado a 9"
   ]
  },
  {
   "cell_type": "markdown",
   "id": "3203190f",
   "metadata": {},
   "source": [
    "Redondea el resultado anterior a dos decimales"
   ]
  },
  {
   "cell_type": "markdown",
   "id": "06f1a0be",
   "metadata": {},
   "source": [
    "Muestra de que tipo se trata"
   ]
  },
  {
   "cell_type": "markdown",
   "id": "e184e2b6",
   "metadata": {},
   "source": [
    "# Ejercicio 7"
   ]
  },
  {
   "cell_type": "markdown",
   "id": "b79d004e",
   "metadata": {},
   "source": [
    "Saca el valor absoluto de -32"
   ]
  },
  {
   "cell_type": "markdown",
   "id": "97b6dbeb",
   "metadata": {},
   "source": [
    "Muestra el máximo y el mínimo de (3, -6, 4, -10, 2.6666)"
   ]
  }
 ],
 "metadata": {
  "kernelspec": {
   "display_name": "Python 3 (ipykernel)",
   "language": "python",
   "name": "python3"
  },
  "language_info": {
   "codemirror_mode": {
    "name": "ipython",
    "version": 3
   },
   "file_extension": ".py",
   "mimetype": "text/x-python",
   "name": "python",
   "nbconvert_exporter": "python",
   "pygments_lexer": "ipython3",
   "version": "3.8.10"
  }
 },
 "nbformat": 4,
 "nbformat_minor": 5
}

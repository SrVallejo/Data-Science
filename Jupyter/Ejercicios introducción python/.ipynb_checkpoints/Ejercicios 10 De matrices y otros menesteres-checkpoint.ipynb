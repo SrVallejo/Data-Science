{
 "cells": [
  {
   "cell_type": "code",
   "execution_count": 1,
   "id": "4368031f",
   "metadata": {},
   "outputs": [],
   "source": [
    "import numpy as np"
   ]
  },
  {
   "cell_type": "markdown",
   "id": "632a16ea",
   "metadata": {},
   "source": [
    "## Ejercicio 1"
   ]
  },
  {
   "cell_type": "markdown",
   "id": "84816581",
   "metadata": {},
   "source": [
    "matriz de zeros e identidad blablabla"
   ]
  },
  {
   "cell_type": "code",
   "execution_count": 2,
   "id": "611ac6c7",
   "metadata": {},
   "outputs": [
    {
     "data": {
      "text/plain": [
       "array([[0, 0, 0, 0],\n",
       "       [0, 0, 0, 0],\n",
       "       [0, 0, 0, 0],\n",
       "       [0, 0, 0, 0]])"
      ]
     },
     "execution_count": 2,
     "metadata": {},
     "output_type": "execute_result"
    }
   ],
   "source": [
    "i_matrix = np.zeros((4,4), dtype=int)\n",
    "i_matrix"
   ]
  },
  {
   "cell_type": "code",
   "execution_count": 3,
   "id": "355fff2a",
   "metadata": {},
   "outputs": [
    {
     "data": {
      "text/plain": [
       "array([[1, 0, 0, 0],\n",
       "       [0, 1, 0, 0],\n",
       "       [0, 0, 1, 0],\n",
       "       [0, 0, 0, 1]])"
      ]
     },
     "execution_count": 3,
     "metadata": {},
     "output_type": "execute_result"
    }
   ],
   "source": [
    "for i in range(len(i_matrix)):\n",
    "    i_matrix[i,i] = 1\n",
    "\n",
    "i_matrix"
   ]
  },
  {
   "cell_type": "code",
   "execution_count": 21,
   "id": "0f0c8c81",
   "metadata": {},
   "outputs": [
    {
     "data": {
      "text/plain": [
       "array([[0, 0, 0, 1],\n",
       "       [0, 0, 1, 0],\n",
       "       [0, 1, 0, 0],\n",
       "       [1, 0, 0, 0]])"
      ]
     },
     "execution_count": 21,
     "metadata": {},
     "output_type": "execute_result"
    }
   ],
   "source": [
    "i_matrix = np.zeros((4,4), dtype=int)\n",
    "\n",
    "for i in range(len(i_matrix)):\n",
    "    i_matrix[i,0-1-i] = 1\n",
    "\n",
    "i_matrix"
   ]
  },
  {
   "cell_type": "markdown",
   "id": "b880e4d6",
   "metadata": {},
   "source": [
    "## Ejercicio 2"
   ]
  },
  {
   "cell_type": "code",
   "execution_count": 4,
   "id": "50a84b29",
   "metadata": {},
   "outputs": [
    {
     "data": {
      "text/plain": [
       "array([[ 3, 20, 10],\n",
       "       [ 6,  5, 14],\n",
       "       [ 8,  7,  1]])"
      ]
     },
     "execution_count": 4,
     "metadata": {},
     "output_type": "execute_result"
    }
   ],
   "source": [
    "matrix = np.array([\n",
    "    [3,6,8],\n",
    "    [20,5,7],\n",
    "    [10,14,1]\n",
    "    ])\n",
    "\n",
    "#1) Traspuesta\n",
    "matrix.T"
   ]
  },
  {
   "cell_type": "code",
   "execution_count": 5,
   "id": "ba6f495a",
   "metadata": {},
   "outputs": [
    {
     "data": {
      "text/plain": [
       "3"
      ]
     },
     "execution_count": 5,
     "metadata": {},
     "output_type": "execute_result"
    }
   ],
   "source": [
    "#2) Tamaño\n",
    "len(matrix)"
   ]
  },
  {
   "cell_type": "code",
   "execution_count": 6,
   "id": "cba1d9d8",
   "metadata": {},
   "outputs": [
    {
     "data": {
      "text/plain": [
       "(3, 3)"
      ]
     },
     "execution_count": 6,
     "metadata": {},
     "output_type": "execute_result"
    }
   ],
   "source": [
    "#3) Dimensiones\n",
    "matrix.shape"
   ]
  },
  {
   "cell_type": "code",
   "execution_count": 7,
   "id": "006ce557",
   "metadata": {},
   "outputs": [
    {
     "name": "stdout",
     "output_type": "stream",
     "text": [
      "No tiene números negativos\n"
     ]
    }
   ],
   "source": [
    "#4) Matriz valores menores de 0?\n",
    "if np.any(matrix < 0): print(\"Tiene números negativos\")\n",
    "else: print(\"No tiene números negativos\")"
   ]
  },
  {
   "cell_type": "code",
   "execution_count": 8,
   "id": "9b653d28",
   "metadata": {},
   "outputs": [
    {
     "name": "stdout",
     "output_type": "stream",
     "text": [
      "Tiene números mayores de 10\n"
     ]
    }
   ],
   "source": [
    "#5) Matriz valores algún valor mayor que 10?\n",
    "if np.any(matrix > 10): print(\"Tiene números mayores de 10\")\n",
    "else: print(\"No tiene números mayores de 10\")"
   ]
  },
  {
   "cell_type": "code",
   "execution_count": 9,
   "id": "c1ad8fb1",
   "metadata": {},
   "outputs": [
    {
     "data": {
      "text/plain": [
       "array([  0,  25,  50,  75, 100])"
      ]
     },
     "execution_count": 9,
     "metadata": {},
     "output_type": "execute_result"
    }
   ],
   "source": [
    "#6) Linspace 5 valores\n",
    "np.linspace(0,100,5,dtype=int)"
   ]
  },
  {
   "cell_type": "code",
   "execution_count": 10,
   "id": "94688c7f",
   "metadata": {},
   "outputs": [
    {
     "name": "stdout",
     "output_type": "stream",
     "text": [
      "Contiene el número 7\n"
     ]
    }
   ],
   "source": [
    "#7) La matriz contiene el valor 7?\n",
    "if np.any(matrix == 7): print(\"Contiene el número 7\")\n",
    "else: print(\"No contiene el número 7\")"
   ]
  },
  {
   "cell_type": "code",
   "execution_count": 11,
   "id": "523cf4b2",
   "metadata": {},
   "outputs": [
    {
     "data": {
      "text/plain": [
       "array([ 3,  6,  8, 20,  5,  7, 10, 14,  1])"
      ]
     },
     "execution_count": 11,
     "metadata": {},
     "output_type": "execute_result"
    }
   ],
   "source": [
    "#8) Copia matriz flatten\n",
    "matrix.flatten()"
   ]
  },
  {
   "cell_type": "code",
   "execution_count": 12,
   "id": "316d1e1c",
   "metadata": {},
   "outputs": [
    {
     "data": {
      "text/plain": [
       "[3, 6, 8, 20, 5, 7, 10, 14, 1]"
      ]
     },
     "execution_count": 12,
     "metadata": {},
     "output_type": "execute_result"
    }
   ],
   "source": [
    "#9) Flaten a mano con lista\n",
    "numbers = []\n",
    "\n",
    "for i in range(len(matrix)):\n",
    "    for j in range(len(matrix[0])):\n",
    "        numbers.append(matrix[i,j])\n",
    "numbers"
   ]
  },
  {
   "cell_type": "code",
   "execution_count": 13,
   "id": "a767307b",
   "metadata": {},
   "outputs": [
    {
     "data": {
      "text/plain": [
       "array([  27,  216,  512, 8000,  125,  343, 1000, 2744,    1], dtype=int32)"
      ]
     },
     "execution_count": 13,
     "metadata": {},
     "output_type": "execute_result"
    }
   ],
   "source": [
    "#10) Potencia de 3\n",
    "pow(matrix.flatten(),3)"
   ]
  },
  {
   "cell_type": "code",
   "execution_count": 14,
   "id": "240c7e22",
   "metadata": {},
   "outputs": [],
   "source": [
    "#pow(numbers,3)"
   ]
  }
 ],
 "metadata": {
  "kernelspec": {
   "display_name": "Python 3 (ipykernel)",
   "language": "python",
   "name": "python3"
  },
  "language_info": {
   "codemirror_mode": {
    "name": "ipython",
    "version": 3
   },
   "file_extension": ".py",
   "mimetype": "text/x-python",
   "name": "python",
   "nbconvert_exporter": "python",
   "pygments_lexer": "ipython3",
   "version": "3.8.10"
  }
 },
 "nbformat": 4,
 "nbformat_minor": 5
}

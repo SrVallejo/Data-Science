{
 "cells": [
  {
   "cell_type": "markdown",
   "id": "ba082723",
   "metadata": {},
   "source": [
    "# -1.1- Introducción a Python (Continuación)"
   ]
  },
  {
   "cell_type": "markdown",
   "id": "27679309",
   "metadata": {},
   "source": [
    "## -1.1.0- Diccionarios"
   ]
  },
  {
   "cell_type": "code",
   "execution_count": 2,
   "id": "c9b6eb78",
   "metadata": {},
   "outputs": [],
   "source": [
    "# clave-valor\n",
    "# \"key\": value\n",
    "# {\"key\": value}\n",
    "# {\"key1\": \"value1\", \"key2\": \"value2\",.....}"
   ]
  },
  {
   "cell_type": "code",
   "execution_count": 3,
   "id": "a69bcbcb",
   "metadata": {},
   "outputs": [
    {
     "data": {
      "text/plain": [
       "{'A': 10, 'B': -2, 'C': 35}"
      ]
     },
     "execution_count": 3,
     "metadata": {},
     "output_type": "execute_result"
    }
   ],
   "source": [
    "diccionario = {\"A\": 10, \"B\": -2, \"C\": 35}\n",
    "diccionario"
   ]
  },
  {
   "cell_type": "code",
   "execution_count": 4,
   "id": "ccf71370",
   "metadata": {},
   "outputs": [
    {
     "data": {
      "text/plain": [
       "10"
      ]
     },
     "execution_count": 4,
     "metadata": {},
     "output_type": "execute_result"
    }
   ],
   "source": [
    "diccionario[\"A\"] # 10"
   ]
  },
  {
   "cell_type": "code",
   "execution_count": 5,
   "id": "6104d588",
   "metadata": {},
   "outputs": [
    {
     "data": {
      "text/plain": [
       "35"
      ]
     },
     "execution_count": 5,
     "metadata": {},
     "output_type": "execute_result"
    }
   ],
   "source": [
    "diccionario[\"C\"] # 35"
   ]
  },
  {
   "cell_type": "code",
   "execution_count": 6,
   "id": "4ee0d5bb",
   "metadata": {},
   "outputs": [
    {
     "data": {
      "text/plain": [
       "-2"
      ]
     },
     "execution_count": 6,
     "metadata": {},
     "output_type": "execute_result"
    }
   ],
   "source": [
    "diccionario[\"B\"] # -2"
   ]
  },
  {
   "cell_type": "code",
   "execution_count": 7,
   "id": "34853469",
   "metadata": {},
   "outputs": [
    {
     "data": {
      "text/plain": [
       "3"
      ]
     },
     "execution_count": 7,
     "metadata": {},
     "output_type": "execute_result"
    }
   ],
   "source": [
    "len(diccionario)"
   ]
  },
  {
   "cell_type": "code",
   "execution_count": 13,
   "id": "cd326df5",
   "metadata": {},
   "outputs": [
    {
     "data": {
      "text/plain": [
       "{'clave1': 1, 'clave2': 2, 'clave3': 3}"
      ]
     },
     "execution_count": 13,
     "metadata": {},
     "output_type": "execute_result"
    }
   ],
   "source": [
    "diccionario = {\"clave1\": 1, \"clave2\": 2, \"clave3\": 3}\n",
    "diccionario"
   ]
  },
  {
   "cell_type": "code",
   "execution_count": 9,
   "id": "88fb3534",
   "metadata": {},
   "outputs": [
    {
     "data": {
      "text/plain": [
       "dict_keys(['clave1', 'clave2', 'clave3'])"
      ]
     },
     "execution_count": 9,
     "metadata": {},
     "output_type": "execute_result"
    }
   ],
   "source": [
    "# Mostrar valores de claves\n",
    "diccionario.keys()"
   ]
  },
  {
   "cell_type": "code",
   "execution_count": 10,
   "id": "a6cb7695",
   "metadata": {},
   "outputs": [
    {
     "data": {
      "text/plain": [
       "dict_keys"
      ]
     },
     "execution_count": 10,
     "metadata": {},
     "output_type": "execute_result"
    }
   ],
   "source": [
    "type(diccionario.keys())"
   ]
  },
  {
   "cell_type": "code",
   "execution_count": 11,
   "id": "5a99f0b0",
   "metadata": {},
   "outputs": [
    {
     "data": {
      "text/plain": [
       "dict_values([1, 2, 3])"
      ]
     },
     "execution_count": 11,
     "metadata": {},
     "output_type": "execute_result"
    }
   ],
   "source": [
    "# Mostrar valores de los valores\n",
    "diccionario.values()"
   ]
  },
  {
   "cell_type": "code",
   "execution_count": 12,
   "id": "2f366775",
   "metadata": {},
   "outputs": [
    {
     "data": {
      "text/plain": [
       "dict_items([('clave1', 1), ('clave2', 2), ('clave3', 3)])"
      ]
     },
     "execution_count": 12,
     "metadata": {},
     "output_type": "execute_result"
    }
   ],
   "source": [
    "# Mostrar información del diccionario\n",
    "# Usada en Bucles\n",
    "diccionario.items()"
   ]
  },
  {
   "cell_type": "code",
   "execution_count": 14,
   "id": "95e51cc2",
   "metadata": {},
   "outputs": [
    {
     "data": {
      "text/plain": [
       "{'clave1': 5, 'clave2': 2, 'clave3': 3}"
      ]
     },
     "execution_count": 14,
     "metadata": {},
     "output_type": "execute_result"
    }
   ],
   "source": [
    "# Modificación de un valor\n",
    "diccionario[\"clave1\"] = 5\n",
    "diccionario"
   ]
  },
  {
   "cell_type": "code",
   "execution_count": 15,
   "id": "cfc28e8b",
   "metadata": {},
   "outputs": [
    {
     "data": {
      "text/plain": [
       "{'clave1': 5, 'clave2': 2}"
      ]
     },
     "execution_count": 15,
     "metadata": {},
     "output_type": "execute_result"
    }
   ],
   "source": [
    "# Eliminacion de un campo del diccionario\n",
    "del diccionario[\"clave3\"]\n",
    "diccionario"
   ]
  },
  {
   "cell_type": "code",
   "execution_count": 16,
   "id": "b90e5b2c",
   "metadata": {},
   "outputs": [
    {
     "data": {
      "text/plain": [
       "2"
      ]
     },
     "execution_count": 16,
     "metadata": {},
     "output_type": "execute_result"
    }
   ],
   "source": [
    "len(diccionario)"
   ]
  },
  {
   "cell_type": "markdown",
   "id": "9c152ea5",
   "metadata": {},
   "source": [
    "## Usos de tuplas/listas y diccionarios en Dataframe"
   ]
  },
  {
   "cell_type": "code",
   "execution_count": 20,
   "id": "3b5a2e43",
   "metadata": {},
   "outputs": [],
   "source": [
    "import pandas as pd"
   ]
  },
  {
   "cell_type": "code",
   "execution_count": 17,
   "id": "98e76d26",
   "metadata": {},
   "outputs": [
    {
     "data": {
      "text/plain": [
       "['Andres', 'Marcos', 'Eva', 'María']"
      ]
     },
     "execution_count": 17,
     "metadata": {},
     "output_type": "execute_result"
    }
   ],
   "source": [
    "# Usamos comillas dobles para los nombres de los estudiantes (E)\n",
    "E = [\"Andres\", \"Marcos\", \"Eva\", \"María\"]\n",
    "E"
   ]
  },
  {
   "cell_type": "code",
   "execution_count": 18,
   "id": "1905fff1",
   "metadata": {},
   "outputs": [
    {
     "data": {
      "text/plain": [
       "[9, 7, 8, 6]"
      ]
     },
     "execution_count": 18,
     "metadata": {},
     "output_type": "execute_result"
    }
   ],
   "source": [
    "# Notas de los exámenes (N), de 0 a 10, siendo 10 la nota más alta\n",
    "N = [9, 7, 8, 6]\n",
    "N"
   ]
  },
  {
   "cell_type": "code",
   "execution_count": 19,
   "id": "0d6b4b82",
   "metadata": {},
   "outputs": [
    {
     "data": {
      "text/plain": [
       "[('Andres', 9), ('Marcos', 7), ('Eva', 8), ('María', 6)]"
      ]
     },
     "execution_count": 19,
     "metadata": {},
     "output_type": "execute_result"
    }
   ],
   "source": [
    "data = list(zip(E, N))\n",
    "data"
   ]
  },
  {
   "cell_type": "code",
   "execution_count": 21,
   "id": "2994135d",
   "metadata": {},
   "outputs": [
    {
     "data": {
      "text/html": [
       "<div>\n",
       "<style scoped>\n",
       "    .dataframe tbody tr th:only-of-type {\n",
       "        vertical-align: middle;\n",
       "    }\n",
       "\n",
       "    .dataframe tbody tr th {\n",
       "        vertical-align: top;\n",
       "    }\n",
       "\n",
       "    .dataframe thead th {\n",
       "        text-align: right;\n",
       "    }\n",
       "</style>\n",
       "<table border=\"1\" class=\"dataframe\">\n",
       "  <thead>\n",
       "    <tr style=\"text-align: right;\">\n",
       "      <th></th>\n",
       "      <th>Estudiantes</th>\n",
       "      <th>Notas</th>\n",
       "    </tr>\n",
       "  </thead>\n",
       "  <tbody>\n",
       "    <tr>\n",
       "      <th>0</th>\n",
       "      <td>Andres</td>\n",
       "      <td>9</td>\n",
       "    </tr>\n",
       "    <tr>\n",
       "      <th>1</th>\n",
       "      <td>Marcos</td>\n",
       "      <td>7</td>\n",
       "    </tr>\n",
       "    <tr>\n",
       "      <th>2</th>\n",
       "      <td>Eva</td>\n",
       "      <td>8</td>\n",
       "    </tr>\n",
       "    <tr>\n",
       "      <th>3</th>\n",
       "      <td>María</td>\n",
       "      <td>6</td>\n",
       "    </tr>\n",
       "  </tbody>\n",
       "</table>\n",
       "</div>"
      ],
      "text/plain": [
       "  Estudiantes  Notas\n",
       "0      Andres      9\n",
       "1      Marcos      7\n",
       "2         Eva      8\n",
       "3       María      6"
      ]
     },
     "execution_count": 21,
     "metadata": {},
     "output_type": "execute_result"
    }
   ],
   "source": [
    "df = pd.DataFrame(data, columns=[\"Estudiantes\", \"Notas\"])\n",
    "df"
   ]
  },
  {
   "cell_type": "code",
   "execution_count": 22,
   "id": "284299f1",
   "metadata": {},
   "outputs": [
    {
     "data": {
      "text/html": [
       "<div>\n",
       "<style scoped>\n",
       "    .dataframe tbody tr th:only-of-type {\n",
       "        vertical-align: middle;\n",
       "    }\n",
       "\n",
       "    .dataframe tbody tr th {\n",
       "        vertical-align: top;\n",
       "    }\n",
       "\n",
       "    .dataframe thead th {\n",
       "        text-align: right;\n",
       "    }\n",
       "</style>\n",
       "<table border=\"1\" class=\"dataframe\">\n",
       "  <thead>\n",
       "    <tr style=\"text-align: right;\">\n",
       "      <th></th>\n",
       "      <th>Estudiantes</th>\n",
       "      <th>Notas</th>\n",
       "    </tr>\n",
       "  </thead>\n",
       "  <tbody>\n",
       "    <tr>\n",
       "      <th>0</th>\n",
       "      <td>Andres</td>\n",
       "      <td>9</td>\n",
       "    </tr>\n",
       "    <tr>\n",
       "      <th>1</th>\n",
       "      <td>Marcos</td>\n",
       "      <td>7</td>\n",
       "    </tr>\n",
       "    <tr>\n",
       "      <th>2</th>\n",
       "      <td>Eva</td>\n",
       "      <td>8</td>\n",
       "    </tr>\n",
       "    <tr>\n",
       "      <th>3</th>\n",
       "      <td>María</td>\n",
       "      <td>6</td>\n",
       "    </tr>\n",
       "  </tbody>\n",
       "</table>\n",
       "</div>"
      ],
      "text/plain": [
       "  Estudiantes  Notas\n",
       "0      Andres      9\n",
       "1      Marcos      7\n",
       "2         Eva      8\n",
       "3       María      6"
      ]
     },
     "execution_count": 22,
     "metadata": {},
     "output_type": "execute_result"
    }
   ],
   "source": [
    "diccionario = {\"Estudiantes\": E, \"Notas\": N}\n",
    "df2 = pd.DataFrame(diccionario)\n",
    "df2"
   ]
  },
  {
   "cell_type": "code",
   "execution_count": 26,
   "id": "8e8b5be0",
   "metadata": {},
   "outputs": [
    {
     "data": {
      "text/plain": [
       "{'Estudiantes': ['Andres', 'Marcos', 'Eva', 'María'], 'Notas': [9, 7, 8, 6]}"
      ]
     },
     "execution_count": 26,
     "metadata": {},
     "output_type": "execute_result"
    }
   ],
   "source": [
    "curso = dict(Estudiantes=E, Notas=N)\n",
    "curso"
   ]
  },
  {
   "cell_type": "markdown",
   "id": "b9081255",
   "metadata": {},
   "source": [
    "## -1.1.1- Strings"
   ]
  },
  {
   "cell_type": "code",
   "execution_count": 27,
   "id": "5493a1ea",
   "metadata": {},
   "outputs": [
    {
     "data": {
      "text/plain": [
       "'Hola, ¿Como estás?'"
      ]
     },
     "execution_count": 27,
     "metadata": {},
     "output_type": "execute_result"
    }
   ],
   "source": [
    "s1 = \"Hola, ¿Como estás?\"\n",
    "s1"
   ]
  },
  {
   "cell_type": "code",
   "execution_count": 28,
   "id": "3f37b2c1",
   "metadata": {},
   "outputs": [
    {
     "data": {
      "text/plain": [
       "('?', '?')"
      ]
     },
     "execution_count": 28,
     "metadata": {},
     "output_type": "execute_result"
    }
   ],
   "source": [
    "s1[-1], s1[17]"
   ]
  },
  {
   "cell_type": "code",
   "execution_count": 29,
   "id": "de65893b",
   "metadata": {},
   "outputs": [
    {
     "data": {
      "text/plain": [
       "18"
      ]
     },
     "execution_count": 29,
     "metadata": {},
     "output_type": "execute_result"
    }
   ],
   "source": [
    "len(s1)"
   ]
  },
  {
   "cell_type": "code",
   "execution_count": 30,
   "id": "09776bec",
   "metadata": {},
   "outputs": [
    {
     "data": {
      "text/plain": [
       "('H', 'o', 'l', 'a', ',', ' ', '¿', 'C', 'o', 'm')"
      ]
     },
     "execution_count": 30,
     "metadata": {},
     "output_type": "execute_result"
    }
   ],
   "source": [
    "s1[0], s1[1], s1[2], s1[3], s1[4], s1[5], s1[6], s1[7], s1[8], s1[9]"
   ]
  },
  {
   "cell_type": "code",
   "execution_count": 31,
   "id": "c749cfe5",
   "metadata": {},
   "outputs": [
    {
     "data": {
      "text/plain": [
       "'H'"
      ]
     },
     "execution_count": 31,
     "metadata": {},
     "output_type": "execute_result"
    }
   ],
   "source": [
    "s1[0]"
   ]
  },
  {
   "cell_type": "code",
   "execution_count": 32,
   "id": "0a41f4cd",
   "metadata": {},
   "outputs": [
    {
     "data": {
      "text/plain": [
       "False"
      ]
     },
     "execution_count": 32,
     "metadata": {},
     "output_type": "execute_result"
    }
   ],
   "source": [
    "# Ejemplo de lista para buscar palabras que empiezen por \"J\": [\"Maria\", \"Juan\", \"Elisa\"]\n",
    "# startswith = False, True (Boleano)\n",
    "s1.startswith(\"J\")"
   ]
  },
  {
   "cell_type": "code",
   "execution_count": 33,
   "id": "5f991a46",
   "metadata": {},
   "outputs": [
    {
     "data": {
      "text/plain": [
       "True"
      ]
     },
     "execution_count": 33,
     "metadata": {},
     "output_type": "execute_result"
    }
   ],
   "source": [
    "s1.startswith(\"H\")"
   ]
  },
  {
   "cell_type": "code",
   "execution_count": 34,
   "id": "345f3db5",
   "metadata": {},
   "outputs": [
    {
     "data": {
      "text/plain": [
       "False"
      ]
     },
     "execution_count": 34,
     "metadata": {},
     "output_type": "execute_result"
    }
   ],
   "source": [
    "# Ejemplo de lista para buscar palabras que acaben por \"J\": [\"Maria\", \"Juan\", \"Elisa\"]\n",
    "# endswith = False, True (Boleano)\n",
    "s1.endswith(\"J\")"
   ]
  },
  {
   "cell_type": "code",
   "execution_count": 35,
   "id": "31911278",
   "metadata": {},
   "outputs": [
    {
     "data": {
      "text/plain": [
       "True"
      ]
     },
     "execution_count": 35,
     "metadata": {},
     "output_type": "execute_result"
    }
   ],
   "source": [
    "s1.endswith(\"?\")"
   ]
  },
  {
   "cell_type": "markdown",
   "id": "5672de7b",
   "metadata": {},
   "source": [
    "## -1.1.2- Listas con falta de valores (missing values)"
   ]
  },
  {
   "cell_type": "code",
   "execution_count": 36,
   "id": "77975530",
   "metadata": {},
   "outputs": [
    {
     "data": {
      "text/plain": [
       "[10, -20, None, 80, -5, None, 20]"
      ]
     },
     "execution_count": 36,
     "metadata": {},
     "output_type": "execute_result"
    }
   ],
   "source": [
    "L = [10, -20, None, 80, -5, None, 20]\n",
    "L"
   ]
  },
  {
   "cell_type": "code",
   "execution_count": 37,
   "id": "79a2560f",
   "metadata": {},
   "outputs": [
    {
     "data": {
      "text/plain": [
       "[10, -20, -1, 80, -5, None, 20]"
      ]
     },
     "execution_count": 37,
     "metadata": {},
     "output_type": "execute_result"
    }
   ],
   "source": [
    "L[2] = -1\n",
    "L"
   ]
  },
  {
   "cell_type": "code",
   "execution_count": 38,
   "id": "34282861",
   "metadata": {},
   "outputs": [
    {
     "data": {
      "text/plain": [
       "[10, -20, -1, 80, -5, -1, 20]"
      ]
     },
     "execution_count": 38,
     "metadata": {},
     "output_type": "execute_result"
    }
   ],
   "source": [
    "L[-2] = -1\n",
    "L"
   ]
  },
  {
   "cell_type": "code",
   "execution_count": 40,
   "id": "0f66d42a",
   "metadata": {},
   "outputs": [
    {
     "name": "stdout",
     "output_type": "stream",
     "text": [
      "10\n",
      "-20\n",
      "-1\n",
      "80\n",
      "-5\n",
      "-1\n",
      "20\n"
     ]
    }
   ],
   "source": [
    "# Bucles \"for\" muestre en lista\n",
    "for i in L:\n",
    "    print(i)"
   ]
  },
  {
   "cell_type": "code",
   "execution_count": 41,
   "id": "865e8ca7",
   "metadata": {},
   "outputs": [
    {
     "data": {
      "text/plain": [
       "[10, -20, None, 80, -5, None, 20]"
      ]
     },
     "execution_count": 41,
     "metadata": {},
     "output_type": "execute_result"
    }
   ],
   "source": [
    "L = [10, -20, None, 80, -5, None, 20]\n",
    "L"
   ]
  },
  {
   "cell_type": "code",
   "execution_count": 42,
   "id": "7154a119",
   "metadata": {},
   "outputs": [
    {
     "name": "stdout",
     "output_type": "stream",
     "text": [
      "0\n",
      "1\n",
      "2\n",
      "3\n",
      "4\n",
      "5\n",
      "6\n"
     ]
    }
   ],
   "source": [
    "# range: limita los valores a mostrar.\n",
    "# range decir empieza en posición 0 y acaba en posición 7\n",
    "for i in range(0, len(L)):\n",
    "    print(i)"
   ]
  },
  {
   "cell_type": "code",
   "execution_count": 43,
   "id": "49d56772",
   "metadata": {},
   "outputs": [],
   "source": [
    "# condiciones: si esto es igual a x entonces....\n",
    "# if i == None:\n",
    "# sino haz esto otro = else:"
   ]
  },
  {
   "cell_type": "code",
   "execution_count": 44,
   "id": "95d98d3e",
   "metadata": {},
   "outputs": [
    {
     "name": "stdout",
     "output_type": "stream",
     "text": [
      "False\n",
      "False\n",
      "True\n",
      "False\n",
      "False\n",
      "True\n",
      "False\n"
     ]
    }
   ],
   "source": [
    "for i in range(0, len(L)):\n",
    "    if L[i] == None:\n",
    "        print(True)\n",
    "    else:\n",
    "        print(False)"
   ]
  },
  {
   "cell_type": "code",
   "execution_count": 45,
   "id": "d7fcca27",
   "metadata": {},
   "outputs": [
    {
     "data": {
      "text/plain": [
       "[10, -20, -1, 80, -5, -1, 20]"
      ]
     },
     "execution_count": 45,
     "metadata": {},
     "output_type": "execute_result"
    }
   ],
   "source": [
    "for i in range(0, len(L)):\n",
    "    if L[i] == None:\n",
    "        L[i] = -1\n",
    "L"
   ]
  }
 ],
 "metadata": {
  "kernelspec": {
   "display_name": "Python 3.8.10 ('env': venv)",
   "language": "python",
   "name": "python3"
  },
  "language_info": {
   "codemirror_mode": {
    "name": "ipython",
    "version": 3
   },
   "file_extension": ".py",
   "mimetype": "text/x-python",
   "name": "python",
   "nbconvert_exporter": "python",
   "pygments_lexer": "ipython3",
   "version": "3.8.10"
  },
  "vscode": {
   "interpreter": {
    "hash": "d056a00af5ef154cf937a569b76106a0a550a554b0a1723c03c26f8ac1acd3c8"
   }
  }
 },
 "nbformat": 4,
 "nbformat_minor": 5
}

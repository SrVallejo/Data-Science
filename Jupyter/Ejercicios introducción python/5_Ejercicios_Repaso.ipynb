{
 "cells": [
  {
   "cell_type": "code",
   "execution_count": 2,
   "id": "4f115c70",
   "metadata": {},
   "outputs": [],
   "source": [
    "import pandas as pd\n",
    "import numpy as np"
   ]
  },
  {
   "cell_type": "markdown",
   "id": "7d781736",
   "metadata": {},
   "source": [
    "* 15 minutos de descanso\n",
    "* Repaso de todo lo anterior 2 horas\n",
    "\n",
    "## volvemos para ver si hay dudas 13:30\n",
    "\n",
    "* 1 hora para hacer los ejercicios\n",
    "\n",
    "## Volvemos para resolverlo 14:45"
   ]
  },
  {
   "cell_type": "markdown",
   "id": "5f48ab0e",
   "metadata": {},
   "source": [
    "# Ejercicio 1"
   ]
  },
  {
   "cell_type": "markdown",
   "id": "a34c5c41",
   "metadata": {},
   "source": [
    "**a)** Declara la variable \"test\" como una lista con los siguientes componentes: 25, 8, 32, 20, 1. Usa las formas que conozcas para crearla y el uso de type para asegurarte de que es una lista."
   ]
  },
  {
   "cell_type": "markdown",
   "id": "5f3e6e76",
   "metadata": {},
   "source": [
    "**b)** Apendiza un valor de valor 20, 32, 25, 32"
   ]
  },
  {
   "cell_type": "markdown",
   "id": "1e36b494",
   "metadata": {},
   "source": [
    "**c)** Elimina el valor 8 de la lista"
   ]
  },
  {
   "cell_type": "markdown",
   "id": "89dcd2ca",
   "metadata": {},
   "source": [
    "**d)** Elimina los duplicados que haya en la lista y colocálos por orden."
   ]
  },
  {
   "cell_type": "markdown",
   "id": "ef1d7659",
   "metadata": {},
   "source": [
    "**e)** Crea una segunda lista de nombre \"info\" que contenga los valores: 25, 100, 10, 20, 5, 25, 30, 200"
   ]
  },
  {
   "cell_type": "markdown",
   "id": "aa4205c9",
   "metadata": {},
   "source": [
    "**f)** ¿Cuántos valores se repiten entre las listas?"
   ]
  },
  {
   "cell_type": "markdown",
   "id": "0dca4027",
   "metadata": {},
   "source": [
    "**g)** Muéstrame el maximo y mínimo en las dos listas"
   ]
  },
  {
   "cell_type": "markdown",
   "id": "e2103a31",
   "metadata": {},
   "source": [
    "**h)** Crea una nueva variable de nombre \"matriz\" transformando la lista test en matriz"
   ]
  },
  {
   "cell_type": "markdown",
   "id": "52c8ffdf",
   "metadata": {},
   "source": [
    "**i)** Crea una función que se llame \"funcion_división\" donde se divida el test con valor 32 entre info con valor 5 y muestra el resto de la división"
   ]
  },
  {
   "cell_type": "markdown",
   "id": "6cc31543",
   "metadata": {},
   "source": [
    "**j)** Con ayuda de reverse() muestra la inversa de test"
   ]
  },
  {
   "cell_type": "markdown",
   "id": "cc7e54ab",
   "metadata": {},
   "source": [
    "**k)** Con el listado info utiliza un bucle for con la ayuda de enumerate(), para mostrar posición y valor y crea un diccionario de nombre \"newDict\""
   ]
  },
  {
   "cell_type": "markdown",
   "id": "a7de920d",
   "metadata": {},
   "source": [
    "**l)** Crea un nuevo listado con nombre \"info2\" donde los valores: 25 se sustituya por \"María\", el valor 20 por \"Juan\" y el valor 10 por \"Pedro\""
   ]
  },
  {
   "cell_type": "markdown",
   "id": "8acc8169",
   "metadata": {},
   "source": [
    "**m)** Sustituye en el listado test los multiplos de 2 por \"Dos\""
   ]
  },
  {
   "cell_type": "code",
   "execution_count": 4,
   "id": "1ffdb0d1",
   "metadata": {},
   "outputs": [
    {
     "name": "stdout",
     "output_type": "stream",
     "text": [
      "Parte a)\n",
      "[25, 8, 32, 20, 1]\n",
      "<class 'list'>\n",
      "\n",
      "Parte b)\n",
      "Lista apendizada: [25, 8, 32, 20, 1, 20, 32, 25, 32]\n",
      "\n",
      "Parte c)\n",
      "Numero 8 eliminado: [25, 32, 20, 1, 20, 32, 25, 32]\n",
      "\n",
      "Parte d)\n",
      "Lista sin duplicados y ordenada: [1, 20, 25, 32]\n",
      "\n",
      "Parte e)\n",
      "Lista info: [25, 100, 10, 20, 5, 25, 30, 200]\n",
      "\n",
      "Parte f)\n",
      "Numero de valores que comparten ambas listas: 2\n",
      "\n",
      "Parte g)\n",
      "Lista test: max(32) y min(1)\n",
      "Lista info: max(200) y min(5)\n",
      "\n",
      "Parte h)\n",
      "Matriz: [ 1 20 25 32]\n",
      "<class 'numpy.ndarray'>\n",
      "\n",
      "Parte i)\n",
      "Resto de 32/5 = 2\n",
      "\n",
      "Parte j)\n",
      "Normal: [1, 20, 25, 32]\n",
      "Al reves: [32, 25, 20, 1]\n",
      "\n",
      "Parte k)\n",
      "Diccionario: {0: 100, 1: 5, 2: 200, 3: 10, 4: 20, 5: 25, 6: 30}\n",
      "\n",
      "Parte l)\n",
      "info2: [100, 5, 200, 'Pedro', 'Juan', 'Maria', 30]\n",
      "\n",
      "Parte m)\n",
      "Lista test: ['Dos', 25, 'Dos', 1]\n"
     ]
    }
   ],
   "source": [
    "#Part a)\n",
    "test = [25,8,32,20,1]\n",
    "\n",
    "print(\"Parte a)\")\n",
    "print (test)\n",
    "print (type(test))\n",
    "\n",
    "#Part b)\n",
    "test_aux = [20,32,25,32]\n",
    "\n",
    "for num in test_aux:\n",
    "    test.append(num)\n",
    "\n",
    "print(\"\\nParte b)\")\n",
    "print(f\"Lista apendizada: {test}\")\n",
    "\n",
    "#Part c)\n",
    "\n",
    "for i in range(len(test)):\n",
    "    if test[i] == 8:\n",
    "        del test[i]\n",
    "        break\n",
    "\n",
    "\n",
    "print(\"\\nParte c)\")\n",
    "print(f\"Numero 8 eliminado: {test}\")\n",
    "\n",
    "#Part d)\n",
    "\n",
    "test = set(test)\n",
    "test = list(test)\n",
    "test.sort()\n",
    "\n",
    "print(\"\\nParte d)\")\n",
    "print(f\"Lista sin duplicados y ordenada: {test}\")\n",
    "\n",
    "#Part e)\n",
    "\n",
    "info = [25, 100, 10, 20, 5, 25, 30, 200]\n",
    "print(\"\\nParte e)\")\n",
    "print(f\"Lista info: {info}\")\n",
    "\n",
    "#Part f)\n",
    "\n",
    "info = set(info)\n",
    "info = list(info)\n",
    "info\n",
    "\n",
    "count = 0\n",
    "\n",
    "for i in range(len(test)):\n",
    "    for j in range(len(info)):\n",
    "        if test[i] == info[j]:\n",
    "            count += 1\n",
    "            break\n",
    "\n",
    "print(\"\\nParte f)\")\n",
    "print(f\"Numero de valores que comparten ambas listas: {count}\")\n",
    "\n",
    "#Part g)\n",
    "\n",
    "print(\"\\nParte g)\")\n",
    "print(f\"Lista test: max({max(test)}) y min({min(test)})\")\n",
    "print(f\"Lista info: max({max(info)}) y min({min(info)})\")\n",
    "\n",
    "#Part h)\n",
    "\n",
    "matriz = np.array(test)\n",
    "\n",
    "print(\"\\nParte h)\")\n",
    "print(f\"Matriz: {matriz}\")\n",
    "print(type(matriz))\n",
    "\n",
    "#Part i)\n",
    "\n",
    "def funcion_division(x,y):\n",
    "    try:\n",
    "        return x%y\n",
    "    except Exception as e:\n",
    "        print(f\"#### Error {str(e)} ####\")\n",
    "\n",
    "pos_test = test.index(32)\n",
    "pos_info = info.index(5)\n",
    "\n",
    "print(\"\\nParte i)\")\n",
    "print(f\"Resto de {test[pos_test]}/{info[pos_info]} = {funcion_division(test[pos_test],info[pos_info])}\")\n",
    "\n",
    "\n",
    "#Part j)\n",
    "\n",
    "print(\"\\nParte j)\")\n",
    "print(f\"Normal: {test}\")\n",
    "test.reverse()\n",
    "print(f\"Al reves: {test}\")\n",
    "\n",
    "\n",
    "#Part k)\n",
    "\n",
    "newDict = {}\n",
    "\n",
    "for count, values in enumerate(info):\n",
    "    newDict[count] = values\n",
    "\n",
    "print(\"\\nParte k)\")\n",
    "print(f\"Diccionario: {newDict}\")\n",
    "\n",
    "#Part l)\n",
    "\n",
    "info2 = []\n",
    "\n",
    "for num in info:\n",
    "    if num == 25:\n",
    "        info2.append(\"Maria\")\n",
    "    elif num == 20:\n",
    "        info2.append(\"Juan\")\n",
    "    elif num == 10:\n",
    "        info2.append(\"Pedro\")\n",
    "    else:\n",
    "        info2.append(num)\n",
    "\n",
    "print(\"\\nParte l)\")\n",
    "print(f\"info2: {info2}\")\n",
    "\n",
    "\n",
    "#Part m)\n",
    "\n",
    "for i in range(len(test)):\n",
    "    if test[i]%2 == 0:\n",
    "        test[i] = \"Dos\"\n",
    "\n",
    "print(\"\\nParte m)\")\n",
    "print(f\"Lista test: {test}\")\n"
   ]
  },
  {
   "cell_type": "markdown",
   "id": "86d27f8e",
   "metadata": {},
   "source": [
    "## Ejercicio 2"
   ]
  },
  {
   "cell_type": "markdown",
   "id": "82ecd95e",
   "metadata": {},
   "source": [
    "Programa que escriba números de 1 a 100"
   ]
  },
  {
   "cell_type": "markdown",
   "id": "ddb00521",
   "metadata": {},
   "source": [
    "Pero:\n",
    "- Multiplos de 3 = \"Hello\" \n",
    "- Multiplos de 5 = \"World\"\n",
    "- Multiplos de los dos = \"Hello World\"\n",
    " "
   ]
  },
  {
   "cell_type": "code",
   "execution_count": 71,
   "id": "cd4fc915",
   "metadata": {},
   "outputs": [
    {
     "name": "stdout",
     "output_type": "stream",
     "text": [
      "1\n",
      "2\n",
      "Hello\n",
      "4\n",
      "World\n",
      "Hello\n",
      "7\n",
      "8\n",
      "Hello\n",
      "World\n",
      "11\n",
      "Hello\n",
      "13\n",
      "14\n",
      "Hello World\n",
      "16\n",
      "17\n",
      "Hello\n",
      "19\n",
      "World\n",
      "Hello\n",
      "22\n",
      "23\n",
      "Hello\n",
      "World\n",
      "26\n",
      "Hello\n",
      "28\n",
      "29\n",
      "Hello World\n",
      "31\n",
      "32\n",
      "Hello\n",
      "34\n",
      "World\n",
      "Hello\n",
      "37\n",
      "38\n",
      "Hello\n",
      "World\n",
      "41\n",
      "Hello\n",
      "43\n",
      "44\n",
      "Hello World\n",
      "46\n",
      "47\n",
      "Hello\n",
      "49\n",
      "World\n",
      "Hello\n",
      "52\n",
      "53\n",
      "Hello\n",
      "World\n",
      "56\n",
      "Hello\n",
      "58\n",
      "59\n",
      "Hello World\n",
      "61\n",
      "62\n",
      "Hello\n",
      "64\n",
      "World\n",
      "Hello\n",
      "67\n",
      "68\n",
      "Hello\n",
      "World\n",
      "71\n",
      "Hello\n",
      "73\n",
      "74\n",
      "Hello World\n",
      "76\n",
      "77\n",
      "Hello\n",
      "79\n",
      "World\n",
      "Hello\n",
      "82\n",
      "83\n",
      "Hello\n",
      "World\n",
      "86\n",
      "Hello\n",
      "88\n",
      "89\n",
      "Hello World\n",
      "91\n",
      "92\n",
      "Hello\n",
      "94\n",
      "World\n",
      "Hello\n",
      "97\n",
      "98\n",
      "Hello\n",
      "World\n"
     ]
    }
   ],
   "source": [
    "for i in range(1,101,1):\n",
    "    if i%3 == 0 and i%5 == 0:\n",
    "        print(\"Hello World\")\n",
    "    elif i%3 == 0:\n",
    "        print(\"Hello\")\n",
    "    elif i%5 == 0:\n",
    "        print(\"World\")\n",
    "    else:\n",
    "        print(i)\n"
   ]
  },
  {
   "cell_type": "code",
   "execution_count": null,
   "id": "2763d476",
   "metadata": {},
   "outputs": [],
   "source": []
  }
 ],
 "metadata": {
  "kernelspec": {
   "display_name": "Python 3 (ipykernel)",
   "language": "python",
   "name": "python3"
  },
  "language_info": {
   "codemirror_mode": {
    "name": "ipython",
    "version": 3
   },
   "file_extension": ".py",
   "mimetype": "text/x-python",
   "name": "python",
   "nbconvert_exporter": "python",
   "pygments_lexer": "ipython3",
   "version": "3.8.10"
  }
 },
 "nbformat": 4,
 "nbformat_minor": 5
}

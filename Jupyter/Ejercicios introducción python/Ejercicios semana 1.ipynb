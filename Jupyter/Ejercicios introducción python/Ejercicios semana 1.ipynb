{
 "cells": [
  {
   "cell_type": "code",
   "execution_count": 10,
   "id": "46753213",
   "metadata": {},
   "outputs": [
    {
     "name": "stdout",
     "output_type": "stream",
     "text": [
      "Requirement already satisfied: pandas in c:\\users\\usuario\\appdata\\local\\programs\\python\\python38\\lib\\site-packages (1.4.3)\n",
      "Requirement already satisfied: python-dateutil>=2.8.1 in c:\\users\\usuario\\appdata\\local\\programs\\python\\python38\\lib\\site-packages (from pandas) (2.8.2)\n",
      "Requirement already satisfied: pytz>=2020.1 in c:\\users\\usuario\\appdata\\local\\programs\\python\\python38\\lib\\site-packages (from pandas) (2022.1)\n",
      "Requirement already satisfied: numpy>=1.18.5 in c:\\users\\usuario\\appdata\\local\\programs\\python\\python38\\lib\\site-packages (from pandas) (1.23.0)\n",
      "Requirement already satisfied: six>=1.5 in c:\\users\\usuario\\appdata\\local\\programs\\python\\python38\\lib\\site-packages (from python-dateutil>=2.8.1->pandas) (1.16.0)\n",
      "Note: you may need to restart the kernel to use updated packages.\n"
     ]
    }
   ],
   "source": [
    "pip install pandas"
   ]
  },
  {
   "cell_type": "code",
   "execution_count": 11,
   "id": "94375338",
   "metadata": {},
   "outputs": [],
   "source": [
    "import pandas as pd\n",
    "import numpy as np"
   ]
  },
  {
   "cell_type": "markdown",
   "id": "b7daee1b",
   "metadata": {},
   "source": [
    "# Bloque de ejercicios 1: Primeros pasos"
   ]
  },
  {
   "cell_type": "markdown",
   "id": "dd79e7a4",
   "metadata": {},
   "source": [
    "## Ejercicio 1"
   ]
  },
  {
   "cell_type": "code",
   "execution_count": 2,
   "id": "f233a1fb",
   "metadata": {},
   "outputs": [
    {
     "name": "stdout",
     "output_type": "stream",
     "text": [
      "-3\n"
     ]
    }
   ],
   "source": [
    "notas = -3\n",
    "print(notas)"
   ]
  },
  {
   "cell_type": "markdown",
   "id": "dbd7fd6d",
   "metadata": {},
   "source": [
    "## Ejercicio 2"
   ]
  },
  {
   "cell_type": "code",
   "execution_count": 13,
   "id": "89282f03",
   "metadata": {},
   "outputs": [
    {
     "name": "stdout",
     "output_type": "stream",
     "text": [
      "El valor de \"s\" es 25 y el de \"y\" es 10\n"
     ]
    }
   ],
   "source": [
    "s = 25\n",
    "y = 10\n",
    "\n",
    "print(f\"El valor de \\\"s\\\" es {s} y el de \\\"y\\\" es {y}\")"
   ]
  },
  {
   "cell_type": "markdown",
   "id": "571d3549",
   "metadata": {},
   "source": [
    "## Ejercicio 3"
   ]
  },
  {
   "cell_type": "code",
   "execution_count": 14,
   "id": "c5b304e2",
   "metadata": {},
   "outputs": [
    {
     "data": {
      "text/plain": [
       "'Juan \"El Profesor\"'"
      ]
     },
     "execution_count": 14,
     "metadata": {},
     "output_type": "execute_result"
    }
   ],
   "source": [
    "name = \"Juan \\\"El Profesor\\\"\"\n",
    "name"
   ]
  },
  {
   "cell_type": "markdown",
   "id": "7390b2c6",
   "metadata": {},
   "source": [
    "## Ejercicio 4"
   ]
  },
  {
   "cell_type": "code",
   "execution_count": 16,
   "id": "1e75207c",
   "metadata": {},
   "outputs": [
    {
     "data": {
      "text/plain": [
       "'Juan \"El Profesor\"'"
      ]
     },
     "execution_count": 16,
     "metadata": {},
     "output_type": "execute_result"
    }
   ],
   "source": [
    "nameAux1 = \"Juan\"\n",
    "nameAux2 = \" \\\"El Profesor\\\"\"\n",
    "name = nameAux1 + nameAux2\n",
    "name"
   ]
  },
  {
   "cell_type": "markdown",
   "id": "b59774b1",
   "metadata": {},
   "source": [
    "## Ejercicio 5"
   ]
  },
  {
   "cell_type": "code",
   "execution_count": 20,
   "id": "775bd54a",
   "metadata": {},
   "outputs": [
    {
     "name": "stdout",
     "output_type": "stream",
     "text": [
      "No Cuentes Los Días, Haz Que Los Días Cuenten\n",
      "NO CUENTES LOS DÍAS, HAZ QUE LOS DÍAS CUENTEN\n",
      "no cuentes los días, haz que los días cuenten\n"
     ]
    }
   ],
   "source": [
    "text = \"no cuentes los días, haz que los días cuenten\"\n",
    "print(text.title())\n",
    "print(text.upper())\n",
    "print(text.lower())\n"
   ]
  },
  {
   "cell_type": "markdown",
   "id": "067bf959",
   "metadata": {},
   "source": [
    "## Ejercicio 6"
   ]
  },
  {
   "cell_type": "code",
   "execution_count": 37,
   "id": "d0436c7a",
   "metadata": {},
   "outputs": [
    {
     "name": "stdout",
     "output_type": "stream",
     "text": [
      "26 + 35 = 61\n",
      "26 * 35 = 910\n",
      "2 + 32 * 10 = 322\n",
      "3 elevado a 9 = 19683\n",
      "(3 elevado a 9)/10000 = 1.9683\n",
      "Redondeado a 2 decimales = 1.97\n",
      "Y es de tipo float\n"
     ]
    }
   ],
   "source": [
    "x = 26\n",
    "y = 35\n",
    "\n",
    "print(f\"{x} + {y} = {x+y}\")\n",
    "print(f\"{x} * {y} = {x*y}\")\n",
    "print(f\"2 + 32 * 10 = {2+32*10}\")\n",
    "\n",
    "power = 3**9\n",
    "\n",
    "print(f\"3 elevado a 9 = {power}\")\n",
    "\n",
    "power = power/10000\n",
    "print(f\"(3 elevado a 9)/10000 = {power}\")\n",
    "power = round(power,2)\n",
    "print(f\"Redondeado a 2 decimales = {power}\")\n",
    "\n",
    "powerType = type(power)\n",
    "powerType = str(powerType)\n",
    "powerType = powerType.replace(\"<class '\",\"\")\n",
    "powerType = powerType.replace (\"'>\",\"\")\n",
    "\n",
    "print(f\"Y es de tipo {powerType}\")"
   ]
  },
  {
   "cell_type": "markdown",
   "id": "ca28ac84",
   "metadata": {},
   "source": [
    "## Ejercicio 7"
   ]
  },
  {
   "cell_type": "code",
   "execution_count": 44,
   "id": "5c52805d",
   "metadata": {},
   "outputs": [
    {
     "name": "stdout",
     "output_type": "stream",
     "text": [
      "El valor absoluto de -32 es 32\n",
      "El valor máximo de la lista es 4\n",
      "El valor mínimo de la lista es -10\n"
     ]
    }
   ],
   "source": [
    "print(f\"El valor absoluto de -32 es {abs(-32)}\")\n",
    "\n",
    "list1 = (3, -6, 4, -10, 2.6666)\n",
    "\n",
    "max = list1[0]\n",
    "min = list1[0]\n",
    "\n",
    "for num in list1:\n",
    "    if max < num: \n",
    "        max = num\n",
    "    if min > num: \n",
    "        min = num\n",
    "\n",
    "print(f\"El valor máximo de la lista es {max}\")\n",
    "print(f\"El valor mínimo de la lista es {min}\")"
   ]
  },
  {
   "cell_type": "markdown",
   "id": "a6a769b3",
   "metadata": {},
   "source": [
    "## Ejercicio 8"
   ]
  },
  {
   "cell_type": "code",
   "execution_count": 45,
   "id": "b9426d24",
   "metadata": {},
   "outputs": [
    {
     "data": {
      "text/plain": [
       "[10, -1, 8, 5, -1, 20]"
      ]
     },
     "execution_count": 45,
     "metadata": {},
     "output_type": "execute_result"
    }
   ],
   "source": [
    "L = [10, None, 8, 5, None, 20]\n",
    "\n",
    "for i in range(len(L)):\n",
    "    if L[i] == None:\n",
    "        L[i] = -1\n",
    "L"
   ]
  },
  {
   "cell_type": "code",
   "execution_count": 47,
   "id": "abddbb21",
   "metadata": {},
   "outputs": [
    {
     "data": {
      "text/html": [
       "<div>\n",
       "<style scoped>\n",
       "    .dataframe tbody tr th:only-of-type {\n",
       "        vertical-align: middle;\n",
       "    }\n",
       "\n",
       "    .dataframe tbody tr th {\n",
       "        vertical-align: top;\n",
       "    }\n",
       "\n",
       "    .dataframe thead th {\n",
       "        text-align: right;\n",
       "    }\n",
       "</style>\n",
       "<table border=\"1\" class=\"dataframe\">\n",
       "  <thead>\n",
       "    <tr style=\"text-align: right;\">\n",
       "      <th></th>\n",
       "      <th>Lista</th>\n",
       "    </tr>\n",
       "  </thead>\n",
       "  <tbody>\n",
       "    <tr>\n",
       "      <th>0</th>\n",
       "      <td>10.0</td>\n",
       "    </tr>\n",
       "    <tr>\n",
       "      <th>1</th>\n",
       "      <td>NaN</td>\n",
       "    </tr>\n",
       "    <tr>\n",
       "      <th>2</th>\n",
       "      <td>8.0</td>\n",
       "    </tr>\n",
       "    <tr>\n",
       "      <th>3</th>\n",
       "      <td>5.0</td>\n",
       "    </tr>\n",
       "    <tr>\n",
       "      <th>4</th>\n",
       "      <td>NaN</td>\n",
       "    </tr>\n",
       "    <tr>\n",
       "      <th>5</th>\n",
       "      <td>20.0</td>\n",
       "    </tr>\n",
       "  </tbody>\n",
       "</table>\n",
       "</div>"
      ],
      "text/plain": [
       "   Lista\n",
       "0   10.0\n",
       "1    NaN\n",
       "2    8.0\n",
       "3    5.0\n",
       "4    NaN\n",
       "5   20.0"
      ]
     },
     "execution_count": 47,
     "metadata": {},
     "output_type": "execute_result"
    }
   ],
   "source": [
    "L = [10, None, 8, 5, None, 20]\n",
    "df = pd.DataFrame(L, columns = [\"Lista\"])\n",
    "df"
   ]
  },
  {
   "cell_type": "markdown",
   "id": "a3ce699c",
   "metadata": {},
   "source": [
    "# Bloque de ejercicios 2:  Bucles y dataframes"
   ]
  },
  {
   "cell_type": "markdown",
   "id": "d8c1531b",
   "metadata": {},
   "source": [
    "## Ejercicio 1"
   ]
  },
  {
   "cell_type": "code",
   "execution_count": 52,
   "id": "0d87e226",
   "metadata": {},
   "outputs": [
    {
     "data": {
      "text/plain": [
       "[1, 0, 0, 0, 0, 1]"
      ]
     },
     "execution_count": 52,
     "metadata": {},
     "output_type": "execute_result"
    }
   ],
   "source": [
    "Lenguages = [\"Python\", \"Matlab\", \"R\", \"VBA\", \"Julia\", \"C++\"]\n",
    "\n",
    "count = 0\n",
    "\n",
    "for i in range(len(Lenguages)):\n",
    "    if Lenguages[i] == \"Python\" or Lenguages[i] == \"C++\": Lenguages[i] = 1\n",
    "    else: Lenguages[i] = 0\n",
    "\n",
    "Lenguages"
   ]
  },
  {
   "cell_type": "markdown",
   "id": "998db123",
   "metadata": {},
   "source": [
    "## Ejercicio 2"
   ]
  },
  {
   "cell_type": "code",
   "execution_count": 53,
   "id": "e6cf9115",
   "metadata": {},
   "outputs": [
    {
     "data": {
      "text/plain": [
       "[10, -1, 8, 5, -1, 20]"
      ]
     },
     "execution_count": 53,
     "metadata": {},
     "output_type": "execute_result"
    }
   ],
   "source": [
    "L = [10, None, 8, 5, None, 20]\n",
    "\n",
    "for i in range(len(L)):\n",
    "    if L[i] == None:\n",
    "        L[i] = -1\n",
    "L"
   ]
  },
  {
   "cell_type": "code",
   "execution_count": 57,
   "id": "92e66385",
   "metadata": {},
   "outputs": [
    {
     "data": {
      "text/html": [
       "<div>\n",
       "<style scoped>\n",
       "    .dataframe tbody tr th:only-of-type {\n",
       "        vertical-align: middle;\n",
       "    }\n",
       "\n",
       "    .dataframe tbody tr th {\n",
       "        vertical-align: top;\n",
       "    }\n",
       "\n",
       "    .dataframe thead th {\n",
       "        text-align: right;\n",
       "    }\n",
       "</style>\n",
       "<table border=\"1\" class=\"dataframe\">\n",
       "  <thead>\n",
       "    <tr style=\"text-align: right;\">\n",
       "      <th></th>\n",
       "      <th>Lista</th>\n",
       "    </tr>\n",
       "  </thead>\n",
       "  <tbody>\n",
       "    <tr>\n",
       "      <th>0</th>\n",
       "      <td>10.0</td>\n",
       "    </tr>\n",
       "    <tr>\n",
       "      <th>1</th>\n",
       "      <td>-1.0</td>\n",
       "    </tr>\n",
       "    <tr>\n",
       "      <th>2</th>\n",
       "      <td>8.0</td>\n",
       "    </tr>\n",
       "    <tr>\n",
       "      <th>3</th>\n",
       "      <td>5.0</td>\n",
       "    </tr>\n",
       "    <tr>\n",
       "      <th>4</th>\n",
       "      <td>-1.0</td>\n",
       "    </tr>\n",
       "    <tr>\n",
       "      <th>5</th>\n",
       "      <td>20.0</td>\n",
       "    </tr>\n",
       "  </tbody>\n",
       "</table>\n",
       "</div>"
      ],
      "text/plain": [
       "   Lista\n",
       "0   10.0\n",
       "1   -1.0\n",
       "2    8.0\n",
       "3    5.0\n",
       "4   -1.0\n",
       "5   20.0"
      ]
     },
     "execution_count": 57,
     "metadata": {},
     "output_type": "execute_result"
    }
   ],
   "source": [
    "L = [10, None, 8, 5, None, 20]\n",
    "df = pd.DataFrame(L, columns = [\"Lista\"])\n",
    "df.Lista = df.Lista.fillna(-1)\n",
    "df"
   ]
  },
  {
   "cell_type": "code",
   "execution_count": 85,
   "id": "764305c5",
   "metadata": {},
   "outputs": [
    {
     "name": "stdout",
     "output_type": "stream",
     "text": [
      "DataFrame con la media substituyendo los valores vacios\n",
      "   Lista\n",
      "0  10.00\n",
      "1  10.75\n",
      "2   8.00\n",
      "3   5.00\n",
      "4  10.75\n",
      "5  20.00\n",
      "\n",
      "\n",
      "DataFrame con la columna Segunda añadida\n",
      "   Lista  Segunda\n",
      "0  10.00       10\n",
      "1  10.75       20\n",
      "2   8.00       50\n",
      "3   5.00       30\n",
      "4  10.75       20\n",
      "5  20.00        0\n",
      "\n",
      "\n",
      "DataFrame con la columna Lista eliminada\n",
      "   Segunda\n",
      "0       10\n",
      "1       20\n",
      "2       50\n",
      "3       30\n",
      "4       20\n",
      "5        0\n"
     ]
    }
   ],
   "source": [
    "#Dataframe con la media substituyendo los valores vacios\n",
    "l = [10, None, 8, 5, None, 20]\n",
    "df = pd.DataFrame(l, columns = [\"Lista\"])\n",
    "df.Lista = df.Lista.fillna(df.Lista.mean())\n",
    "print(\"DataFrame con la media substituyendo los valores vacios\")\n",
    "print(df)\n",
    "print(\"\\n\")\n",
    "\n",
    "#Apendización de columna\n",
    "listado2 = [10, 20, 50, 30, 20, 0]\n",
    "df[\"Segunda\"] = listado2\n",
    "\n",
    "print(\"DataFrame con la columna Segunda añadida\")\n",
    "print(df)\n",
    "print(\"\\n\")\n",
    "\n",
    "#Eliminación de columna\n",
    "\n",
    "print(\"DataFrame con la columna Lista eliminada\")\n",
    "df = df.drop([\"Lista\"], axis=1)\n",
    "print(df)"
   ]
  },
  {
   "cell_type": "markdown",
   "id": "fe2d6ff3",
   "metadata": {},
   "source": [
    "## Ejercicio 3"
   ]
  },
  {
   "cell_type": "code",
   "execution_count": 78,
   "id": "75d36f76",
   "metadata": {},
   "outputs": [
    {
     "name": "stdout",
     "output_type": "stream",
     "text": [
      "[10, 20, 30, 40]\n",
      "\n",
      "Agregamos el valor 50\n",
      "[10, 20, 30, 40, 50]\n",
      "\n",
      "Modificamos el primer número (10) por 100\n",
      "[100, 20, 30, 40, 50]\n"
     ]
    }
   ],
   "source": [
    "rangefill = range(10, 41, 10)\n",
    "listado = []\n",
    "\n",
    "for num in rangefill:\n",
    "    listado.append(num)\n",
    "print(listado)\n",
    "\n",
    "\n",
    "listado.append(50)\n",
    "print(\"\\nAgregamos el valor 50\")\n",
    "print(listado)\n",
    "\n",
    "listado[0] = 100\n",
    "print(\"\\nModificamos el primer número (10) por 100\")\n",
    "print(listado)"
   ]
  },
  {
   "cell_type": "markdown",
   "id": "47359311",
   "metadata": {},
   "source": [
    "## Ejercicio 4"
   ]
  },
  {
   "cell_type": "code",
   "execution_count": 84,
   "id": "bcaf890b",
   "metadata": {},
   "outputs": [
    {
     "name": "stdout",
     "output_type": "stream",
     "text": [
      "Lista de temperaturas\n",
      "[10, 20, 30, 40, 50]\n",
      "\n",
      "Elemento en la posición 1 = 20\n",
      "Elemento en la posición 0 = 10\n",
      "Elemento en la posición -1 = 50\n"
     ]
    }
   ],
   "source": [
    "temperatura = []\n",
    "rangefill = range(10, 51, 10)\n",
    "\n",
    "for num in rangefill:\n",
    "    temperatura.append(num)\n",
    "print(\"Lista de temperaturas\")\n",
    "print(temperatura)\n",
    "\n",
    "print(f\"\\nElemento en la posición 1 = {temperatura[1]}\")\n",
    "print(f\"Elemento en la posición 0 = {temperatura[0]}\")\n",
    "print(f\"Elemento en la posición -1 = {temperatura[-1]}\")"
   ]
  },
  {
   "cell_type": "markdown",
   "id": "b4498cd7",
   "metadata": {},
   "source": [
    "# Bloque de ejercicios 3: Listas e inputs por teclado"
   ]
  },
  {
   "cell_type": "markdown",
   "id": "476b9cfd",
   "metadata": {},
   "source": [
    "## Ejercicio 1"
   ]
  },
  {
   "cell_type": "code",
   "execution_count": 104,
   "id": "a134c90a",
   "metadata": {},
   "outputs": [
    {
     "name": "stdout",
     "output_type": "stream",
     "text": [
      "Lista:\n",
      "[10, 20, 30, 40, 50]\n",
      "[50, 40, 30, 20, 10]\n"
     ]
    }
   ],
   "source": [
    "listado = []\n",
    "rangefill = range(10, 51, 10)\n",
    "\n",
    "for num in rangefill:\n",
    "    listado.append(num)\n",
    "print(\"Lista:\")\n",
    "print(listado)\n",
    "\n",
    "listado2 =[]\n",
    "for i in range(len(listado)-1, -1, -1):\n",
    "    listado2.append(listado[i])\n",
    "\n",
    "print(listado2)"
   ]
  },
  {
   "cell_type": "markdown",
   "id": "bab958b6",
   "metadata": {},
   "source": [
    "## Ejercicio 2"
   ]
  },
  {
   "cell_type": "code",
   "execution_count": 106,
   "id": "ffede2b3",
   "metadata": {},
   "outputs": [
    {
     "name": "stdout",
     "output_type": "stream",
     "text": [
      "Introduce los números de la lista\n",
      "Introduce el elemento 1 de la lista: 3\n",
      "Introduce el elemento 2 de la lista: 13\n",
      "Introduce el elemento 3 de la lista: 13\n",
      "Introduce el elemento 4 de la lista: 41\n",
      "Introduce el elemento 5 de la lista: 51\n",
      "\n",
      "Tu lista:\n",
      "[3, 13, 13, 41, 51]\n"
     ]
    }
   ],
   "source": [
    "numlist = []\n",
    "\n",
    "print(f\"Introduce los números de la lista\")\n",
    "for i in range(5):\n",
    "    x = int(input (f\"Introduce el elemento {i+1} de la lista: \"))\n",
    "    numlist.append(x)\n",
    "    \n",
    "    \n",
    "print(\"\\nTu lista:\")\n",
    "print(numlist)"
   ]
  },
  {
   "cell_type": "markdown",
   "id": "4928a0b6",
   "metadata": {},
   "source": [
    "## Ejercicio 3"
   ]
  },
  {
   "cell_type": "code",
   "execution_count": 143,
   "id": "cc162f57",
   "metadata": {},
   "outputs": [
    {
     "name": "stdout",
     "output_type": "stream",
     "text": [
      "Dime tu frase favorita: El veloz murcielago hindu comía feliz carrillo y kiwi.\n",
      "La frase \"El veloz murcielago hindu comía feliz carrillo y kiwi.\" cuenta con 20 vocales\n"
     ]
    }
   ],
   "source": [
    "#Metodo 1 -> Recorremos el string contando que letras se encuentran dentro de nuestra lista de vocales\n",
    "text = input(\"Dime tu frase favorita: \")\n",
    "text_upper = text.upper()\n",
    "\n",
    "vocales = ['A', 'Á', 'E', 'É', 'I', 'Í', 'O', 'Ó', 'U', 'Ú']\n",
    "count = 0\n",
    "for i in range(len(text_upper)):\n",
    "    if text_upper[i] in vocales: count += 1\n",
    "\n",
    "print(f\"La frase \\\"{text}\\\" cuenta con {count} vocales\")"
   ]
  },
  {
   "cell_type": "code",
   "execution_count": 150,
   "id": "74feda88",
   "metadata": {},
   "outputs": [
    {
     "name": "stdout",
     "output_type": "stream",
     "text": [
      "Dime tu frase favorita: El veloz murcielago hindu comía feliz carrillo y kiwi.\n",
      "La frase \"El veloz murcielago hindu comía feliz carrillo y kiwi.\" cuenta con 20 vocales\n"
     ]
    }
   ],
   "source": [
    "#Metodo 2 -> Borramos las vocales con replace, y luego comparamos el tamaño del string original con el nuevo sin vocales\n",
    "text = input(\"Dime tu frase favorita: \")\n",
    "text_low = text.lower()\n",
    "\n",
    "text_low = text_low.replace(\"a\",\"\")\n",
    "text_low = text_low.replace(\"e\",\"\")\n",
    "text_low = text_low.replace(\"i\",\"\")\n",
    "text_low = text_low.replace(\"o\",\"\")\n",
    "text_low = text_low.replace(\"u\",\"\")\n",
    "text_low = text_low.replace(\"á\",\"\")\n",
    "text_low = text_low.replace(\"é\",\"\")\n",
    "text_low = text_low.replace(\"í\",\"\")\n",
    "text_low = text_low.replace(\"ó\",\"\")\n",
    "text_low = text_low.replace(\"ú\",\"\")\n",
    "\n",
    "num_vowels = len(text) - len(text_low)\n",
    "print(f\"La frase \\\"{text}\\\" cuenta con {num_vowels} vocales\")"
   ]
  },
  {
   "cell_type": "markdown",
   "id": "46ab98b8",
   "metadata": {},
   "source": [
    "## Ejercicio 4"
   ]
  },
  {
   "cell_type": "code",
   "execution_count": 141,
   "id": "f1ec3c89",
   "metadata": {},
   "outputs": [
    {
     "name": "stdout",
     "output_type": "stream",
     "text": [
      "¿Qué tabla de multiplicar quieres? 6\n",
      "6*1 = 6\n",
      "6*2 = 12\n",
      "6*3 = 18\n",
      "6*4 = 24\n",
      "6*5 = 30\n",
      "6*6 = 36\n",
      "6*7 = 42\n",
      "6*8 = 48\n",
      "6*9 = 54\n",
      "6*10 = 60\n"
     ]
    }
   ],
   "source": [
    "# Función que dado un entero x entre 0 y 10 (ambos incluidos) muestra su tabla de multiplicar\n",
    "def tablasmultiplicar (x):\n",
    "    if x < 0 or x > 10:\n",
    "        print(\"Solo números entre 0 y 10\")\n",
    "        return False\n",
    "    for i in range(1, 11):\n",
    "        print(f\"{x}*{i} = {x*i}\")\n",
    "        \n",
    "    return True\n",
    "\n",
    "\n",
    "# Entrada por teclado y llamada de la función\n",
    "\n",
    "x = input(\"¿Qué tabla de multiplicar quieres? \")\n",
    "try:\n",
    "    x = int(x)\n",
    "    tablasmultiplicar(x)\n",
    "except Exception as e:\n",
    "    print(f\"Error {str(e)}\")"
   ]
  },
  {
   "cell_type": "code",
   "execution_count": null,
   "id": "43631fca",
   "metadata": {},
   "outputs": [],
   "source": []
  }
 ],
 "metadata": {
  "kernelspec": {
   "display_name": "Python 3 (ipykernel)",
   "language": "python",
   "name": "python3"
  },
  "language_info": {
   "codemirror_mode": {
    "name": "ipython",
    "version": 3
   },
   "file_extension": ".py",
   "mimetype": "text/x-python",
   "name": "python",
   "nbconvert_exporter": "python",
   "pygments_lexer": "ipython3",
   "version": "3.8.10"
  }
 },
 "nbformat": 4,
 "nbformat_minor": 5
}

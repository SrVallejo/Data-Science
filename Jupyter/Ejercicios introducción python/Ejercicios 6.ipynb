{
 "cells": [
  {
   "cell_type": "code",
   "execution_count": 89,
   "id": "4ad22bac",
   "metadata": {},
   "outputs": [],
   "source": [
    "#pip install matplotlib"
   ]
  },
  {
   "cell_type": "code",
   "execution_count": 88,
   "id": "ddd9048b",
   "metadata": {},
   "outputs": [],
   "source": [
    "import pandas as pd\n",
    "import numpy as np\n",
    "import matplotlib.pyplot as plt"
   ]
  },
  {
   "cell_type": "markdown",
   "id": "18b3c400",
   "metadata": {},
   "source": [
    "## Ejercicio 1"
   ]
  },
  {
   "cell_type": "code",
   "execution_count": 30,
   "id": "dbd69521",
   "metadata": {},
   "outputs": [
    {
     "name": "stdout",
     "output_type": "stream",
     "text": [
      "[30, 20, 10, 50, 40]\n",
      "10\n",
      "El valor minimo de la lista es: 10\n"
     ]
    }
   ],
   "source": [
    "#1)\n",
    "\n",
    "listado = [30, 20, 10, 50, 40]\n",
    "print(listado)\n",
    "\n",
    "#2)\n",
    "\n",
    "print(min(listado))\n",
    "\n",
    "#3\n",
    "\n",
    "min_num = listado[0]\n",
    "for x in listado:\n",
    "    if min_num > x:\n",
    "        min_num = x\n",
    "\n",
    "print (f\"El valor minimo de la lista es: {min_num}\")\n",
    "\n"
   ]
  },
  {
   "cell_type": "markdown",
   "id": "03d6ea64",
   "metadata": {},
   "source": [
    "## Ejercicio 2"
   ]
  },
  {
   "cell_type": "code",
   "execution_count": 13,
   "id": "0982611e",
   "metadata": {},
   "outputs": [
    {
     "name": "stdout",
     "output_type": "stream",
     "text": [
      "[30, 20, 10, 50, 40]\n",
      "50\n",
      "El valor maximo de la lista es: 50\n"
     ]
    }
   ],
   "source": [
    "#1)\n",
    "\n",
    "listado = [30, 20, 10, 50, 40]\n",
    "print(listado)\n",
    "\n",
    "#2)\n",
    "\n",
    "print(max(listado))\n",
    "\n",
    "#3\n",
    "\n",
    "max_num = listado[0]\n",
    "for x in listado:\n",
    "    if max_num < x:\n",
    "        max_num = x\n",
    "\n",
    "print (f\"El valor maximo de la lista es: {max_num}\")"
   ]
  },
  {
   "cell_type": "markdown",
   "id": "d5e1d494",
   "metadata": {},
   "source": [
    "## Ejercicio 3"
   ]
  },
  {
   "cell_type": "code",
   "execution_count": 28,
   "id": "c00b29b0",
   "metadata": {},
   "outputs": [
    {
     "name": "stdout",
     "output_type": "stream",
     "text": [
      "[30, 20, 10, 50, 40]\n",
      "Listado ordenado función sort: [10, 20, 30, 40, 50]\n",
      "Listado ordenado con bucle: [10, 20, 30, 40, 50]\n"
     ]
    }
   ],
   "source": [
    "#1)\n",
    "\n",
    "listado = [30, 20, 10, 50, 40]\n",
    "print(listado)\n",
    "\n",
    "#2)\n",
    "\n",
    "listado.sort()\n",
    "print(f\"Listado ordenado función sort: {listado}\")\n",
    "\n",
    "#3\n",
    "\n",
    "listado = [30, 20, 10, 50, 40]\n",
    "listado_aux = []\n",
    "\n",
    "\n",
    "for i in range(len(listado)):\n",
    "    pos_min = 0\n",
    "    mini = listado[0]\n",
    "    for j in range(len(listado)):\n",
    "        if listado[j] < mini:\n",
    "            mini = listado[j]\n",
    "            pos_min = j\n",
    "    del listado[pos_min]\n",
    "    listado_aux.append(mini)\n",
    "\n",
    "\n",
    "for x in listado_aux:\n",
    "    listado.append(x)\n",
    "    \n",
    "print(f\"Listado ordenado con bucle: {listado}\")"
   ]
  },
  {
   "cell_type": "markdown",
   "id": "ebc855c0",
   "metadata": {},
   "source": [
    "## Ejercicio 4"
   ]
  },
  {
   "cell_type": "code",
   "execution_count": 39,
   "id": "32582d5f",
   "metadata": {},
   "outputs": [
    {
     "name": "stdout",
     "output_type": "stream",
     "text": [
      "[30, 20, 10, 50, 40]\n",
      "Listado ordenado función sort: [50, 40, 30, 20, 10]\n",
      "Listado ordenado con bucle: [50, 40, 30, 20, 10]\n"
     ]
    }
   ],
   "source": [
    "#1)\n",
    "\n",
    "listado = [30, 20, 10, 50, 40]\n",
    "print(listado)\n",
    "\n",
    "#2)\n",
    "\n",
    "listado.sort(reverse = True)\n",
    "#listado.reverse()\n",
    "print(f\"Listado ordenado función sort: {listado}\")\n",
    "\n",
    "#3\n",
    "\n",
    "listado = [30, 20, 10, 50, 40]\n",
    "listado_aux = []\n",
    "\n",
    "\n",
    "for i in range(len(listado)):\n",
    "    pos_max = 0\n",
    "    maxi = listado[0]\n",
    "    for j in range(len(listado)):\n",
    "        if listado[j] > maxi:\n",
    "            maxi = listado[j]\n",
    "            pos_max = j\n",
    "    del listado[pos_max]\n",
    "    listado_aux.append(maxi)\n",
    "\n",
    "\n",
    "for x in listado_aux:\n",
    "    listado.append(x)\n",
    "    \n",
    "print(f\"Listado ordenado con bucle: {listado}\")"
   ]
  },
  {
   "cell_type": "markdown",
   "id": "1809b8db",
   "metadata": {},
   "source": [
    "## Ejercicio 5"
   ]
  },
  {
   "cell_type": "code",
   "execution_count": 87,
   "id": "880698a6",
   "metadata": {},
   "outputs": [
    {
     "name": "stdout",
     "output_type": "stream",
     "text": [
      "\n",
      "1)\n",
      "\n",
      "Lista modulos: ['Big Data', 'Python', 'Algoritmos', 'Machine Learning', 'Deep Learning', 'NLP']\n",
      "\n",
      "Big Data\n",
      "Python\n",
      "Algoritmos\n",
      "Machine Learning\n",
      "Deep Learning\n",
      "NLP\n",
      "\n",
      "\n",
      "2)\n",
      "\n",
      "Lista esenciales: ['Python', 'Algoritmos']\n",
      "\n",
      "\n",
      "3)\n",
      "\n",
      " Data frame con columna horas \n",
      "            Modulos  Horas\n",
      "0          Big Data     25\n",
      "1            Python     15\n",
      "2        Algoritmos      5\n",
      "3  Machine Learning     15\n",
      "4     Deep Learning      5\n",
      "5               NLP     10\n",
      "\n",
      "\n",
      "4)\n",
      "\n",
      "Columna Horas \n",
      "\n",
      "   Horas\n",
      "0     25\n",
      "1     15\n",
      "2      5\n",
      "3     15\n",
      "4      5\n",
      "5     10\n",
      "\n",
      "\n",
      "5)\n",
      "\n",
      "Gráfico de horas (se encuentra abajo)\n",
      "\n",
      "\n",
      "6)\n",
      "\n",
      "Módulos con 20< horas\n",
      "    Modulos\n",
      "0  Big Data\n",
      "\n",
      "\n",
      "7)\n",
      "\n",
      "Módulos con 10< horas\n",
      "            Modulos\n",
      "0          Big Data\n",
      "1            Python\n",
      "3  Machine Learning\n",
      "5               NLP\n",
      "\n",
      "\n",
      "8)\n",
      "\n",
      "Módulos con 26< horas\n",
      "No hay registros\n",
      "\n",
      "\n",
      "9)\n",
      "\n",
      "Data frame con nueva columna\n",
      "\n",
      "            Modulos  Horas  Docentes\n",
      "0          Big Data     25    Erique\n",
      "1            Python     15    Susana\n",
      "2        Algoritmos      5      Juan\n",
      "3  Machine Learning     15       Ana\n",
      "4     Deep Learning      5     Laura\n",
      "5               NLP     10  Patricia\n",
      "\n",
      "\n"
     ]
    },
    {
     "data": {
      "image/png": "[encoded data removed]",
      "text/plain": [
       "<Figure size 432x288 with 1 Axes>"
      ]
     },
     "metadata": {
      "needs_background": "light"
     },
     "output_type": "display_data"
    }
   ],
   "source": [
    "#1)\n",
    "\n",
    "modulos = [\"Big Data\", \"Python\", \"Algoritmos\", \"Machine Learning\", \"Deep Learning\", \"NLP\"]\n",
    "\n",
    "print(f\"\\n1)\\n\\nLista modulos: {modulos}\\n\")\n",
    "for element in modulos:\n",
    "    print(element)\n",
    "\n",
    "#2)\n",
    "\n",
    "esenciales =[]\n",
    "\n",
    "for element in modulos:\n",
    "    if element == \"Python\" or element == \"Algoritmos\":\n",
    "        esenciales.append(element)\n",
    "        \n",
    "print (f\"\\n\\n2)\\n\\nLista esenciales: {esenciales}\")\n",
    "\n",
    "#3)\n",
    "\n",
    "horas = [25, 15, 5, 15, 5, 10]\n",
    "aux_dict = {\"Modulos\":modulos,\"Horas\":horas}\n",
    "\n",
    "df = pd.DataFrame(aux_dict)\n",
    "print(f\"\\n\\n3)\\n\\n Data frame con columna horas \\n{df}\")\n",
    "\n",
    "#4)\n",
    "\n",
    "print(\"\\n\\n4)\\n\\nColumna Horas \\n\")\n",
    "print(df[[\"Horas\"]])\n",
    "\n",
    "#5)\n",
    "\n",
    "print(\"\\n\\n5)\\n\\nGráfico de horas (se encuentra abajo)\")\n",
    "df.Horas.plot(kind=\"bar\")\n",
    "\n",
    "#6)\n",
    "\n",
    "print(\"\\n\\n6)\\n\\nMódulos con 20< horas\")\n",
    "df_aux = df[df[\"Horas\"] >= 20]\n",
    "\n",
    "if df_aux.size != 0:\n",
    "    print(df_aux[[\"Modulos\"]])\n",
    "else:\n",
    "    print(\"No hay registros\")\n",
    "\n",
    "#7)\n",
    "\n",
    "print(\"\\n\\n7)\\n\\nMódulos con 10< horas\")\n",
    "df_aux = df[df[\"Horas\"] >= 10]\n",
    "\n",
    "if df_aux.size != 0:\n",
    "    print(df_aux[[\"Modulos\"]])\n",
    "else:\n",
    "    print(\"No hay registros\")\n",
    "\n",
    "\n",
    "#8)\n",
    "\n",
    "print(\"\\n\\n8)\\n\\nMódulos con 26< horas\")\n",
    "df_aux = df[df[\"Horas\"] >= 26]\n",
    "\n",
    "if df_aux.size != 0:\n",
    "    print(df_aux[[\"Modulos\"]])\n",
    "else:\n",
    "    print(\"No hay registros\")\n",
    "\n",
    "\n",
    "#9)\n",
    "\n",
    "docentes = [\"Erique\", \"Susana\", \"Juan\", \"Ana\", \"Laura\", \"Patricia\"]\n",
    "df[\"Docentes\"]=docentes\n",
    "\n",
    "print(\"\\n\\n9)\\n\\nData frame con nueva columna\\n\")\n",
    "print(df)\n",
    "\n",
    "print(\"\\n\")"
   ]
  },
  {
   "cell_type": "markdown",
   "id": "e0fce953",
   "metadata": {},
   "source": [
    "## Quicksort"
   ]
  },
  {
   "cell_type": "code",
   "execution_count": 1,
   "id": "a09b2e15",
   "metadata": {},
   "outputs": [
    {
     "data": {
      "text/plain": [
       "[10, 20, 30, 40, 50]"
      ]
     },
     "execution_count": 1,
     "metadata": {},
     "output_type": "execute_result"
    }
   ],
   "source": [
    "def partition(left, right, nums):\n",
    "    # Last element will be the pivot and the first element the pointer\n",
    "    pivot = nums[right] \n",
    "    ptr = left\n",
    "    for i in range(left, right):\n",
    "        if nums[i] <= pivot:\n",
    "            # Swapping values smaller than the pivot to the front\n",
    "            nums[i], nums[ptr] = nums[ptr], nums[i]\n",
    "            ptr += 1\n",
    "    # Finally swapping the last element with the pointer indexed number\n",
    "    nums[ptr], nums[right] = nums[right], nums[ptr]\n",
    "    return ptr\n",
    "\n",
    "def quicksort(left, right, nums):\n",
    "    if len(nums) == 1: #Cuando el array ya es de 1 solo elemento, lo devuelve\n",
    "        return nums\n",
    "    if left < right:   #¿???\n",
    "        pi = partition(left, right, nums)\n",
    "        quicksort(left, pi-1, nums)  \n",
    "        quicksort(pi+1, right, nums)\n",
    "    return nums\n",
    "\n",
    "\n",
    "listado = [30, 20, 10, 50, 40]\n",
    "quicksort(0,len(listado)-1,listado)"
   ]
  },
  {
   "cell_type": "code",
   "execution_count": null,
   "id": "5e49e9e9",
   "metadata": {},
   "outputs": [],
   "source": []
  }
 ],
 "metadata": {
  "kernelspec": {
   "display_name": "Python 3 (ipykernel)",
   "language": "python",
   "name": "python3"
  },
  "language_info": {
   "codemirror_mode": {
    "name": "ipython",
    "version": 3
   },
   "file_extension": ".py",
   "mimetype": "text/x-python",
   "name": "python",
   "nbconvert_exporter": "python",
   "pygments_lexer": "ipython3",
   "version": "3.8.10"
  }
 },
 "nbformat": 4,
 "nbformat_minor": 5
}

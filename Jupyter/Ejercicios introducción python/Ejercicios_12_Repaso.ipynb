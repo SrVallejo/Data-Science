{
 "cells": [
  {
   "cell_type": "markdown",
   "id": "0f66b64f",
   "metadata": {},
   "source": [
    "*Creado por:*\n",
    "\n",
    "*Isabel Maniega*"
   ]
  },
  {
   "cell_type": "code",
   "execution_count": 7,
   "id": "548e43a6",
   "metadata": {},
   "outputs": [],
   "source": [
    "import numpy as np\n",
    "import pandas as pd"
   ]
  },
  {
   "cell_type": "markdown",
   "id": "cb42de4b",
   "metadata": {},
   "source": [
    "# Ejercicio 1"
   ]
  },
  {
   "cell_type": "markdown",
   "id": "fa505f94",
   "metadata": {},
   "source": [
    "**1)**\n",
    "\n",
    "**Haz un programa que calcule los múltiplos de 3**\n",
    "\n",
    "* Para ello primero primero debe preguntarse al usuario cuántos múltiplos desea añadir. \n",
    "\n",
    "* Nota: Puedes usar un bucle while si lo deseas"
   ]
  },
  {
   "cell_type": "code",
   "execution_count": 5,
   "id": "f31e068f",
   "metadata": {},
   "outputs": [
    {
     "name": "stdout",
     "output_type": "stream",
     "text": [
      "¿Cuantos múltiplos de 3 quieres?  10\n",
      "3\n",
      "6\n",
      "9\n",
      "12\n",
      "15\n",
      "18\n",
      "21\n",
      "24\n",
      "27\n",
      "30\n"
     ]
    }
   ],
   "source": [
    "num = int(input(\"¿Cuantos múltiplos de 3 quieres?  \"))\n",
    "for i in range(1, num+1):\n",
    "    print(i*3)"
   ]
  },
  {
   "cell_type": "markdown",
   "id": "64fb6de1",
   "metadata": {},
   "source": [
    "**2)**\n",
    "\n",
    "**Haz lo mismo con np.arange**"
   ]
  },
  {
   "cell_type": "code",
   "execution_count": 4,
   "id": "60be2ed6",
   "metadata": {},
   "outputs": [
    {
     "name": "stdout",
     "output_type": "stream",
     "text": [
      "¿Cuantos múltiplos de 3 quieres?  7\n"
     ]
    },
    {
     "data": {
      "text/plain": [
       "array([ 3,  6,  9, 12, 15, 18, 21])"
      ]
     },
     "execution_count": 4,
     "metadata": {},
     "output_type": "execute_result"
    }
   ],
   "source": [
    "num = int(input(\"¿Cuantos múltiplos de 3 quieres?  \"))\n",
    "multiplos = np.arange(num)\n",
    "\n",
    "for i in range(len(multiplos)):\n",
    "    multiplos[i]=(i+1)*3\n",
    "    \n",
    "multiplos"
   ]
  },
  {
   "cell_type": "markdown",
   "id": "6313a3c5",
   "metadata": {},
   "source": [
    "# Ejercicio 2"
   ]
  },
  {
   "cell_type": "markdown",
   "id": "a4894348",
   "metadata": {},
   "source": [
    "Dada esta lista de variable \"listado\" y \"valores\": 10, 10, 20, 20, 20, 30, 40\n",
    "\n",
    "Se pide:"
   ]
  },
  {
   "cell_type": "code",
   "execution_count": 6,
   "id": "0ca337b3",
   "metadata": {},
   "outputs": [],
   "source": [
    "listado = [10,10,20,20,20,30,40]"
   ]
  },
  {
   "cell_type": "markdown",
   "id": "4a90c26f",
   "metadata": {},
   "source": [
    "**1)**\n",
    "\n",
    "Crea un DataFrame con esa información e imprímelo"
   ]
  },
  {
   "cell_type": "code",
   "execution_count": 10,
   "id": "bd7cce9e",
   "metadata": {},
   "outputs": [
    {
     "data": {
      "text/html": [
       "<div>\n",
       "<style scoped>\n",
       "    .dataframe tbody tr th:only-of-type {\n",
       "        vertical-align: middle;\n",
       "    }\n",
       "\n",
       "    .dataframe tbody tr th {\n",
       "        vertical-align: top;\n",
       "    }\n",
       "\n",
       "    .dataframe thead th {\n",
       "        text-align: right;\n",
       "    }\n",
       "</style>\n",
       "<table border=\"1\" class=\"dataframe\">\n",
       "  <thead>\n",
       "    <tr style=\"text-align: right;\">\n",
       "      <th></th>\n",
       "      <th>valores</th>\n",
       "    </tr>\n",
       "  </thead>\n",
       "  <tbody>\n",
       "    <tr>\n",
       "      <th>0</th>\n",
       "      <td>10</td>\n",
       "    </tr>\n",
       "    <tr>\n",
       "      <th>1</th>\n",
       "      <td>10</td>\n",
       "    </tr>\n",
       "    <tr>\n",
       "      <th>2</th>\n",
       "      <td>20</td>\n",
       "    </tr>\n",
       "    <tr>\n",
       "      <th>3</th>\n",
       "      <td>20</td>\n",
       "    </tr>\n",
       "    <tr>\n",
       "      <th>4</th>\n",
       "      <td>20</td>\n",
       "    </tr>\n",
       "    <tr>\n",
       "      <th>5</th>\n",
       "      <td>30</td>\n",
       "    </tr>\n",
       "    <tr>\n",
       "      <th>6</th>\n",
       "      <td>40</td>\n",
       "    </tr>\n",
       "  </tbody>\n",
       "</table>\n",
       "</div>"
      ],
      "text/plain": [
       "   valores\n",
       "0       10\n",
       "1       10\n",
       "2       20\n",
       "3       20\n",
       "4       20\n",
       "5       30\n",
       "6       40"
      ]
     },
     "execution_count": 10,
     "metadata": {},
     "output_type": "execute_result"
    }
   ],
   "source": [
    "df = pd.DataFrame()\n",
    "df[\"valores\"]= listado\n",
    "df"
   ]
  },
  {
   "cell_type": "markdown",
   "id": "f4950685",
   "metadata": {},
   "source": [
    "**2)**\n",
    "\n",
    "Usa value_counts() para determinar cuántas repeticiones hay de cada número en esa columna"
   ]
  },
  {
   "cell_type": "code",
   "execution_count": 13,
   "id": "ae7cb99f",
   "metadata": {},
   "outputs": [
    {
     "data": {
      "text/plain": [
       "20    3\n",
       "10    2\n",
       "30    1\n",
       "40    1\n",
       "Name: valores, dtype: int64"
      ]
     },
     "execution_count": 13,
     "metadata": {},
     "output_type": "execute_result"
    }
   ],
   "source": [
    "df.valores.value_counts()"
   ]
  },
  {
   "cell_type": "markdown",
   "id": "dc316d91",
   "metadata": {},
   "source": [
    "**3)**\n",
    "\n",
    "Haz un \".shape\" a esa información del value_counts()\n",
    "\n",
    "NOTA:\n",
    "\n",
    "Escribe: .shape justo al final"
   ]
  },
  {
   "cell_type": "code",
   "execution_count": 14,
   "id": "6ef3ca41",
   "metadata": {},
   "outputs": [
    {
     "data": {
      "text/plain": [
       "(4,)"
      ]
     },
     "execution_count": 14,
     "metadata": {},
     "output_type": "execute_result"
    }
   ],
   "source": [
    "df.valores.value_counts().shape"
   ]
  },
  {
   "cell_type": "markdown",
   "id": "959086c0",
   "metadata": {},
   "source": [
    "**4)**\n",
    "\n",
    "A esa misma instrucción con value_counts() escribe al final \".values\"\n",
    "\n",
    "Y veras la información..\n",
    "\n",
    "pasa esa información a lista si puedes\n",
    "\n",
    "y guarda ese listado como \"repeticiones\""
   ]
  },
  {
   "cell_type": "code",
   "execution_count": 20,
   "id": "d268fafc",
   "metadata": {},
   "outputs": [
    {
     "data": {
      "text/plain": [
       "[3, 2, 1, 1]"
      ]
     },
     "execution_count": 20,
     "metadata": {},
     "output_type": "execute_result"
    }
   ],
   "source": [
    "repeticiones = df.valores.value_counts().values.tolist()\n",
    "repeticiones"
   ]
  },
  {
   "cell_type": "markdown",
   "id": "a9ac494d",
   "metadata": {},
   "source": [
    "**5)**\n",
    "\n",
    "A esa información de value_counts() añade al final \".index\"\n",
    "\n",
    "Y pasa posteriormente a lista esa información\n",
    "\n",
    "y guarda ese listado con el nombre: \"valores\""
   ]
  },
  {
   "cell_type": "code",
   "execution_count": 24,
   "id": "78683a87",
   "metadata": {},
   "outputs": [
    {
     "data": {
      "text/plain": [
       "[20, 10, 30, 40]"
      ]
     },
     "execution_count": 24,
     "metadata": {},
     "output_type": "execute_result"
    }
   ],
   "source": [
    "valores = df.valores.value_counts().index.tolist()\n",
    "valores"
   ]
  },
  {
   "cell_type": "markdown",
   "id": "26ad2ef5",
   "metadata": {},
   "source": [
    "**6)**\n",
    "\n",
    "Crea un DataFrame con 2 columnas, \n",
    "\n",
    "1 para \"valores\"\n",
    "\n",
    "1 para \"repeticiones\"\n",
    "\n",
    "llámalo: \"df_value_counts\" (por ejemplo)\n",
    "\n",
    "Y observa.."
   ]
  },
  {
   "cell_type": "code",
   "execution_count": 27,
   "id": "ed51ede4",
   "metadata": {},
   "outputs": [
    {
     "data": {
      "text/html": [
       "<div>\n",
       "<style scoped>\n",
       "    .dataframe tbody tr th:only-of-type {\n",
       "        vertical-align: middle;\n",
       "    }\n",
       "\n",
       "    .dataframe tbody tr th {\n",
       "        vertical-align: top;\n",
       "    }\n",
       "\n",
       "    .dataframe thead th {\n",
       "        text-align: right;\n",
       "    }\n",
       "</style>\n",
       "<table border=\"1\" class=\"dataframe\">\n",
       "  <thead>\n",
       "    <tr style=\"text-align: right;\">\n",
       "      <th></th>\n",
       "      <th>valores</th>\n",
       "      <th>repeticiones</th>\n",
       "    </tr>\n",
       "  </thead>\n",
       "  <tbody>\n",
       "    <tr>\n",
       "      <th>0</th>\n",
       "      <td>20</td>\n",
       "      <td>3</td>\n",
       "    </tr>\n",
       "    <tr>\n",
       "      <th>1</th>\n",
       "      <td>10</td>\n",
       "      <td>2</td>\n",
       "    </tr>\n",
       "    <tr>\n",
       "      <th>2</th>\n",
       "      <td>30</td>\n",
       "      <td>1</td>\n",
       "    </tr>\n",
       "    <tr>\n",
       "      <th>3</th>\n",
       "      <td>40</td>\n",
       "      <td>1</td>\n",
       "    </tr>\n",
       "  </tbody>\n",
       "</table>\n",
       "</div>"
      ],
      "text/plain": [
       "   valores  repeticiones\n",
       "0       20             3\n",
       "1       10             2\n",
       "2       30             1\n",
       "3       40             1"
      ]
     },
     "execution_count": 27,
     "metadata": {},
     "output_type": "execute_result"
    }
   ],
   "source": [
    "df_value_counts = pd.DataFrame()\n",
    "df_value_counts[\"valores\"] = valores\n",
    "df_value_counts[\"repeticiones\"] = repeticiones\n",
    "\n",
    "df_value_counts"
   ]
  },
  {
   "cell_type": "markdown",
   "id": "cf9e6cdf",
   "metadata": {},
   "source": [
    "**7)**\n",
    "\n",
    "Haz lo siguiente: \"df.value_counts()\""
   ]
  },
  {
   "cell_type": "code",
   "execution_count": 28,
   "id": "818a1b98",
   "metadata": {},
   "outputs": [
    {
     "data": {
      "text/plain": [
       "valores\n",
       "20         3\n",
       "10         2\n",
       "30         1\n",
       "40         1\n",
       "dtype: int64"
      ]
     },
     "execution_count": 28,
     "metadata": {},
     "output_type": "execute_result"
    }
   ],
   "source": [
    "df.value_counts()"
   ]
  },
  {
   "cell_type": "markdown",
   "id": "42cd7439",
   "metadata": {},
   "source": [
    "**8)**\n",
    "\n",
    "Observa si hay diferencias entre: \"df\" y \"df_value_counts\""
   ]
  },
  {
   "cell_type": "code",
   "execution_count": 29,
   "id": "5e187049",
   "metadata": {},
   "outputs": [
    {
     "data": {
      "text/html": [
       "<div>\n",
       "<style scoped>\n",
       "    .dataframe tbody tr th:only-of-type {\n",
       "        vertical-align: middle;\n",
       "    }\n",
       "\n",
       "    .dataframe tbody tr th {\n",
       "        vertical-align: top;\n",
       "    }\n",
       "\n",
       "    .dataframe thead th {\n",
       "        text-align: right;\n",
       "    }\n",
       "</style>\n",
       "<table border=\"1\" class=\"dataframe\">\n",
       "  <thead>\n",
       "    <tr style=\"text-align: right;\">\n",
       "      <th></th>\n",
       "      <th>valores</th>\n",
       "    </tr>\n",
       "  </thead>\n",
       "  <tbody>\n",
       "    <tr>\n",
       "      <th>0</th>\n",
       "      <td>10</td>\n",
       "    </tr>\n",
       "    <tr>\n",
       "      <th>1</th>\n",
       "      <td>10</td>\n",
       "    </tr>\n",
       "    <tr>\n",
       "      <th>2</th>\n",
       "      <td>20</td>\n",
       "    </tr>\n",
       "    <tr>\n",
       "      <th>3</th>\n",
       "      <td>20</td>\n",
       "    </tr>\n",
       "    <tr>\n",
       "      <th>4</th>\n",
       "      <td>20</td>\n",
       "    </tr>\n",
       "    <tr>\n",
       "      <th>5</th>\n",
       "      <td>30</td>\n",
       "    </tr>\n",
       "    <tr>\n",
       "      <th>6</th>\n",
       "      <td>40</td>\n",
       "    </tr>\n",
       "  </tbody>\n",
       "</table>\n",
       "</div>"
      ],
      "text/plain": [
       "   valores\n",
       "0       10\n",
       "1       10\n",
       "2       20\n",
       "3       20\n",
       "4       20\n",
       "5       30\n",
       "6       40"
      ]
     },
     "execution_count": 29,
     "metadata": {},
     "output_type": "execute_result"
    }
   ],
   "source": [
    "df"
   ]
  },
  {
   "cell_type": "code",
   "execution_count": 40,
   "id": "febad5a1",
   "metadata": {},
   "outputs": [
    {
     "data": {
      "text/html": [
       "<div>\n",
       "<style scoped>\n",
       "    .dataframe tbody tr th:only-of-type {\n",
       "        vertical-align: middle;\n",
       "    }\n",
       "\n",
       "    .dataframe tbody tr th {\n",
       "        vertical-align: top;\n",
       "    }\n",
       "\n",
       "    .dataframe thead th {\n",
       "        text-align: right;\n",
       "    }\n",
       "</style>\n",
       "<table border=\"1\" class=\"dataframe\">\n",
       "  <thead>\n",
       "    <tr style=\"text-align: right;\">\n",
       "      <th></th>\n",
       "      <th>valores</th>\n",
       "      <th>repeticiones</th>\n",
       "    </tr>\n",
       "  </thead>\n",
       "  <tbody>\n",
       "    <tr>\n",
       "      <th>0</th>\n",
       "      <td>20</td>\n",
       "      <td>3</td>\n",
       "    </tr>\n",
       "    <tr>\n",
       "      <th>1</th>\n",
       "      <td>10</td>\n",
       "      <td>2</td>\n",
       "    </tr>\n",
       "    <tr>\n",
       "      <th>2</th>\n",
       "      <td>30</td>\n",
       "      <td>1</td>\n",
       "    </tr>\n",
       "    <tr>\n",
       "      <th>3</th>\n",
       "      <td>40</td>\n",
       "      <td>1</td>\n",
       "    </tr>\n",
       "  </tbody>\n",
       "</table>\n",
       "</div>"
      ],
      "text/plain": [
       "   valores  repeticiones\n",
       "0       20             3\n",
       "1       10             2\n",
       "2       30             1\n",
       "3       40             1"
      ]
     },
     "execution_count": 40,
     "metadata": {},
     "output_type": "execute_result"
    }
   ],
   "source": [
    "df_value_counts"
   ]
  },
  {
   "cell_type": "markdown",
   "id": "d2bfa844",
   "metadata": {},
   "source": [
    "# Ejercicio 3"
   ]
  },
  {
   "cell_type": "markdown",
   "id": "c75267de",
   "metadata": {},
   "source": [
    "**Comparación de matrices**\n",
    "\n",
    "Haz el código que testee si esas 2 matrices son iguales"
   ]
  },
  {
   "cell_type": "code",
   "execution_count": 41,
   "id": "580ae6b1",
   "metadata": {},
   "outputs": [],
   "source": [
    "def comparar_matrices(m1, m2):\n",
    "    \n",
    "    if m1.shape != m2.shape: return False\n",
    "\n",
    "    for i in range(len(m1)):\n",
    "        for j in range(len(m1[0])):\n",
    "            if m1[i,j]!=m2[i,j]:\n",
    "                return False\n",
    "    \n",
    "    return True\n"
   ]
  },
  {
   "cell_type": "markdown",
   "id": "351bdc13",
   "metadata": {},
   "source": [
    "**1)**\n",
    "\n",
    "Dadas:\n",
    "    \n",
    "* matriz1 = np.array([[1,2],[3,4]])\n",
    "\n",
    "* matriz2 = np.array([[1,2],[3,8]])"
   ]
  },
  {
   "cell_type": "code",
   "execution_count": 38,
   "id": "0131f7d8",
   "metadata": {},
   "outputs": [
    {
     "name": "stdout",
     "output_type": "stream",
     "text": [
      "Las matrices son diferentes\n"
     ]
    }
   ],
   "source": [
    "matriz1 = np.array([\n",
    "    [1,2],\n",
    "    [3,4]\n",
    "])\n",
    "    \n",
    "matriz2 = np.array([\n",
    "    [1,2],\n",
    "    [3,8],\n",
    "])\n",
    "\n",
    "if comparar_matrices(matriz1,matriz2): print(\"Las matrices son iguales\")\n",
    "else: print(\"Las matrices son diferentes\")"
   ]
  },
  {
   "cell_type": "markdown",
   "id": "c618f278",
   "metadata": {},
   "source": [
    "PISTAS:\n",
    "    \n",
    "* -1- RECORRER MATRIZ1 Y MATRIZ2 CON LA PARAMETRIZACIÓN de **i y j**\n",
    "\n",
    "COMPROBAR: **( matriz1 [ i ][ j ] == matriz2 [ i ][ j ] )** \n",
    "               \n",
    "\n",
    "* -2- crear una variable contador (inicializada en 0)\n",
    "\n",
    "y, cuando detecte, un número de una matriz en una posición concreta, \n",
    "\n",
    "y sea diferente del número que tiene LA OTRA MATRIZ..entonces..\n",
    "\n",
    "\n",
    "* -3- incremento 1 unidad en dicho contador:\n",
    "\n",
    "SI los números son DISTINTOS\n",
    "\n",
    "--> entonces, que se incremente en 1 unidad..\n",
    "\n",
    "de tal manera que si ese contador=0 (al final)--> son todos iguales --> matriz1 = matriz2\n",
    "\n",
    "y si es distinto de 0 -> es que POR LO MENOS 1 vez encontró un número diferente\n",
    "\n",
    "matriz1 != matriz2\n",
    "\n",
    "\n",
    "* -4- puedes usar np.arange( ) si lo deseas para las filas y para las columnas\n",
    "\n",
    "* -5- recuerda el ejercicio del cronómetro para tener una referencia"
   ]
  },
  {
   "cell_type": "markdown",
   "id": "a7e5a643",
   "metadata": {},
   "source": [
    "**2)**\n",
    "\n",
    "Dadas:\n",
    "    \n",
    "* matriz1 = np.array([[1,2],[3,4]])\n",
    "\n",
    "* matriz2 = np.array([[1,2],[3,4]])"
   ]
  },
  {
   "cell_type": "code",
   "execution_count": 39,
   "id": "1cd66d2c",
   "metadata": {},
   "outputs": [
    {
     "name": "stdout",
     "output_type": "stream",
     "text": [
      "Las matrices son iguales\n"
     ]
    }
   ],
   "source": [
    "matriz1 = np.array([\n",
    "    [1,2],\n",
    "    [3,4]\n",
    "])\n",
    "    \n",
    "matriz2 = np.array([\n",
    "    [1,2],\n",
    "    [3,4],\n",
    "])\n",
    "\n",
    "if comparar_matrices(matriz1,matriz2): print(\"Las matrices son iguales\")\n",
    "else: print(\"Las matrices son diferentes\")"
   ]
  },
  {
   "cell_type": "markdown",
   "id": "92d4594b",
   "metadata": {},
   "source": [
    "*Creado por:*\n",
    "\n",
    "*Isabel Maniega*"
   ]
  }
 ],
 "metadata": {
  "kernelspec": {
   "display_name": "Python 3 (ipykernel)",
   "language": "python",
   "name": "python3"
  },
  "language_info": {
   "codemirror_mode": {
    "name": "ipython",
    "version": 3
   },
   "file_extension": ".py",
   "mimetype": "text/x-python",
   "name": "python",
   "nbconvert_exporter": "python",
   "pygments_lexer": "ipython3",
   "version": "3.8.10"
  }
 },
 "nbformat": 4,
 "nbformat_minor": 5
}

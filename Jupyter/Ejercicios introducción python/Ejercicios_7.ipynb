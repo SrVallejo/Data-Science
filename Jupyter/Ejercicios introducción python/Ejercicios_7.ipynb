{
 "cells": [
  {
   "cell_type": "code",
   "execution_count": 1,
   "id": "da0d15a7",
   "metadata": {},
   "outputs": [],
   "source": [
    "import numpy as np"
   ]
  },
  {
   "cell_type": "markdown",
   "id": "cf5943e0",
   "metadata": {},
   "source": [
    "**Contenido creado por:**\n",
    "\n",
    "*Isabel Maniega*"
   ]
  },
  {
   "cell_type": "markdown",
   "id": "2588a6d8",
   "metadata": {},
   "source": [
    "****"
   ]
  },
  {
   "cell_type": "markdown",
   "id": "2afc2981",
   "metadata": {},
   "source": [
    "# Ejercicio 1"
   ]
  },
  {
   "cell_type": "markdown",
   "id": "613c7e99",
   "metadata": {},
   "source": [
    "**Dado: \"np.arange(2,10)\"** \n",
    "\n",
    "sigue los siguientes pasos:"
   ]
  },
  {
   "cell_type": "markdown",
   "id": "d9c80048",
   "metadata": {},
   "source": [
    "**2.1)**\n",
    "\n",
    "Escribe esa instrucción y asígnaselo a la variable \"a\""
   ]
  },
  {
   "cell_type": "code",
   "execution_count": 2,
   "id": "cde32770",
   "metadata": {},
   "outputs": [
    {
     "data": {
      "text/plain": [
       "array([2, 3, 4, 5, 6, 7, 8, 9])"
      ]
     },
     "execution_count": 2,
     "metadata": {},
     "output_type": "execute_result"
    }
   ],
   "source": [
    "a = np.arange(2,10)\n",
    "a"
   ]
  },
  {
   "cell_type": "markdown",
   "id": "f418391c",
   "metadata": {},
   "source": [
    "**2.2)** \n",
    "\n",
    "¿Es equivalente a \"np.arange(2,10,1)\"?"
   ]
  },
  {
   "cell_type": "code",
   "execution_count": 3,
   "id": "464d4dcc",
   "metadata": {},
   "outputs": [
    {
     "name": "stdout",
     "output_type": "stream",
     "text": [
      "Son iguales\n"
     ]
    }
   ],
   "source": [
    "def comparar_arrays(a,b):\n",
    "    for i in range(len(a)):\n",
    "        if a[i] != b[i]:\n",
    "            print(f\"{a[i]} y {b[i]} son diferentes\")\n",
    "            return False\n",
    "    return True\n",
    "\n",
    "\n",
    "\n",
    "if len(a) == len(np.arange(2,10,1)):\n",
    "    if comparar_arrays(a,np.arange(2,10,1)):\n",
    "        print(\"Son iguales\")\n",
    "    else:\n",
    "        print(\"No tiene los mismos valores\")\n",
    "else:\n",
    "    print(\"No tienen el mismo tamaño\")\n",
    "    "
   ]
  },
  {
   "cell_type": "code",
   "execution_count": 4,
   "id": "e8ef6879",
   "metadata": {},
   "outputs": [
    {
     "data": {
      "text/plain": [
       "True"
      ]
     },
     "execution_count": 4,
     "metadata": {},
     "output_type": "execute_result"
    }
   ],
   "source": [
    "a = np.arange(2,10)\n",
    "np.array_equal(a,np.arange(2,10,1))"
   ]
  },
  {
   "cell_type": "markdown",
   "id": "acc1987a",
   "metadata": {},
   "source": [
    "**2.3)** \n",
    "\n",
    "se pide quedarse con aquellos **números menores de 5.** \n",
    "\n",
    "hazlo con numpy si puedes para la variable \"a\""
   ]
  },
  {
   "cell_type": "code",
   "execution_count": 5,
   "id": "3332554b",
   "metadata": {},
   "outputs": [
    {
     "data": {
      "text/plain": [
       "array([2, 3, 4])"
      ]
     },
     "execution_count": 5,
     "metadata": {},
     "output_type": "execute_result"
    }
   ],
   "source": [
    "a = np.arange(2,10)\n",
    "pos_del = []\n",
    "for i in range(len(a)):\n",
    "    if a[i] >= 5:\n",
    "        pos_del.append(i)\n",
    "\n",
    "np.delete(a,pos_del)        "
   ]
  },
  {
   "cell_type": "markdown",
   "id": "c148295a",
   "metadata": {},
   "source": [
    "**2.4)** \n",
    "\n",
    "hazlo pasando esa información (de \"a\") a una lista"
   ]
  },
  {
   "cell_type": "code",
   "execution_count": 6,
   "id": "e85f1cfd",
   "metadata": {},
   "outputs": [
    {
     "data": {
      "text/plain": [
       "[2, 3, 4]"
      ]
     },
     "execution_count": 6,
     "metadata": {},
     "output_type": "execute_result"
    }
   ],
   "source": [
    "# pasando a lista..\n",
    "a = np.arange(2,10)\n",
    "b = []\n",
    "for i in range(len(a)):\n",
    "    if a[i] < 5:\n",
    "        b.append(a[i])\n",
    "b"
   ]
  },
  {
   "cell_type": "markdown",
   "id": "9544cee5",
   "metadata": {},
   "source": [
    "**2.5)** \n",
    "\n",
    "en base a los resultados.. \n",
    "\n",
    "¿Es posible recorrer 1 a 1 un array de numpy? "
   ]
  },
  {
   "cell_type": "code",
   "execution_count": 7,
   "id": "a99526ea",
   "metadata": {},
   "outputs": [],
   "source": [
    "# responde..\n",
    "# Sí"
   ]
  },
  {
   "cell_type": "markdown",
   "id": "422d51b9",
   "metadata": {},
   "source": [
    "**2.6)** \n",
    "\n",
    "Haz el mismo proceso programando una sola línea (toma \"a\" como referencia)"
   ]
  },
  {
   "cell_type": "code",
   "execution_count": 8,
   "id": "7f6e8bca",
   "metadata": {},
   "outputs": [
    {
     "data": {
      "text/plain": [
       "array([2, 3, 4])"
      ]
     },
     "execution_count": 8,
     "metadata": {},
     "output_type": "execute_result"
    }
   ],
   "source": [
    "# en una sola línea..\n",
    "b = np.array([i for i in a if i<5])\n",
    "b"
   ]
  },
  {
   "cell_type": "markdown",
   "id": "ae36a7ac",
   "metadata": {},
   "source": [
    "****"
   ]
  },
  {
   "cell_type": "markdown",
   "id": "cd86512d",
   "metadata": {},
   "source": [
    "# Ejercicio 2"
   ]
  },
  {
   "cell_type": "markdown",
   "id": "d8ba91d9",
   "metadata": {},
   "source": [
    "Para estos valores (v de valores por abreviar):\n",
    "\n",
    "v1 = 4\n",
    "\n",
    "v2 = 5\n",
    "\n",
    "v3 = 7\n",
    "\n",
    "v4 = 8\n",
    "\n",
    "El objetivo será calcular la media de estos valores\n",
    "\n",
    "Para ello sigue los siguientes pasos:"
   ]
  },
  {
   "cell_type": "markdown",
   "id": "35319124",
   "metadata": {},
   "source": [
    "**3.1)**\n",
    "\n",
    "imprime los valores de esas variables v1,v2,v3,v4"
   ]
  },
  {
   "cell_type": "code",
   "execution_count": 9,
   "id": "8cb4e367",
   "metadata": {},
   "outputs": [
    {
     "name": "stdout",
     "output_type": "stream",
     "text": [
      "Los valores de las variables són: 4, 5, 7 y 8\n"
     ]
    }
   ],
   "source": [
    "# valores..\n",
    "v1 = 4\n",
    "v2 = 5\n",
    "v3 = 7\n",
    "v4 = 8\n",
    "\n",
    "print(f\"Los valores de las variables són: {v1}, {v2}, {v3} y {v4}\")"
   ]
  },
  {
   "cell_type": "markdown",
   "id": "4bec4d81",
   "metadata": {},
   "source": [
    "**3.2)**\n",
    "\n",
    "Descomenta las 2 líneas siguientes para aprender.. \n",
    "\n",
    "que es posible asignar varios valores en la misma línea\n",
    "\n",
    "Y la asignación de valores a variables se hace de forma consecutiva."
   ]
  },
  {
   "cell_type": "code",
   "execution_count": 10,
   "id": "93dd9b36",
   "metadata": {},
   "outputs": [
    {
     "data": {
      "text/plain": [
       "(4, 5, 7, 8)"
      ]
     },
     "execution_count": 10,
     "metadata": {},
     "output_type": "execute_result"
    }
   ],
   "source": [
    " v1,v2,v3,v4 = 4, 5, 7, 8\n",
    " v1,v2,v3,v4"
   ]
  },
  {
   "cell_type": "code",
   "execution_count": 11,
   "id": "cacd0ee3",
   "metadata": {},
   "outputs": [
    {
     "data": {
      "text/plain": [
       "(2, 3)"
      ]
     },
     "execution_count": 11,
     "metadata": {},
     "output_type": "execute_result"
    }
   ],
   "source": [
    "# otro ejemplo: (descomenta las 2 siguientes líneas de código)\n",
    "\n",
    "x,y=2,3\n",
    "x,y"
   ]
  },
  {
   "cell_type": "markdown",
   "id": "3e04d5bf",
   "metadata": {},
   "source": [
    "**3.3)** \n",
    "\n",
    "Descomenta la línea siguiente para aprender una posible forma de calcular la media.\n",
    "\n",
    "Usamos nuevamente numpy.."
   ]
  },
  {
   "cell_type": "code",
   "execution_count": 12,
   "id": "690472ce",
   "metadata": {},
   "outputs": [
    {
     "data": {
      "text/plain": [
       "6.0"
      ]
     },
     "execution_count": 12,
     "metadata": {},
     "output_type": "execute_result"
    }
   ],
   "source": [
    "media_numpy = np.mean([v1,v2,v3,v4])\n",
    "media_numpy"
   ]
  },
  {
   "cell_type": "markdown",
   "id": "e4480d61",
   "metadata": {},
   "source": [
    "**3.4)**\n",
    "\n",
    "Calcula la media sin usar numpy\n",
    "\n",
    "Si el resultado no sale bien, razona cómo debería hacerse.."
   ]
  },
  {
   "cell_type": "code",
   "execution_count": 13,
   "id": "02ad356e",
   "metadata": {},
   "outputs": [
    {
     "data": {
      "text/plain": [
       "6.0"
      ]
     },
     "execution_count": 13,
     "metadata": {},
     "output_type": "execute_result"
    }
   ],
   "source": [
    "# media sin numpy..\n",
    "media = (v1 + v2 +v3 + v4)/4\n",
    "media"
   ]
  },
  {
   "cell_type": "markdown",
   "id": "b0b08b39",
   "metadata": {},
   "source": [
    "****"
   ]
  },
  {
   "cell_type": "markdown",
   "id": "a6dad81f",
   "metadata": {},
   "source": [
    "# Ejercicio 3"
   ]
  },
  {
   "cell_type": "markdown",
   "id": "c7371772",
   "metadata": {},
   "source": [
    "**Factorial de un número**\n",
    "\n",
    "**Nota:**\n",
    "    \n",
    "El **Factorial de 5**, por ejemplo:\n",
    "    \n",
    "**5! = 5 * 4 * 3 * 2 * 1 = 120**\n",
    "\n",
    "y el de 3:\n",
    "\n",
    "3! = 3 * 2 * 1 = 6\n",
    "\n",
    "y así para todos.."
   ]
  },
  {
   "cell_type": "markdown",
   "id": "0efc1229",
   "metadata": {},
   "source": [
    "**PASOS A SEGUIR Y COSAS A TENER EN CUENTA** \n",
    "\n",
    "Pide por teclado el número del cual quieres calcular el factorial.\n",
    "\n",
    "Para que no sea muy grande te recomendamos:\n",
    "\n",
    "3,4 o 5 (para hacer las pruebas)\n",
    "\n",
    "si ya no lo recuerdas o nunca lo viste, no te preocupes..\n",
    "\n",
    "3! es: 3 * 2 * 1 = 6\n",
    "\n",
    "4! es: 4 * 3 * 2 * 1 = 24\n",
    "\n",
    "5! es: 5 * 4 * 3 * 2 * 1 = 120\n",
    "\n",
    "(esto es lo que se pide, en esencia)"
   ]
  },
  {
   "cell_type": "code",
   "execution_count": 14,
   "id": "3f8cdd77",
   "metadata": {},
   "outputs": [],
   "source": [
    "def factorial_r(x):\n",
    "    if x < 2:\n",
    "        return 1\n",
    "    else:\n",
    "        return(x*factorial_r(x-1))\n"
   ]
  },
  {
   "cell_type": "code",
   "execution_count": 15,
   "id": "2763c042",
   "metadata": {},
   "outputs": [],
   "source": [
    "def factorial_b(x):\n",
    "    res = 1\n",
    "    while x > 1:\n",
    "        res *= x\n",
    "        x -= 1\n",
    "    return res"
   ]
  },
  {
   "cell_type": "code",
   "execution_count": 16,
   "id": "ad10aeb7",
   "metadata": {},
   "outputs": [
    {
     "name": "stdout",
     "output_type": "stream",
     "text": [
      "Introduce número para obtener el factorial: 5\n",
      "5! = 120\n"
     ]
    }
   ],
   "source": [
    "x = int(input(\"Introduce número para obtener el factorial: \"))\n",
    "print(f\"{x}! = {factorial_r(x)}\")"
   ]
  },
  {
   "cell_type": "markdown",
   "id": "5b331c12",
   "metadata": {},
   "source": [
    "## Ejercicio 4"
   ]
  },
  {
   "cell_type": "code",
   "execution_count": 39,
   "id": "338c34be",
   "metadata": {},
   "outputs": [
    {
     "name": "stdout",
     "output_type": "stream",
     "text": [
      "01:59:59\n"
     ]
    }
   ],
   "source": [
    "from time import sleep\n",
    "from IPython.display import clear_output\n",
    "\n",
    "horas = 0\n",
    "minutos = 0\n",
    "segundos = 0\n",
    "cero_segundos = \"0\"\n",
    "cero_minutos = \"0\"\n",
    "\n",
    "\n",
    "while horas<2:\n",
    "    clear_output(wait=True)\n",
    "    print(f\"0{horas}:{cero_minutos}{minutos}:{cero_segundos}{segundos}\")\n",
    "    sleep(0.000001)\n",
    "    segundos += 1\n",
    "    \n",
    "    \n",
    "    if segundos < 10:\n",
    "        cero_segundos = \"0\"\n",
    "    else:\n",
    "        cero_segundos =\"\"\n",
    "        \n",
    "    if segundos > 59:\n",
    "        minutos += 1\n",
    "        segundos = 0\n",
    "        if minutos < 10:\n",
    "             cero_minutos = \"0\"\n",
    "        else:\n",
    "            cero_minutos = \"\"\n",
    "        if minutos > 59:\n",
    "            horas += 1\n",
    "            minutos = 0\n"
   ]
  },
  {
   "cell_type": "markdown",
   "id": "03b83bfb",
   "metadata": {},
   "source": [
    "****"
   ]
  },
  {
   "cell_type": "markdown",
   "id": "d78f02c5",
   "metadata": {},
   "source": [
    "**Contenido creado por:**\n",
    "\n",
    "*Isabel Maniega*"
   ]
  }
 ],
 "metadata": {
  "kernelspec": {
   "display_name": "Python 3 (ipykernel)",
   "language": "python",
   "name": "python3"
  },
  "language_info": {
   "codemirror_mode": {
    "name": "ipython",
    "version": 3
   },
   "file_extension": ".py",
   "mimetype": "text/x-python",
   "name": "python",
   "nbconvert_exporter": "python",
   "pygments_lexer": "ipython3",
   "version": "3.8.10"
  }
 },
 "nbformat": 4,
 "nbformat_minor": 5
}

{
 "cells": [
  {
   "cell_type": "markdown",
   "id": "424a7ea7",
   "metadata": {},
   "source": []
  },
  {
   "cell_type": "markdown",
   "id": "97fcabc0",
   "metadata": {},
   "source": [
    "## Importando librerias"
   ]
  },
  {
   "cell_type": "code",
   "execution_count": 1,
   "id": "3502c78d",
   "metadata": {},
   "outputs": [],
   "source": [
    "# pip install pandas"
   ]
  },
  {
   "cell_type": "code",
   "execution_count": 3,
   "id": "47536776",
   "metadata": {},
   "outputs": [],
   "source": [
    "import pandas as pd\n",
    "import numpy as np\n",
    "import matplotlib.pyplot as plt"
   ]
  },
  {
   "cell_type": "markdown",
   "id": "46b168f6",
   "metadata": {},
   "source": [
    "# ---------- introducción a python -----------"
   ]
  },
  {
   "cell_type": "markdown",
   "id": "216c93e9",
   "metadata": {},
   "source": [
    "## -1- variables en python"
   ]
  },
  {
   "cell_type": "code",
   "execution_count": 4,
   "id": "a91bef30",
   "metadata": {},
   "outputs": [
    {
     "data": {
      "text/plain": [
       "'Hola Mundo'"
      ]
     },
     "execution_count": 4,
     "metadata": {},
     "output_type": "execute_result"
    }
   ],
   "source": [
    "info = \"Hola Mundo\"\n",
    "info"
   ]
  },
  {
   "cell_type": "code",
   "execution_count": 5,
   "id": "77bdc94c",
   "metadata": {},
   "outputs": [
    {
     "data": {
      "text/plain": [
       "10"
      ]
     },
     "execution_count": 5,
     "metadata": {},
     "output_type": "execute_result"
    }
   ],
   "source": [
    "info = 10\n",
    "info"
   ]
  },
  {
   "cell_type": "markdown",
   "id": "d4b9954f",
   "metadata": {},
   "source": [
    "## -2- print"
   ]
  },
  {
   "cell_type": "markdown",
   "id": "8fe0b2d5",
   "metadata": {},
   "source": [
    "### -2.1- print en jupiter --> no es necesario"
   ]
  },
  {
   "cell_type": "code",
   "execution_count": 6,
   "id": "d8569d33",
   "metadata": {},
   "outputs": [
    {
     "data": {
      "text/plain": [
       "1000"
      ]
     },
     "execution_count": 6,
     "metadata": {},
     "output_type": "execute_result"
    }
   ],
   "source": [
    "var1 = 1000\n",
    "var1"
   ]
  },
  {
   "cell_type": "markdown",
   "id": "2b363e50",
   "metadata": {},
   "source": [
    "### -2.2- print con vsc --> Es necesario poner print"
   ]
  },
  {
   "cell_type": "code",
   "execution_count": 7,
   "id": "beeeb362",
   "metadata": {},
   "outputs": [
    {
     "name": "stdout",
     "output_type": "stream",
     "text": [
      "1000\n"
     ]
    }
   ],
   "source": [
    "print(var1)"
   ]
  },
  {
   "cell_type": "markdown",
   "id": "d4faa99f",
   "metadata": {},
   "source": [
    "### -2.3- Formas de imprimir"
   ]
  },
  {
   "cell_type": "code",
   "execution_count": 8,
   "id": "b39b50cb",
   "metadata": {},
   "outputs": [
    {
     "data": {
      "text/plain": [
       "8"
      ]
     },
     "execution_count": 8,
     "metadata": {},
     "output_type": "execute_result"
    }
   ],
   "source": [
    "x = 3\n",
    "y = 5\n",
    "z = x+y\n",
    "z"
   ]
  },
  {
   "cell_type": "code",
   "execution_count": 10,
   "id": "fe1d8000",
   "metadata": {},
   "outputs": [
    {
     "name": "stdout",
     "output_type": "stream",
     "text": [
      "La suma de 3 y 5 es igual a 8\n"
     ]
    }
   ],
   "source": [
    "print(\"La suma de\", x, \"y\", y, \"es igual a\", z)"
   ]
  },
  {
   "cell_type": "code",
   "execution_count": 13,
   "id": "50d0e2d1",
   "metadata": {},
   "outputs": [
    {
     "name": "stdout",
     "output_type": "stream",
     "text": [
      "La suma de 3 y 5 es igual a 8\n"
     ]
    }
   ],
   "source": [
    "print(\"La suma de \" + str(x) + \" y \" + str(y) + \" es igual a \" + str(z))"
   ]
  },
  {
   "cell_type": "code",
   "execution_count": 14,
   "id": "552dc655",
   "metadata": {},
   "outputs": [
    {
     "name": "stdout",
     "output_type": "stream",
     "text": [
      "La suma de 3 y 5 es igual a 8\n"
     ]
    }
   ],
   "source": [
    "print (f\"La suma de {x} y {y} es igual a {z}\")"
   ]
  },
  {
   "cell_type": "code",
   "execution_count": 15,
   "id": "d2633d2c",
   "metadata": {},
   "outputs": [
    {
     "name": "stdout",
     "output_type": "stream",
     "text": [
      "La suma de 3 y 5 es igual a 8\n"
     ]
    }
   ],
   "source": [
    "print (\"La suma de %s y %s es igual a %s\" % (x,y,z))\n"
   ]
  },
  {
   "cell_type": "markdown",
   "id": "371aca8d",
   "metadata": {},
   "source": [
    "### -3.1- Concatenación"
   ]
  },
  {
   "cell_type": "code",
   "execution_count": 16,
   "id": "d54e0966",
   "metadata": {},
   "outputs": [
    {
     "name": "stdout",
     "output_type": "stream",
     "text": [
      "HolaMundo\n"
     ]
    }
   ],
   "source": [
    "palabra1 = \"Hola\"\n",
    "palabra2 = \"Mundo\"\n",
    "print(palabra1 + palabra2)"
   ]
  },
  {
   "cell_type": "markdown",
   "id": "39e50b26",
   "metadata": {},
   "source": [
    "### -3.2- Métodos upper, lower y title"
   ]
  },
  {
   "cell_type": "code",
   "execution_count": 18,
   "id": "dbbe2612",
   "metadata": {},
   "outputs": [
    {
     "data": {
      "text/plain": [
       "'Hola Mundo'"
      ]
     },
     "execution_count": 18,
     "metadata": {},
     "output_type": "execute_result"
    }
   ],
   "source": [
    "info = \"hola mundo\"\n",
    "info = info.title()\n",
    "info"
   ]
  },
  {
   "cell_type": "code",
   "execution_count": 20,
   "id": "45490d88",
   "metadata": {},
   "outputs": [
    {
     "data": {
      "text/plain": [
       "'HOLA MUNDO'"
      ]
     },
     "execution_count": 20,
     "metadata": {},
     "output_type": "execute_result"
    }
   ],
   "source": [
    "info = info.upper()\n",
    "info"
   ]
  },
  {
   "cell_type": "code",
   "execution_count": 21,
   "id": "7cd33925",
   "metadata": {},
   "outputs": [
    {
     "data": {
      "text/plain": [
       "'hola mundo'"
      ]
     },
     "execution_count": 21,
     "metadata": {},
     "output_type": "execute_result"
    }
   ],
   "source": [
    "info = info.lower()\n",
    "info"
   ]
  },
  {
   "cell_type": "markdown",
   "id": "aabad231",
   "metadata": {},
   "source": [
    "## Pruebas de cosas"
   ]
  },
  {
   "cell_type": "markdown",
   "id": "73c0a0e3",
   "metadata": {},
   "source": [
    "### Tipo double"
   ]
  },
  {
   "cell_type": "code",
   "execution_count": 36,
   "id": "1bc46689",
   "metadata": {},
   "outputs": [
    {
     "data": {
      "text/plain": [
       "float"
      ]
     },
     "execution_count": 36,
     "metadata": {},
     "output_type": "execute_result"
    }
   ],
   "source": [
    "d = 999999999999999999999999912312312399999999.99999999999999999991231231231231000000000000000000054\n",
    "type(d)\n"
   ]
  },
  {
   "cell_type": "code",
   "execution_count": 35,
   "id": "62fca78f",
   "metadata": {},
   "outputs": [
    {
     "data": {
      "text/plain": [
       "1e+42"
      ]
     },
     "execution_count": 35,
     "metadata": {},
     "output_type": "execute_result"
    }
   ],
   "source": [
    "d"
   ]
  },
  {
   "cell_type": "markdown",
   "id": "eaa46ba0",
   "metadata": {},
   "source": [
    "# Ejercicios"
   ]
  },
  {
   "cell_type": "markdown",
   "id": "82228616",
   "metadata": {},
   "source": [
    "## Ejercicio 6"
   ]
  },
  {
   "cell_type": "code",
   "execution_count": 63,
   "id": "fdb2ed89",
   "metadata": {},
   "outputs": [
    {
     "name": "stdout",
     "output_type": "stream",
     "text": [
      "26 + 35 = 61 \n",
      "26 * 35 = 910 \n",
      "(2 + 32) * 10 = 340\n",
      "3 elevado a 9 es igual a 19683\n",
      "Redondeado es 19683\n",
      "Y su tipo es: int\n"
     ]
    }
   ],
   "source": [
    "x = 26\n",
    "y = 35\n",
    "suma = x + y\n",
    "multi = x*y\n",
    "operacion = (2 + 32) * 10\n",
    "potencia = 3**9\n",
    "redondeo = round(potencia,2)\n",
    "tipo = type(redondeo)\n",
    "tipo = str(tipo)\n",
    "tipo = tipo.replace(\"<class '\",\"\")\n",
    "tipo = tipo.replace (\"'>\",\"\")\n",
    "\n",
    "print(f\"{x} + {y} = {suma} \\n{x} * {y} = {multi} \\n(2 + 32) * 10 = {operacion}\")\n",
    "print(f\"3 elevado a 9 es igual a {potencia}\\nRedondeado es {redondeo}\\nY su tipo es: {tipo}\")"
   ]
  },
  {
   "cell_type": "markdown",
   "id": "ed09d0af",
   "metadata": {},
   "source": [
    "## Ejercicio 7"
   ]
  },
  {
   "cell_type": "code",
   "execution_count": 52,
   "id": "7a42e982",
   "metadata": {},
   "outputs": [
    {
     "name": "stdout",
     "output_type": "stream",
     "text": [
      "Absoluto: 32 \n",
      "Máximo: 4 \n",
      "Mínimo: -10\n"
     ]
    }
   ],
   "source": [
    "absoluto = abs(-32)\n",
    "mini = min(3,-6,4,-10,2.6666)\n",
    "maxi = max(3,-6,4,-10,2.6666)\n",
    "print (f\"Absoluto: {absoluto} \\nMáximo: {maxi} \\nMínimo: {mini}\")"
   ]
  },
  {
   "cell_type": "code",
   "execution_count": 67,
   "id": "6733bba6",
   "metadata": {},
   "outputs": [],
   "source": [
    "import pandas as pd"
   ]
  },
  {
   "cell_type": "markdown",
   "id": "eb383aff",
   "metadata": {},
   "source": [
    "## Ejercicio 8"
   ]
  },
  {
   "cell_type": "code",
   "execution_count": 4,
   "id": "7f540cf0",
   "metadata": {},
   "outputs": [
    {
     "data": {
      "text/plain": [
       "[10, -1, 8, 5, -1, 20]"
      ]
     },
     "execution_count": 4,
     "metadata": {},
     "output_type": "execute_result"
    }
   ],
   "source": [
    "L = [10,None,8,5,None,20]\n",
    "for(x) in range(len(L)):\n",
    "    if L[x]==None:\n",
    "        L[x]=-1\n",
    "L"
   ]
  },
  {
   "cell_type": "code",
   "execution_count": 9,
   "id": "24e23373",
   "metadata": {},
   "outputs": [
    {
     "data": {
      "text/html": [
       "<div>\n",
       "<style scoped>\n",
       "    .dataframe tbody tr th:only-of-type {\n",
       "        vertical-align: middle;\n",
       "    }\n",
       "\n",
       "    .dataframe tbody tr th {\n",
       "        vertical-align: top;\n",
       "    }\n",
       "\n",
       "    .dataframe thead th {\n",
       "        text-align: right;\n",
       "    }\n",
       "</style>\n",
       "<table border=\"1\" class=\"dataframe\">\n",
       "  <thead>\n",
       "    <tr style=\"text-align: right;\">\n",
       "      <th></th>\n",
       "      <th>Lista</th>\n",
       "    </tr>\n",
       "  </thead>\n",
       "  <tbody>\n",
       "    <tr>\n",
       "      <th>0</th>\n",
       "      <td>10.0</td>\n",
       "    </tr>\n",
       "    <tr>\n",
       "      <th>1</th>\n",
       "      <td>NaN</td>\n",
       "    </tr>\n",
       "    <tr>\n",
       "      <th>2</th>\n",
       "      <td>8.0</td>\n",
       "    </tr>\n",
       "    <tr>\n",
       "      <th>3</th>\n",
       "      <td>5.0</td>\n",
       "    </tr>\n",
       "    <tr>\n",
       "      <th>4</th>\n",
       "      <td>NaN</td>\n",
       "    </tr>\n",
       "    <tr>\n",
       "      <th>5</th>\n",
       "      <td>20.0</td>\n",
       "    </tr>\n",
       "  </tbody>\n",
       "</table>\n",
       "</div>"
      ],
      "text/plain": [
       "   Lista\n",
       "0   10.0\n",
       "1    NaN\n",
       "2    8.0\n",
       "3    5.0\n",
       "4    NaN\n",
       "5   20.0"
      ]
     },
     "execution_count": 9,
     "metadata": {},
     "output_type": "execute_result"
    }
   ],
   "source": [
    "L = [10,None,8,5,None,20]\n",
    "df = pd.DataFrame(L, columns = [\"Lista\"])\n",
    "df"
   ]
  },
  {
   "cell_type": "markdown",
   "id": "16d888b6",
   "metadata": {},
   "source": [
    "## Ejercicio 9"
   ]
  },
  {
   "cell_type": "code",
   "execution_count": 18,
   "id": "8d6dc826",
   "metadata": {},
   "outputs": [
    {
     "name": "stdout",
     "output_type": "stream",
     "text": [
      "['Python', 'Matlab', 'R', 'VBA', 'Julia', 'C++']\n",
      "[1, 0, 0, 0, 0, 1]\n"
     ]
    }
   ],
   "source": [
    "lenguajes = [\"Python\", \"Matlab\", \"R\", \"VBA\", \"Julia\", \"C++\"]\n",
    "print(lenguajes)\n",
    "\n",
    "for i in range(len(lenguajes)) :\n",
    "    if lenguajes[i] == \"Python\" or lenguajes[i]== \"C++\": \n",
    "        lenguajes[i] = 1\n",
    "    else :\n",
    "        lenguajes[i] = 0\n",
    "\n",
    "print(lenguajes)"
   ]
  },
  {
   "cell_type": "markdown",
   "id": "671e48a9",
   "metadata": {},
   "source": [
    "## Ejercicio 10"
   ]
  },
  {
   "cell_type": "code",
   "execution_count": 43,
   "id": "b0bb7c84",
   "metadata": {},
   "outputs": [
    {
     "name": "stdout",
     "output_type": "stream",
     "text": [
      "        List\n",
      "count   4.00\n",
      "mean   10.75\n",
      "std     6.50\n",
      "min     5.00\n",
      "25%     7.25\n",
      "50%     9.00\n",
      "75%    12.50\n",
      "max    20.00\n",
      "Null    2.00 \n",
      "\n",
      "\n",
      "   List\n",
      "0  10.0\n",
      "1  -1.0\n",
      "2   8.0\n",
      "3   5.0\n",
      "4  -1.0\n",
      "5  20.0\n"
     ]
    }
   ],
   "source": [
    "L = [10,None,8,5,None,20]\n",
    "df = pd.DataFrame(L,columns = [\"List\"])\n",
    "\n",
    "print(df.describe())\n",
    "NullValues = len(df[\"List\"]) - df[\"List\"].count()\n",
    "print(f\"Null    {NullValues}.00 \\n\\n\")\n",
    "\n",
    "df = df.fillna(-1)\n",
    "print(df)"
   ]
  },
  {
   "cell_type": "code",
   "execution_count": 94,
   "id": "7c427572",
   "metadata": {},
   "outputs": [
    {
     "data": {
      "text/html": [
       "<div>\n",
       "<style scoped>\n",
       "    .dataframe tbody tr th:only-of-type {\n",
       "        vertical-align: middle;\n",
       "    }\n",
       "\n",
       "    .dataframe tbody tr th {\n",
       "        vertical-align: top;\n",
       "    }\n",
       "\n",
       "    .dataframe thead th {\n",
       "        text-align: right;\n",
       "    }\n",
       "</style>\n",
       "<table border=\"1\" class=\"dataframe\">\n",
       "  <thead>\n",
       "    <tr style=\"text-align: right;\">\n",
       "      <th></th>\n",
       "      <th>Lista</th>\n",
       "    </tr>\n",
       "  </thead>\n",
       "  <tbody>\n",
       "    <tr>\n",
       "      <th>0</th>\n",
       "      <td>10.0</td>\n",
       "    </tr>\n",
       "    <tr>\n",
       "      <th>1</th>\n",
       "      <td>NaN</td>\n",
       "    </tr>\n",
       "    <tr>\n",
       "      <th>2</th>\n",
       "      <td>8.0</td>\n",
       "    </tr>\n",
       "    <tr>\n",
       "      <th>3</th>\n",
       "      <td>5.0</td>\n",
       "    </tr>\n",
       "    <tr>\n",
       "      <th>4</th>\n",
       "      <td>NaN</td>\n",
       "    </tr>\n",
       "    <tr>\n",
       "      <th>5</th>\n",
       "      <td>20.0</td>\n",
       "    </tr>\n",
       "  </tbody>\n",
       "</table>\n",
       "</div>"
      ],
      "text/plain": [
       "   Lista\n",
       "0   10.0\n",
       "1    NaN\n",
       "2    8.0\n",
       "3    5.0\n",
       "4    NaN\n",
       "5   20.0"
      ]
     },
     "execution_count": 94,
     "metadata": {},
     "output_type": "execute_result"
    }
   ],
   "source": [
    "L = [10,None,8,5,None,20]\n",
    "df = pd.DataFrame(L, columns=[\"Lista\"])\n",
    "df"
   ]
  },
  {
   "cell_type": "code",
   "execution_count": 99,
   "id": "3353e3a4",
   "metadata": {},
   "outputs": [
    {
     "data": {
      "text/html": [
       "<div>\n",
       "<style scoped>\n",
       "    .dataframe tbody tr th:only-of-type {\n",
       "        vertical-align: middle;\n",
       "    }\n",
       "\n",
       "    .dataframe tbody tr th {\n",
       "        vertical-align: top;\n",
       "    }\n",
       "\n",
       "    .dataframe thead th {\n",
       "        text-align: right;\n",
       "    }\n",
       "</style>\n",
       "<table border=\"1\" class=\"dataframe\">\n",
       "  <thead>\n",
       "    <tr style=\"text-align: right;\">\n",
       "      <th></th>\n",
       "      <th>Lista</th>\n",
       "      <th>List2</th>\n",
       "    </tr>\n",
       "  </thead>\n",
       "  <tbody>\n",
       "    <tr>\n",
       "      <th>0</th>\n",
       "      <td>10.00</td>\n",
       "      <td>10</td>\n",
       "    </tr>\n",
       "    <tr>\n",
       "      <th>1</th>\n",
       "      <td>10.75</td>\n",
       "      <td>30</td>\n",
       "    </tr>\n",
       "    <tr>\n",
       "      <th>2</th>\n",
       "      <td>8.00</td>\n",
       "      <td>40</td>\n",
       "    </tr>\n",
       "    <tr>\n",
       "      <th>3</th>\n",
       "      <td>5.00</td>\n",
       "      <td>5</td>\n",
       "    </tr>\n",
       "    <tr>\n",
       "      <th>4</th>\n",
       "      <td>10.75</td>\n",
       "      <td>15</td>\n",
       "    </tr>\n",
       "    <tr>\n",
       "      <th>5</th>\n",
       "      <td>20.00</td>\n",
       "      <td>20</td>\n",
       "    </tr>\n",
       "  </tbody>\n",
       "</table>\n",
       "</div>"
      ],
      "text/plain": [
       "   Lista  List2\n",
       "0  10.00     10\n",
       "1  10.75     30\n",
       "2   8.00     40\n",
       "3   5.00      5\n",
       "4  10.75     15\n",
       "5  20.00     20"
      ]
     },
     "execution_count": 99,
     "metadata": {},
     "output_type": "execute_result"
    }
   ],
   "source": [
    "df.Lista = df.Lista.fillna(df.Lista.mean())\n",
    "df\n"
   ]
  },
  {
   "cell_type": "code",
   "execution_count": 100,
   "id": "f37bc4fc",
   "metadata": {},
   "outputs": [
    {
     "data": {
      "text/html": [
       "<div>\n",
       "<style scoped>\n",
       "    .dataframe tbody tr th:only-of-type {\n",
       "        vertical-align: middle;\n",
       "    }\n",
       "\n",
       "    .dataframe tbody tr th {\n",
       "        vertical-align: top;\n",
       "    }\n",
       "\n",
       "    .dataframe thead th {\n",
       "        text-align: right;\n",
       "    }\n",
       "</style>\n",
       "<table border=\"1\" class=\"dataframe\">\n",
       "  <thead>\n",
       "    <tr style=\"text-align: right;\">\n",
       "      <th></th>\n",
       "      <th>Lista</th>\n",
       "      <th>List2</th>\n",
       "    </tr>\n",
       "  </thead>\n",
       "  <tbody>\n",
       "    <tr>\n",
       "      <th>0</th>\n",
       "      <td>10.00</td>\n",
       "      <td>10</td>\n",
       "    </tr>\n",
       "    <tr>\n",
       "      <th>1</th>\n",
       "      <td>10.75</td>\n",
       "      <td>30</td>\n",
       "    </tr>\n",
       "    <tr>\n",
       "      <th>2</th>\n",
       "      <td>8.00</td>\n",
       "      <td>40</td>\n",
       "    </tr>\n",
       "    <tr>\n",
       "      <th>3</th>\n",
       "      <td>5.00</td>\n",
       "      <td>5</td>\n",
       "    </tr>\n",
       "    <tr>\n",
       "      <th>4</th>\n",
       "      <td>10.75</td>\n",
       "      <td>15</td>\n",
       "    </tr>\n",
       "    <tr>\n",
       "      <th>5</th>\n",
       "      <td>20.00</td>\n",
       "      <td>20</td>\n",
       "    </tr>\n",
       "  </tbody>\n",
       "</table>\n",
       "</div>"
      ],
      "text/plain": [
       "   Lista  List2\n",
       "0  10.00     10\n",
       "1  10.75     30\n",
       "2   8.00     40\n",
       "3   5.00      5\n",
       "4  10.75     15\n",
       "5  20.00     20"
      ]
     },
     "execution_count": 100,
     "metadata": {},
     "output_type": "execute_result"
    }
   ],
   "source": [
    "List2 = [10, 30, 40, 5, 15, 20]\n",
    "\n",
    "df[\"List2\"] = List2\n",
    "\n",
    "df\n"
   ]
  },
  {
   "cell_type": "markdown",
   "id": "23e464aa",
   "metadata": {},
   "source": [
    "## Ejercicio 11"
   ]
  },
  {
   "cell_type": "code",
   "execution_count": 127,
   "id": "2c1b5eae",
   "metadata": {},
   "outputs": [
    {
     "name": "stdout",
     "output_type": "stream",
     "text": [
      "[10, 20, 30, 40]\n",
      "[10, 20, 30, 40, 50]\n",
      "[100, 20, 30, 40, 50]\n"
     ]
    }
   ],
   "source": [
    "Listado = []\n",
    "for i in range(10, 50, 10):\n",
    "    Listado.append(i)\n",
    "print(Listado)\n",
    "Listado.append(50)\n",
    "print(Listado)\n",
    "Listado[0] = 100\n",
    "print(Listado)"
   ]
  },
  {
   "cell_type": "markdown",
   "id": "d4b5d1ef",
   "metadata": {},
   "source": [
    "## Ejercicio 12"
   ]
  },
  {
   "cell_type": "code",
   "execution_count": 128,
   "id": "11b2581e",
   "metadata": {},
   "outputs": [
    {
     "name": "stdout",
     "output_type": "stream",
     "text": [
      "[10, 20, 30, 40, 50]\n",
      "Posicion 1 = 20 \n",
      "Posicion 0 = 10 \n",
      "Posicion -1 = 50\n"
     ]
    }
   ],
   "source": [
    "Temperatura = []\n",
    "for i in range(10, 51, 10):\n",
    "    Temperatura.append(i)\n",
    "print(Temperatura)\n",
    "\n",
    "pos1 = Temperatura[1]\n",
    "pos0 = Temperatura[0]\n",
    "posn1 = Temperatura[-1]\n",
    "\n",
    "print(f\"Posicion 1 = {pos1} \\nPosicion 0 = {pos0} \\nPosicion -1 = {posn1}\")"
   ]
  },
  {
   "cell_type": "code",
   "execution_count": 133,
   "id": "410cc8ff",
   "metadata": {},
   "outputs": [
    {
     "name": "stdout",
     "output_type": "stream",
     "text": [
      "El factorial de 5 es 120\n"
     ]
    }
   ],
   "source": [
    "def factorial (x) :\n",
    "    if x == 1 : \n",
    "        return 1\n",
    "    else :\n",
    "        return (x*factorial(x-1))\n",
    "\n",
    "num = factorial(5)\n",
    "print(f\"El factorial de 5 es {num}\")"
   ]
  },
  {
   "cell_type": "code",
   "execution_count": null,
   "id": "6d850d9d",
   "metadata": {},
   "outputs": [],
   "source": []
  }
 ],
 "metadata": {
  "kernelspec": {
   "display_name": "Python 3 (ipykernel)",
   "language": "python",
   "name": "python3"
  },
  "language_info": {
   "codemirror_mode": {
    "name": "ipython",
    "version": 3
   },
   "file_extension": ".py",
   "mimetype": "text/x-python",
   "name": "python",
   "nbconvert_exporter": "python",
   "pygments_lexer": "ipython3",
   "version": "3.8.10"
  }
 },
 "nbformat": 4,
 "nbformat_minor": 5
}

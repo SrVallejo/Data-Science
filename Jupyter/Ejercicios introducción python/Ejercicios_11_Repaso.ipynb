{
 "cells": [
  {
   "cell_type": "markdown",
   "id": "d8f832b1",
   "metadata": {},
   "source": [
    "*Creado por*\n",
    "\n",
    "*Isabel Maniega*"
   ]
  },
  {
   "cell_type": "code",
   "execution_count": 1,
   "id": "0cd1d8f2",
   "metadata": {},
   "outputs": [],
   "source": [
    "import pandas as pd"
   ]
  },
  {
   "cell_type": "markdown",
   "id": "253dd867",
   "metadata": {},
   "source": [
    "# Ejercicio 1"
   ]
  },
  {
   "cell_type": "markdown",
   "id": "eb6a4b64",
   "metadata": {},
   "source": [
    "Escribe el código necesario en Python para:"
   ]
  },
  {
   "cell_type": "markdown",
   "id": "d2f7ef7b",
   "metadata": {},
   "source": [
    "* almacenar con una lista de nombre \"clientes\" los siguientes nombres: "
   ]
  },
  {
   "cell_type": "markdown",
   "id": "ecefda56",
   "metadata": {},
   "source": [
    "\"Ana Pérez\", \"Juan García\", \"Andres Álvarez\", \"Luis Ramos\", \"Pedro Cadenas\", \"Estefanía Miguélez\", \"Alberto Delgado\", \"Susana Castro\", \"Luis González\""
   ]
  },
  {
   "cell_type": "code",
   "execution_count": 2,
   "id": "b7660f4f",
   "metadata": {},
   "outputs": [],
   "source": [
    "clientes = [\n",
    "    \"Ana Pérez\", \"Juan García\", \"Andres Álvarez\", \n",
    "    \"Luis Ramos\", \"Pedro Cadenas\", \"Estefanía Miguélez\", \n",
    "    \"Alberto Delgado\", \"Susana Castro\", \"Luis González\"\n",
    "    ]"
   ]
  },
  {
   "cell_type": "markdown",
   "id": "de38dd6f",
   "metadata": {},
   "source": [
    "**1)** Para ese listado de clientes imprime todos ellos, 1 a 1"
   ]
  },
  {
   "cell_type": "code",
   "execution_count": 3,
   "id": "2c8d78e7",
   "metadata": {},
   "outputs": [
    {
     "name": "stdout",
     "output_type": "stream",
     "text": [
      "Ana Pérez\n",
      "Juan García\n",
      "Andres Álvarez\n",
      "Luis Ramos\n",
      "Pedro Cadenas\n",
      "Estefanía Miguélez\n",
      "Alberto Delgado\n",
      "Susana Castro\n",
      "Luis González\n"
     ]
    }
   ],
   "source": [
    "for name in clientes:\n",
    "    print(name)"
   ]
  },
  {
   "cell_type": "markdown",
   "id": "a4de9e6e",
   "metadata": {},
   "source": [
    "**2)** Dentro de ese grupo de clientes.."
   ]
  },
  {
   "cell_type": "markdown",
   "id": "7a81bbd8",
   "metadata": {},
   "source": [
    "**se pide buscar..al cliente de nombre: \"Juan García\" si es posible**\n",
    "\n",
    "   \n",
    "\n",
    "   * Si lo encuentra, debería imprimir un mensaje tal que así:\n",
    "\n",
    "   \"el cliente -nombre del cliente- se encuentra en mi Base de Datos de Clientes\"\n",
    "   \n",
    "\n",
    "   * Si no se le encuentra, debería salir un mensaje tal que así: \n",
    "\n",
    "   \"el cliente -nombre del cliente- NO se encuentra en mi Base de Datos de Clientes\""
   ]
  },
  {
   "cell_type": "code",
   "execution_count": 4,
   "id": "3e466e98",
   "metadata": {},
   "outputs": [
    {
     "name": "stdout",
     "output_type": "stream",
     "text": [
      "Introduce el nombre a buscar: Juan García\n",
      "el cliente Juan García se encuentra en mi Base de Datos de Clientes\n"
     ]
    }
   ],
   "source": [
    "frase = \"se encuentra en mi Base de Datos de Clientes\"\n",
    "nombre = input(\"Introduce el nombre a buscar: \")\n",
    "\n",
    "b = False\n",
    "for s in clientes:\n",
    "    if s == nombre:\n",
    "        b = True\n",
    "        break\n",
    "\n",
    "if not b: frase = \"NO \" + frase\n",
    "    \n",
    "print(f\"el cliente {nombre} {frase}\")"
   ]
  },
  {
   "cell_type": "markdown",
   "id": "27c45f45",
   "metadata": {},
   "source": [
    "**Nota:** Comprueba en el caso de llevar o no acento"
   ]
  },
  {
   "cell_type": "markdown",
   "id": "9168b3b2",
   "metadata": {},
   "source": [
    "**3)**\n",
    "\n",
    "Crea un DataFrame, de nombre **df** \n",
    "\n",
    "con esa información en base a la siguiente relación de clientes y tarifas contratadas (€)\n",
    "\n",
    "**clientes:**\n",
    "\n",
    "Ana Pérez, Juan García, Andrés Álvarez, Luis Ramos, Pedro Cadenas, Estefanía Miguélez, Alberto Delgado, Susana Castro, Luis González\n",
    "\n",
    "**tarifas:**\n",
    "\n",
    "40,50,50,35,45,50,60,50,45"
   ]
  },
  {
   "cell_type": "code",
   "execution_count": 5,
   "id": "c0ad150b",
   "metadata": {},
   "outputs": [
    {
     "data": {
      "text/html": [
       "<div>\n",
       "<style scoped>\n",
       "    .dataframe tbody tr th:only-of-type {\n",
       "        vertical-align: middle;\n",
       "    }\n",
       "\n",
       "    .dataframe tbody tr th {\n",
       "        vertical-align: top;\n",
       "    }\n",
       "\n",
       "    .dataframe thead th {\n",
       "        text-align: right;\n",
       "    }\n",
       "</style>\n",
       "<table border=\"1\" class=\"dataframe\">\n",
       "  <thead>\n",
       "    <tr style=\"text-align: right;\">\n",
       "      <th></th>\n",
       "      <th>clientes</th>\n",
       "      <th>tarifas</th>\n",
       "    </tr>\n",
       "  </thead>\n",
       "  <tbody>\n",
       "    <tr>\n",
       "      <th>0</th>\n",
       "      <td>Ana Pérez</td>\n",
       "      <td>40</td>\n",
       "    </tr>\n",
       "    <tr>\n",
       "      <th>1</th>\n",
       "      <td>Juan García</td>\n",
       "      <td>50</td>\n",
       "    </tr>\n",
       "    <tr>\n",
       "      <th>2</th>\n",
       "      <td>Andres Álvarez</td>\n",
       "      <td>50</td>\n",
       "    </tr>\n",
       "    <tr>\n",
       "      <th>3</th>\n",
       "      <td>Luis Ramos</td>\n",
       "      <td>35</td>\n",
       "    </tr>\n",
       "    <tr>\n",
       "      <th>4</th>\n",
       "      <td>Pedro Cadenas</td>\n",
       "      <td>45</td>\n",
       "    </tr>\n",
       "    <tr>\n",
       "      <th>5</th>\n",
       "      <td>Estefanía Miguélez</td>\n",
       "      <td>50</td>\n",
       "    </tr>\n",
       "    <tr>\n",
       "      <th>6</th>\n",
       "      <td>Alberto Delgado</td>\n",
       "      <td>60</td>\n",
       "    </tr>\n",
       "    <tr>\n",
       "      <th>7</th>\n",
       "      <td>Susana Castro</td>\n",
       "      <td>50</td>\n",
       "    </tr>\n",
       "    <tr>\n",
       "      <th>8</th>\n",
       "      <td>Luis González</td>\n",
       "      <td>45</td>\n",
       "    </tr>\n",
       "  </tbody>\n",
       "</table>\n",
       "</div>"
      ],
      "text/plain": [
       "             clientes  tarifas\n",
       "0           Ana Pérez       40\n",
       "1         Juan García       50\n",
       "2      Andres Álvarez       50\n",
       "3          Luis Ramos       35\n",
       "4       Pedro Cadenas       45\n",
       "5  Estefanía Miguélez       50\n",
       "6     Alberto Delgado       60\n",
       "7       Susana Castro       50\n",
       "8       Luis González       45"
      ]
     },
     "execution_count": 5,
     "metadata": {},
     "output_type": "execute_result"
    }
   ],
   "source": [
    "df = pd.DataFrame(clientes, columns = [\"clientes\"])\n",
    "df[\"tarifas\"] = [40,50,50,35,45,50,60,50,45]\n",
    "df"
   ]
  },
  {
   "cell_type": "markdown",
   "id": "0f793fa7",
   "metadata": {},
   "source": [
    "**4)**\n",
    "\n",
    "**Imprime las primeras 5 filas del DataFrame**\n",
    "\n",
    "de 2 formas distintas"
   ]
  },
  {
   "cell_type": "code",
   "execution_count": 6,
   "id": "27c7be50",
   "metadata": {},
   "outputs": [
    {
     "name": "stdout",
     "output_type": "stream",
     "text": [
      "    clientes  tarifas\n",
      "0  Ana Pérez       40\n",
      "      clientes  tarifas\n",
      "1  Juan García       50\n",
      "         clientes  tarifas\n",
      "2  Andres Álvarez       50\n",
      "     clientes  tarifas\n",
      "3  Luis Ramos       35\n",
      "        clientes  tarifas\n",
      "4  Pedro Cadenas       45\n"
     ]
    }
   ],
   "source": [
    "for i in range(5):\n",
    "    print(df.loc[[i]])"
   ]
  },
  {
   "cell_type": "code",
   "execution_count": 7,
   "id": "b1fe52ce",
   "metadata": {},
   "outputs": [
    {
     "data": {
      "text/html": [
       "<div>\n",
       "<style scoped>\n",
       "    .dataframe tbody tr th:only-of-type {\n",
       "        vertical-align: middle;\n",
       "    }\n",
       "\n",
       "    .dataframe tbody tr th {\n",
       "        vertical-align: top;\n",
       "    }\n",
       "\n",
       "    .dataframe thead th {\n",
       "        text-align: right;\n",
       "    }\n",
       "</style>\n",
       "<table border=\"1\" class=\"dataframe\">\n",
       "  <thead>\n",
       "    <tr style=\"text-align: right;\">\n",
       "      <th></th>\n",
       "      <th>clientes</th>\n",
       "      <th>tarifas</th>\n",
       "    </tr>\n",
       "  </thead>\n",
       "  <tbody>\n",
       "    <tr>\n",
       "      <th>0</th>\n",
       "      <td>Ana Pérez</td>\n",
       "      <td>40</td>\n",
       "    </tr>\n",
       "    <tr>\n",
       "      <th>1</th>\n",
       "      <td>Juan García</td>\n",
       "      <td>50</td>\n",
       "    </tr>\n",
       "    <tr>\n",
       "      <th>2</th>\n",
       "      <td>Andres Álvarez</td>\n",
       "      <td>50</td>\n",
       "    </tr>\n",
       "    <tr>\n",
       "      <th>3</th>\n",
       "      <td>Luis Ramos</td>\n",
       "      <td>35</td>\n",
       "    </tr>\n",
       "    <tr>\n",
       "      <th>4</th>\n",
       "      <td>Pedro Cadenas</td>\n",
       "      <td>45</td>\n",
       "    </tr>\n",
       "  </tbody>\n",
       "</table>\n",
       "</div>"
      ],
      "text/plain": [
       "         clientes  tarifas\n",
       "0       Ana Pérez       40\n",
       "1     Juan García       50\n",
       "2  Andres Álvarez       50\n",
       "3      Luis Ramos       35\n",
       "4   Pedro Cadenas       45"
      ]
     },
     "execution_count": 7,
     "metadata": {},
     "output_type": "execute_result"
    }
   ],
   "source": [
    "df.head(5)"
   ]
  },
  {
   "cell_type": "markdown",
   "id": "0f8c4e7a",
   "metadata": {},
   "source": [
    "**Imprime las últimas 2 líneas del DataFrame**"
   ]
  },
  {
   "cell_type": "code",
   "execution_count": 8,
   "id": "b579b825",
   "metadata": {},
   "outputs": [
    {
     "name": "stdout",
     "output_type": "stream",
     "text": [
      "        clientes  tarifas\n",
      "7  Susana Castro       50\n",
      "        clientes  tarifas\n",
      "8  Luis González       45\n"
     ]
    }
   ],
   "source": [
    "index = len(df) -3\n",
    "for i in range(2):\n",
    "    index += 1\n",
    "    print(df.loc[[index]])"
   ]
  },
  {
   "cell_type": "code",
   "execution_count": 9,
   "id": "ca844c43",
   "metadata": {},
   "outputs": [
    {
     "data": {
      "text/html": [
       "<div>\n",
       "<style scoped>\n",
       "    .dataframe tbody tr th:only-of-type {\n",
       "        vertical-align: middle;\n",
       "    }\n",
       "\n",
       "    .dataframe tbody tr th {\n",
       "        vertical-align: top;\n",
       "    }\n",
       "\n",
       "    .dataframe thead th {\n",
       "        text-align: right;\n",
       "    }\n",
       "</style>\n",
       "<table border=\"1\" class=\"dataframe\">\n",
       "  <thead>\n",
       "    <tr style=\"text-align: right;\">\n",
       "      <th></th>\n",
       "      <th>clientes</th>\n",
       "      <th>tarifas</th>\n",
       "    </tr>\n",
       "  </thead>\n",
       "  <tbody>\n",
       "    <tr>\n",
       "      <th>7</th>\n",
       "      <td>Susana Castro</td>\n",
       "      <td>50</td>\n",
       "    </tr>\n",
       "    <tr>\n",
       "      <th>8</th>\n",
       "      <td>Luis González</td>\n",
       "      <td>45</td>\n",
       "    </tr>\n",
       "  </tbody>\n",
       "</table>\n",
       "</div>"
      ],
      "text/plain": [
       "        clientes  tarifas\n",
       "7  Susana Castro       50\n",
       "8  Luis González       45"
      ]
     },
     "execution_count": 9,
     "metadata": {},
     "output_type": "execute_result"
    }
   ],
   "source": [
    "df.tail(2)"
   ]
  },
  {
   "cell_type": "markdown",
   "id": "63999689",
   "metadata": {},
   "source": [
    "**5)**\n",
    "\n",
    "De ese DataFrame, selecciona solamente la columna \"tarifas\" e imprímela \n",
    "\n",
    "(con 1 forma es suficiente, pero si sabes 2 mejor)"
   ]
  },
  {
   "cell_type": "code",
   "execution_count": 10,
   "id": "737d8091",
   "metadata": {},
   "outputs": [
    {
     "data": {
      "text/html": [
       "<div>\n",
       "<style scoped>\n",
       "    .dataframe tbody tr th:only-of-type {\n",
       "        vertical-align: middle;\n",
       "    }\n",
       "\n",
       "    .dataframe tbody tr th {\n",
       "        vertical-align: top;\n",
       "    }\n",
       "\n",
       "    .dataframe thead th {\n",
       "        text-align: right;\n",
       "    }\n",
       "</style>\n",
       "<table border=\"1\" class=\"dataframe\">\n",
       "  <thead>\n",
       "    <tr style=\"text-align: right;\">\n",
       "      <th></th>\n",
       "      <th>tarifas</th>\n",
       "    </tr>\n",
       "  </thead>\n",
       "  <tbody>\n",
       "    <tr>\n",
       "      <th>0</th>\n",
       "      <td>40</td>\n",
       "    </tr>\n",
       "    <tr>\n",
       "      <th>1</th>\n",
       "      <td>50</td>\n",
       "    </tr>\n",
       "    <tr>\n",
       "      <th>2</th>\n",
       "      <td>50</td>\n",
       "    </tr>\n",
       "    <tr>\n",
       "      <th>3</th>\n",
       "      <td>35</td>\n",
       "    </tr>\n",
       "    <tr>\n",
       "      <th>4</th>\n",
       "      <td>45</td>\n",
       "    </tr>\n",
       "    <tr>\n",
       "      <th>5</th>\n",
       "      <td>50</td>\n",
       "    </tr>\n",
       "    <tr>\n",
       "      <th>6</th>\n",
       "      <td>60</td>\n",
       "    </tr>\n",
       "    <tr>\n",
       "      <th>7</th>\n",
       "      <td>50</td>\n",
       "    </tr>\n",
       "    <tr>\n",
       "      <th>8</th>\n",
       "      <td>45</td>\n",
       "    </tr>\n",
       "  </tbody>\n",
       "</table>\n",
       "</div>"
      ],
      "text/plain": [
       "   tarifas\n",
       "0       40\n",
       "1       50\n",
       "2       50\n",
       "3       35\n",
       "4       45\n",
       "5       50\n",
       "6       60\n",
       "7       50\n",
       "8       45"
      ]
     },
     "execution_count": 10,
     "metadata": {},
     "output_type": "execute_result"
    }
   ],
   "source": [
    "df[[\"tarifas\"]]"
   ]
  },
  {
   "cell_type": "markdown",
   "id": "859373ae",
   "metadata": {},
   "source": [
    "**6)**\n",
    "\n",
    "**Descomenta las siguientes líneas**\n",
    "\n",
    "**(algunos trucos y cosas útiles)**"
   ]
  },
  {
   "cell_type": "code",
   "execution_count": 11,
   "id": "436a8d72",
   "metadata": {},
   "outputs": [
    {
     "data": {
      "text/plain": [
       "50    4\n",
       "45    2\n",
       "40    1\n",
       "35    1\n",
       "60    1\n",
       "Name: tarifas, dtype: int64"
      ]
     },
     "execution_count": 11,
     "metadata": {},
     "output_type": "execute_result"
    }
   ],
   "source": [
    "df.tarifas.value_counts()"
   ]
  },
  {
   "cell_type": "code",
   "execution_count": 12,
   "id": "91424ee2",
   "metadata": {},
   "outputs": [
    {
     "data": {
      "text/plain": [
       "<AxesSubplot:>"
      ]
     },
     "execution_count": 12,
     "metadata": {},
     "output_type": "execute_result"
    },
    {
     "data": {
      "image/png": "[encoded data removed]",
      "text/plain": [
       "<Figure size 432x288 with 1 Axes>"
      ]
     },
     "metadata": {
      "needs_background": "light"
     },
     "output_type": "display_data"
    }
   ],
   "source": [
    "df.tarifas.value_counts().plot(kind=\"bar\")"
   ]
  },
  {
   "cell_type": "code",
   "execution_count": 13,
   "id": "8ca87074",
   "metadata": {},
   "outputs": [
    {
     "data": {
      "text/plain": [
       "<AxesSubplot:>"
      ]
     },
     "execution_count": 13,
     "metadata": {},
     "output_type": "execute_result"
    },
    {
     "data": {
      "image/png": "[encoded data removed]",
      "text/plain": [
       "<Figure size 432x288 with 1 Axes>"
      ]
     },
     "metadata": {
      "needs_background": "light"
     },
     "output_type": "display_data"
    }
   ],
   "source": [
    "df.tarifas.plot(kind=\"bar\")"
   ]
  },
  {
   "cell_type": "markdown",
   "id": "72181e04",
   "metadata": {},
   "source": [
    "**Imprime nuevamente df**"
   ]
  },
  {
   "cell_type": "code",
   "execution_count": 14,
   "id": "a788dc20",
   "metadata": {},
   "outputs": [
    {
     "data": {
      "text/html": [
       "<div>\n",
       "<style scoped>\n",
       "    .dataframe tbody tr th:only-of-type {\n",
       "        vertical-align: middle;\n",
       "    }\n",
       "\n",
       "    .dataframe tbody tr th {\n",
       "        vertical-align: top;\n",
       "    }\n",
       "\n",
       "    .dataframe thead th {\n",
       "        text-align: right;\n",
       "    }\n",
       "</style>\n",
       "<table border=\"1\" class=\"dataframe\">\n",
       "  <thead>\n",
       "    <tr style=\"text-align: right;\">\n",
       "      <th></th>\n",
       "      <th>clientes</th>\n",
       "      <th>tarifas</th>\n",
       "    </tr>\n",
       "  </thead>\n",
       "  <tbody>\n",
       "    <tr>\n",
       "      <th>0</th>\n",
       "      <td>Ana Pérez</td>\n",
       "      <td>40</td>\n",
       "    </tr>\n",
       "    <tr>\n",
       "      <th>1</th>\n",
       "      <td>Juan García</td>\n",
       "      <td>50</td>\n",
       "    </tr>\n",
       "    <tr>\n",
       "      <th>2</th>\n",
       "      <td>Andres Álvarez</td>\n",
       "      <td>50</td>\n",
       "    </tr>\n",
       "    <tr>\n",
       "      <th>3</th>\n",
       "      <td>Luis Ramos</td>\n",
       "      <td>35</td>\n",
       "    </tr>\n",
       "    <tr>\n",
       "      <th>4</th>\n",
       "      <td>Pedro Cadenas</td>\n",
       "      <td>45</td>\n",
       "    </tr>\n",
       "    <tr>\n",
       "      <th>5</th>\n",
       "      <td>Estefanía Miguélez</td>\n",
       "      <td>50</td>\n",
       "    </tr>\n",
       "    <tr>\n",
       "      <th>6</th>\n",
       "      <td>Alberto Delgado</td>\n",
       "      <td>60</td>\n",
       "    </tr>\n",
       "    <tr>\n",
       "      <th>7</th>\n",
       "      <td>Susana Castro</td>\n",
       "      <td>50</td>\n",
       "    </tr>\n",
       "    <tr>\n",
       "      <th>8</th>\n",
       "      <td>Luis González</td>\n",
       "      <td>45</td>\n",
       "    </tr>\n",
       "  </tbody>\n",
       "</table>\n",
       "</div>"
      ],
      "text/plain": [
       "             clientes  tarifas\n",
       "0           Ana Pérez       40\n",
       "1         Juan García       50\n",
       "2      Andres Álvarez       50\n",
       "3          Luis Ramos       35\n",
       "4       Pedro Cadenas       45\n",
       "5  Estefanía Miguélez       50\n",
       "6     Alberto Delgado       60\n",
       "7       Susana Castro       50\n",
       "8       Luis González       45"
      ]
     },
     "execution_count": 14,
     "metadata": {},
     "output_type": "execute_result"
    }
   ],
   "source": [
    "df"
   ]
  },
  {
   "cell_type": "markdown",
   "id": "ab7a3fd6",
   "metadata": {},
   "source": [
    "**Descomenta la línea siguiente**"
   ]
  },
  {
   "cell_type": "code",
   "execution_count": 22,
   "id": "0d46d6aa",
   "metadata": {},
   "outputs": [],
   "source": [
    "df.tarifas.plot?"
   ]
  },
  {
   "cell_type": "markdown",
   "id": "8a4a49a7",
   "metadata": {},
   "source": [
    "**7)**\n",
    "\n",
    "De ese DataFrame, selecciona solamente aquellos clientes con tarifa superior a 50 euros \n",
    "\n",
    "(50 no incluído)"
   ]
  },
  {
   "cell_type": "code",
   "execution_count": 16,
   "id": "4126db8d",
   "metadata": {},
   "outputs": [
    {
     "data": {
      "text/html": [
       "<div>\n",
       "<style scoped>\n",
       "    .dataframe tbody tr th:only-of-type {\n",
       "        vertical-align: middle;\n",
       "    }\n",
       "\n",
       "    .dataframe tbody tr th {\n",
       "        vertical-align: top;\n",
       "    }\n",
       "\n",
       "    .dataframe thead th {\n",
       "        text-align: right;\n",
       "    }\n",
       "</style>\n",
       "<table border=\"1\" class=\"dataframe\">\n",
       "  <thead>\n",
       "    <tr style=\"text-align: right;\">\n",
       "      <th></th>\n",
       "      <th>clientes</th>\n",
       "      <th>tarifas</th>\n",
       "    </tr>\n",
       "  </thead>\n",
       "  <tbody>\n",
       "    <tr>\n",
       "      <th>6</th>\n",
       "      <td>Alberto Delgado</td>\n",
       "      <td>60</td>\n",
       "    </tr>\n",
       "  </tbody>\n",
       "</table>\n",
       "</div>"
      ],
      "text/plain": [
       "          clientes  tarifas\n",
       "6  Alberto Delgado       60"
      ]
     },
     "execution_count": 16,
     "metadata": {},
     "output_type": "execute_result"
    }
   ],
   "source": [
    "df[df[\"tarifas\"] > 50]"
   ]
  },
  {
   "cell_type": "markdown",
   "id": "1f11af5a",
   "metadata": {},
   "source": [
    "De ese DataFrame, selecciona solamente aquellos clientes con tarifa menor o igual de 30 euros\n",
    "\n",
    "(30 incluido)"
   ]
  },
  {
   "cell_type": "code",
   "execution_count": 17,
   "id": "53c2a0b4",
   "metadata": {},
   "outputs": [
    {
     "data": {
      "text/html": [
       "<div>\n",
       "<style scoped>\n",
       "    .dataframe tbody tr th:only-of-type {\n",
       "        vertical-align: middle;\n",
       "    }\n",
       "\n",
       "    .dataframe tbody tr th {\n",
       "        vertical-align: top;\n",
       "    }\n",
       "\n",
       "    .dataframe thead th {\n",
       "        text-align: right;\n",
       "    }\n",
       "</style>\n",
       "<table border=\"1\" class=\"dataframe\">\n",
       "  <thead>\n",
       "    <tr style=\"text-align: right;\">\n",
       "      <th></th>\n",
       "      <th>clientes</th>\n",
       "      <th>tarifas</th>\n",
       "    </tr>\n",
       "  </thead>\n",
       "  <tbody>\n",
       "  </tbody>\n",
       "</table>\n",
       "</div>"
      ],
      "text/plain": [
       "Empty DataFrame\n",
       "Columns: [clientes, tarifas]\n",
       "Index: []"
      ]
     },
     "execution_count": 17,
     "metadata": {},
     "output_type": "execute_result"
    }
   ],
   "source": [
    "df[df[\"tarifas\"] <= 30]"
   ]
  },
  {
   "cell_type": "markdown",
   "id": "f19b1399",
   "metadata": {},
   "source": [
    "# Ejercicio 2"
   ]
  },
  {
   "cell_type": "markdown",
   "id": "bf944d4e",
   "metadata": {},
   "source": [
    "**Número par o impar**"
   ]
  },
  {
   "cell_type": "markdown",
   "id": "0972850d",
   "metadata": {},
   "source": [
    "Prueba para los números 6 y 3"
   ]
  },
  {
   "cell_type": "markdown",
   "id": "4f8a7d6f",
   "metadata": {},
   "source": [
    "Realiza un algortimo para saber si son pares o impares"
   ]
  },
  {
   "cell_type": "code",
   "execution_count": 18,
   "id": "e51cd745",
   "metadata": {},
   "outputs": [
    {
     "name": "stdout",
     "output_type": "stream",
     "text": [
      "Introduce un número:5\n",
      "Número impar\n"
     ]
    }
   ],
   "source": [
    "num = int(input(\"Introduce un número:\"))\n",
    "\n",
    "if num%2 == 0: print(\"Número par\")\n",
    "else: print (\"Número impar\")"
   ]
  },
  {
   "cell_type": "markdown",
   "id": "42c8cdc7",
   "metadata": {},
   "source": [
    "# Ejercicio 3"
   ]
  },
  {
   "cell_type": "markdown",
   "id": "5821cfdc",
   "metadata": {},
   "source": [
    "**Intercambio de valores entre variables**"
   ]
  },
  {
   "cell_type": "markdown",
   "id": "9ad2ae76",
   "metadata": {},
   "source": [
    "Siendo por ejemplo:\n",
    "* x = 3 e y = 2"
   ]
  },
  {
   "cell_type": "markdown",
   "id": "4cc17f49",
   "metadata": {},
   "source": [
    "Se pide hacer un pequeño algoritmo que me intercambie esos valores.\n",
    "\n",
    "Y que sea el resultado:\n",
    "* x = 2 e y = 3"
   ]
  },
  {
   "cell_type": "markdown",
   "id": "affc47c2",
   "metadata": {},
   "source": [
    "**1)** Hazlo sin funciones"
   ]
  },
  {
   "cell_type": "code",
   "execution_count": 19,
   "id": "50a696e1",
   "metadata": {},
   "outputs": [
    {
     "name": "stdout",
     "output_type": "stream",
     "text": [
      "Valor de x = 3, y de e = 2\n"
     ]
    }
   ],
   "source": [
    "#método 1\n",
    "x = 2\n",
    "e = 3\n",
    "\n",
    "x, e = e, x\n",
    "\n",
    "print(f\"Valor de x = {x}, y de e = {e}\")"
   ]
  },
  {
   "cell_type": "code",
   "execution_count": 20,
   "id": "217166dc",
   "metadata": {},
   "outputs": [
    {
     "name": "stdout",
     "output_type": "stream",
     "text": [
      "Valor de x = 3, y de e = 2\n"
     ]
    }
   ],
   "source": [
    "#método 2\n",
    "x = 2\n",
    "e = 3\n",
    "\n",
    "x = e + x #x=5 e=3\n",
    "e = x - e #x=5 e=5-3=2\n",
    "x = x - e #x= 5-2 = 3\n",
    "\n",
    "print(f\"Valor de x = {x}, y de e = {e}\")"
   ]
  },
  {
   "cell_type": "code",
   "execution_count": 24,
   "id": "d8660ae8",
   "metadata": {},
   "outputs": [
    {
     "name": "stdout",
     "output_type": "stream",
     "text": [
      "Valor de x = 3, y de e = 2\n"
     ]
    }
   ],
   "source": [
    "x = 2\n",
    "e = 3\n",
    "\n",
    "aux = x\n",
    "x = e\n",
    "e = aux\n",
    "\n",
    "print(f\"Valor de x = {x}, y de e = {e}\")"
   ]
  },
  {
   "cell_type": "markdown",
   "id": "cc607b35",
   "metadata": {},
   "source": [
    "**2)** Hazlo mismo con una función"
   ]
  },
  {
   "cell_type": "code",
   "execution_count": 26,
   "id": "0446faa9",
   "metadata": {},
   "outputs": [
    {
     "name": "stdout",
     "output_type": "stream",
     "text": [
      "Valor de x = 3, y de e = 2\n"
     ]
    }
   ],
   "source": [
    "def intercambio (x, y):\n",
    "    return y, x\n",
    "\n",
    "x = 2\n",
    "e = 3\n",
    "\n",
    "x,e = intercambio(x,e)\n",
    "\n",
    "print(f\"Valor de x = {x}, y de e = {e}\")"
   ]
  },
  {
   "cell_type": "markdown",
   "id": "ef39479b",
   "metadata": {},
   "source": [
    "*Creado por*\n",
    "\n",
    "*Isabel Maniega*"
   ]
  }
 ],
 "metadata": {
  "kernelspec": {
   "display_name": "Python 3 (ipykernel)",
   "language": "python",
   "name": "python3"
  },
  "language_info": {
   "codemirror_mode": {
    "name": "ipython",
    "version": 3
   },
   "file_extension": ".py",
   "mimetype": "text/x-python",
   "name": "python",
   "nbconvert_exporter": "python",
   "pygments_lexer": "ipython3",
   "version": "3.8.10"
  }
 },
 "nbformat": 4,
 "nbformat_minor": 5
}

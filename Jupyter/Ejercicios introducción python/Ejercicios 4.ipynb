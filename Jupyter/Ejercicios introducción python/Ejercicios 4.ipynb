{
 "cells": [
  {
   "cell_type": "markdown",
   "id": "64466588",
   "metadata": {},
   "source": [
    "## Ejercicio 1"
   ]
  },
  {
   "cell_type": "markdown",
   "id": "eb34267c",
   "metadata": {},
   "source": [
    "Función multiplicar, funcion lambda multiplicar y usando en ambos casos input de teclado. Y función input."
   ]
  },
  {
   "cell_type": "code",
   "execution_count": 11,
   "id": "ac1544e2",
   "metadata": {},
   "outputs": [
    {
     "name": "stdout",
     "output_type": "stream",
     "text": [
      "Introduce el primer número de la multiplicación: 3\n",
      "Introduce el segundo número de la multiplicación: 5\n",
      "3*5 = 15\n"
     ]
    }
   ],
   "source": [
    "def multiply(x,y):\n",
    "    return x*y\n",
    "\n",
    "x = int(input(\"Introduce el primer número de la multiplicación: \"))\n",
    "y =int(input(\"Introduce el segundo número de la multiplicación: \"))\n",
    "\n",
    "print(f\"{x}*{y} = {multiply(x,y)}\")"
   ]
  },
  {
   "cell_type": "code",
   "execution_count": 12,
   "id": "688b4bf5",
   "metadata": {},
   "outputs": [
    {
     "name": "stdout",
     "output_type": "stream",
     "text": [
      "Introduce el primer número de la multiplicación: 3\n",
      "Introduce el segundo número de la multiplicación: 4\n",
      "3*4 = 12\n"
     ]
    }
   ],
   "source": [
    "def multiply(x,y):\n",
    "    return x*y\n",
    "\n",
    "def ask_num():\n",
    "    numbers = []\n",
    "    numbers.append(int(input(\"Introduce el primer número de la multiplicación: \")))\n",
    "    numbers.append(int(input(\"Introduce el segundo número de la multiplicación: \")))\n",
    "    return numbers\n",
    "\n",
    "numeros = ask_num()\n",
    "print(f\"{numeros[0]}*{numeros[1]} = {multiply(numeros[0],numeros[1])}\")"
   ]
  },
  {
   "cell_type": "code",
   "execution_count": 19,
   "id": "cbe221f2",
   "metadata": {},
   "outputs": [
    {
     "name": "stdout",
     "output_type": "stream",
     "text": [
      "Introduce el primer número de la multiplicación: 3\n",
      "Introduce el segundo número de la multiplicación: 15\n",
      "3*15 = 45\n"
     ]
    }
   ],
   "source": [
    "numeros = ask_num()\n",
    "\n",
    "m = lambda x,y : x*y\n",
    "\n",
    "print(f\"{numeros[0]}*{numeros[1]} = {m(numeros[0],numeros[1])}\")"
   ]
  },
  {
   "cell_type": "markdown",
   "id": "6aa32384",
   "metadata": {},
   "source": [
    "## Ejercicio 2"
   ]
  },
  {
   "cell_type": "markdown",
   "id": "4ae07309",
   "metadata": {},
   "source": [
    "Dado un string, ¿es un palindromo?"
   ]
  },
  {
   "cell_type": "code",
   "execution_count": 62,
   "id": "46732855",
   "metadata": {},
   "outputs": [
    {
     "name": "stdout",
     "output_type": "stream",
     "text": [
      "Introduce frase analizar: Dabale arroz a la zorra el abad\n",
      "Dabale arroz a la zorra el abad es un palindromo\n"
     ]
    }
   ],
   "source": [
    "#función que devuelve true si el string s es un palindromo, y false si no\n",
    "def palindromo(s):\n",
    "    \n",
    "    #ponemos el string en mayusculas y quitamos los espacios\n",
    "    s = s.upper()\n",
    "    s = s.replace(\" \",\"\")\n",
    "    \n",
    "    #creamos los indices i y j. i recorrerá el string de principio a la mitad, y j del final a la mitad.\n",
    "    i = 0\n",
    "    j = len(s)-1\n",
    "    \n",
    "    #creamos el booleano palindrom que será true hasta que se demuestre lo contrario\n",
    "    palindrom = True\n",
    "    \n",
    "    #bucle que recorre el string mientras i sea más pequeña que j o haya descubierto que ya no es un palindromo\n",
    "    while i < j and palindrom == True:\n",
    "        if s[i]!=s[j]: \n",
    "            palindrom = False\n",
    "        i += i\n",
    "        j -= j\n",
    "    \n",
    "    return palindrom\n",
    "\n",
    "s = input(\"Introduce frase analizar: \")\n",
    "\n",
    "if palindromo(s):\n",
    "    print(f\"{s} es un palindromo\")\n",
    "else:\n",
    "    print(f\"{s} no es un palindromo\")\n",
    "    "
   ]
  },
  {
   "cell_type": "markdown",
   "id": "7ea27871",
   "metadata": {},
   "source": [
    "## Ejercicio 3"
   ]
  },
  {
   "cell_type": "markdown",
   "id": "48273674",
   "metadata": {},
   "source": [
    "Dados 2 strings, imprimir las letras que comparten"
   ]
  },
  {
   "cell_type": "code",
   "execution_count": 61,
   "id": "bf647fc5",
   "metadata": {},
   "outputs": [
    {
     "name": "stdout",
     "output_type": "stream",
     "text": [
      "Introduce frase 1: Hola!\n",
      "Introduce frase 2: Hi!\n",
      "['H', '!']\n"
     ]
    }
   ],
   "source": [
    "#función que dados dos strings devuelve una lista con las letras que comparten ambos\n",
    "def sharedletters(s1,s2):\n",
    "    \n",
    "    s_res = []\n",
    "    \n",
    "    #Hacemos que ambos strings estén en mayusculas y sin espacios\n",
    "    s1 = s1.upper()\n",
    "    s2 = s2.upper()\n",
    "    s1 = s1.replace(\" \",\"\")\n",
    "    s2 = s2.replace(\" \",\"\")\n",
    "    \n",
    "    #Bucle en el que vamos a comparar la posición i del string s1 con todas las posiciones j del string s2\n",
    "    for i in range(len(s1)):\n",
    "        for j in range(len(s2)):\n",
    "            #Si encuentra una letra que sea igual en ambos strings, la añade a la lista y sale del bucle\n",
    "            if s1[i]==s2[j]:\n",
    "                s_res.append(s1[i])\n",
    "                break\n",
    "                \n",
    "    #Convertimos la lista a set y luego a list para así borrar duplicados\n",
    "    s_res = set(s_res)\n",
    "    s_res = list(s_res)\n",
    "    return s_res\n",
    "    \n",
    "\n",
    "\n",
    "s1 = input(\"Introduce frase 1: \")\n",
    "s2 = input(\"Introduce frase 2: \")\n",
    "\n",
    "print(sharedletters(s1,s2))"
   ]
  },
  {
   "cell_type": "code",
   "execution_count": null,
   "id": "97957438",
   "metadata": {},
   "outputs": [],
   "source": []
  }
 ],
 "metadata": {
  "kernelspec": {
   "display_name": "Python 3 (ipykernel)",
   "language": "python",
   "name": "python3"
  },
  "language_info": {
   "codemirror_mode": {
    "name": "ipython",
    "version": 3
   },
   "file_extension": ".py",
   "mimetype": "text/x-python",
   "name": "python",
   "nbconvert_exporter": "python",
   "pygments_lexer": "ipython3",
   "version": "3.8.10"
  }
 },
 "nbformat": 4,
 "nbformat_minor": 5
}

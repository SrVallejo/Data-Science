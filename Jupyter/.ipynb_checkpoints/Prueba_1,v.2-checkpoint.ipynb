{
 "cells": [
  {
   "cell_type": "markdown",
   "metadata": {},
   "source": [
    "Contenido creado por: \n",
    "\n",
    "*Isabel Maniega*"
   ]
  },
  {
   "cell_type": "markdown",
   "metadata": {},
   "source": [
    "* Los ejercicios puntuan 2 puntos cada uno hasta un Máximo de 10 puntos.\n",
    "* Lea los ejercicios detenidamente y realice cada uno de los apartados.\n",
    "* En caso de duda puede consultar internet para su realización.\n",
    "\n",
    "    # Suerte!! 😊"
   ]
  },
  {
   "cell_type": "markdown",
   "metadata": {},
   "source": [
    "****"
   ]
  },
  {
   "cell_type": "markdown",
   "metadata": {},
   "source": [
    "# Ejercicio 1"
   ]
  },
  {
   "cell_type": "markdown",
   "metadata": {},
   "source": [
    "Dado el siguiente array de Numpy:\n",
    "\n",
    "array = np.array([10,20,30])\n",
    "\n",
    "Se pide:\n",
    "\n",
    "a) Transformar el array en una lista (lista de nombre \"L\")\n",
    "\n",
    "b) Una vez creada esa lista L, modificar la lista en su posición 1, por 200\n",
    "\n",
    "c) Tras responder a) y b) trata de añadir el valor 40 al final de la lista"
   ]
  },
  {
   "cell_type": "markdown",
   "metadata": {},
   "source": [
    "****"
   ]
  },
  {
   "cell_type": "markdown",
   "metadata": {},
   "source": [
    "# Ejercicio 2"
   ]
  },
  {
   "cell_type": "markdown",
   "metadata": {},
   "source": [
    "Queremos recorrer esta lista: L = [100,200,300,400]\n",
    "\n",
    "Teniendo en cuenta que queremos obtener aquellos valores < 150\n",
    "\n",
    "(y almacenarlos en una lista)\n",
    "\n",
    "Hazlo, si sabes de varias formas posibles."
   ]
  },
  {
   "cell_type": "markdown",
   "metadata": {},
   "source": [
    "****"
   ]
  },
  {
   "cell_type": "markdown",
   "metadata": {},
   "source": [
    "# Ejercicio 3"
   ]
  },
  {
   "cell_type": "markdown",
   "metadata": {},
   "source": [
    "Crea un diccionario que tenga la nota de 3 asignaturas y \n",
    "\n",
    "haz un pequeño algoritmo que calcule la nota media"
   ]
  },
  {
   "cell_type": "code",
   "execution_count": 2,
   "metadata": {},
   "outputs": [],
   "source": [
    "# CURSO         -> Nota\n",
    "# ---------------------\n",
    "# Matemáticas   ->  10\n",
    "# Historia      ->  8\n",
    "# Inglés        ->  6"
   ]
  },
  {
   "cell_type": "markdown",
   "metadata": {},
   "source": [
    "**1)** Muestra el valor de las claves"
   ]
  },
  {
   "cell_type": "markdown",
   "metadata": {},
   "source": [
    "**2)** Muestra el valor de los valores del diccionario"
   ]
  },
  {
   "cell_type": "markdown",
   "metadata": {},
   "source": [
    "**3)** Apendiza en el diccionario un nuevo elemento: \n",
    "    \n",
    "Lengua  --> 9"
   ]
  },
  {
   "cell_type": "markdown",
   "metadata": {},
   "source": [
    "**4)** Haciendo uso un bucle muestra la clave y el valor del diccionario, cuyo resultado final sean listas anidadas.\n",
    "\n",
    "[[\"clave1\", valor1], [\"clave2\", valor2]]"
   ]
  },
  {
   "cell_type": "markdown",
   "metadata": {},
   "source": [
    "**5)** Reconvierte el diccionario para transformarlo en un dataframe y busca la asignatura con la nota más alta"
   ]
  },
  {
   "cell_type": "markdown",
   "metadata": {},
   "source": [
    "**6)** ¿y la nota más baja?"
   ]
  },
  {
   "cell_type": "markdown",
   "metadata": {},
   "source": [
    "**7)** Ordena el dataframe en orden descendente:"
   ]
  },
  {
   "cell_type": "markdown",
   "metadata": {},
   "source": [
    "****"
   ]
  },
  {
   "cell_type": "markdown",
   "metadata": {},
   "source": [
    "# Ejercicio 4"
   ]
  },
  {
   "cell_type": "markdown",
   "metadata": {},
   "source": [
    "Dado este listado de números:"
   ]
  },
  {
   "cell_type": "markdown",
   "metadata": {},
   "source": [
    "-8, 350, 0, 799, 200, -30, 650, 0, 1650, 900"
   ]
  },
  {
   "cell_type": "markdown",
   "metadata": {},
   "source": [
    "Haz un pequeño algoritmo que haga lo siguiente:\n",
    "* Si el número es negativo debe imprimir lo siguiente **el valor es negativo**\n",
    "* Si es 0 debe imprimir un mensaje que indique: **0**\n",
    "* Si se encuentra entre 0 (no incluido) y 400 (si incluido), imprime **0,400**\n",
    "* Si se encuentra entre 600 (no incluido) y 800 (no incluido), debe imprimir **(600, 800)**\n",
    "* Si es 200 debe **continuar** sin hacer nada\n",
    "* Si se encuentra entre 800 (no incluido) y 1000 (no incluido) debe **saltar automaticamente y dejar de testear** (parar)\n",
    "* Para el resto de números, debe decir: **valor demasiado grande, desde 1000, en adelante**"
   ]
  },
  {
   "cell_type": "markdown",
   "metadata": {},
   "source": [
    "****"
   ]
  },
  {
   "cell_type": "markdown",
   "metadata": {},
   "source": [
    "# Ejercicio 5"
   ]
  },
  {
   "cell_type": "markdown",
   "metadata": {},
   "source": [
    "**1)** Crea una lista de nombre \"Concursante\" que contenga los siguientes valores:\n",
    "\n",
    "\"Teodoro\", \"Cristina\", \"Antonio\", \"Marina\", \"Laura\", \"Felix\", \"Jose\", \"Estefania\""
   ]
  },
  {
   "cell_type": "markdown",
   "metadata": {},
   "source": [
    "**2)** Crea una lista de nombre \"Resultados\" que contenga los siguientes valores:\n",
    "\n",
    "40, 20, 50, 3, 50, 5, 60, 40"
   ]
  },
  {
   "cell_type": "markdown",
   "metadata": {},
   "source": [
    "**3)** Con ayuda de las listas anteriores crea un diccionario con los concursantes y los resultados."
   ]
  },
  {
   "cell_type": "markdown",
   "metadata": {},
   "source": [
    "**4)** Crea un dataframe vacio y apendiza los concursantes y los resultados mediante el empleo de un bucle for"
   ]
  },
  {
   "cell_type": "markdown",
   "metadata": {},
   "source": [
    "**5)** Con ayuda de loc filtra los resultados obtenidos desde Antonio hasta Jose."
   ]
  },
  {
   "cell_type": "markdown",
   "metadata": {},
   "source": [
    "**6)** Con ayuda de loc filtra los resultados obtenidos mayores o iguales a 40"
   ]
  },
  {
   "cell_type": "markdown",
   "metadata": {},
   "source": [
    "**7)** Muestra el concursante con la mayor puntuación"
   ]
  },
  {
   "cell_type": "markdown",
   "metadata": {},
   "source": [
    "**8)** Muestra el concursante con la menor puntuación"
   ]
  },
  {
   "cell_type": "markdown",
   "metadata": {},
   "source": [
    "**9)** Modifica con la ayuda de loc los valores 50 por 0"
   ]
  },
  {
   "cell_type": "markdown",
   "metadata": {},
   "source": [
    "**10)** Modifica Concursante \"Marina\" su puntuación por \"50\" con ayuda de .loc"
   ]
  },
  {
   "cell_type": "markdown",
   "metadata": {},
   "source": [
    "Gracias por la atención\n",
    "\n",
    "*Isabel Maniega*"
   ]
  }
 ],
 "metadata": {
  "kernelspec": {
   "display_name": "Python 3 (ipykernel)",
   "language": "python",
   "name": "python3"
  },
  "language_info": {
   "codemirror_mode": {
    "name": "ipython",
    "version": 3
   },
   "file_extension": ".py",
   "mimetype": "text/x-python",
   "name": "python",
   "nbconvert_exporter": "python",
   "pygments_lexer": "ipython3",
   "version": "3.8.10"
  }
 },
 "nbformat": 4,
 "nbformat_minor": 2
}

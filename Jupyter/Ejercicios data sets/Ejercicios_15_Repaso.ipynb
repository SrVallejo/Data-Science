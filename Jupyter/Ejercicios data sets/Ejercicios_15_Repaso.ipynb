{
 "cells": [
  {
   "cell_type": "code",
   "execution_count": 1,
   "id": "912888cd",
   "metadata": {},
   "outputs": [],
   "source": [
    "import pandas as pd"
   ]
  },
  {
   "cell_type": "markdown",
   "id": "415133fb",
   "metadata": {},
   "source": [
    "*Creado por:*\n",
    "\n",
    "*Isabel Maniega*"
   ]
  },
  {
   "cell_type": "markdown",
   "id": "4c0057eb",
   "metadata": {},
   "source": [
    "# Ejercicio 1"
   ]
  },
  {
   "cell_type": "markdown",
   "id": "aa8e6906",
   "metadata": {},
   "source": [
    "**1)** Crea una lista de nombre \"Concursante\" que contenga los siguientes valores:\n",
    "    \n",
    "\"Juan\", \"Pedro\", \"Andrea\", \"Luis\", \"Ana\", \"Lara\", \"Jose\", \"Estefania\""
   ]
  },
  {
   "cell_type": "code",
   "execution_count": 2,
   "id": "b379748d",
   "metadata": {},
   "outputs": [],
   "source": [
    "con = [\n",
    "    \"Juan\", \"Pedro\", \"Andrea\", \n",
    "    \"Luis\", \"Ana\", \"Lara\", \n",
    "    \"Jose\", \"Estefania\"\n",
    "]"
   ]
  },
  {
   "cell_type": "markdown",
   "id": "c860246d",
   "metadata": {},
   "source": [
    "**2)** Crea una lista de nombre \"Resultados\" que contenga los siguientes valores:\n",
    "    \n",
    "\"20\", \"30\", \"50\", \"20\", \"10\", \"5\", \"60\", \"40\""
   ]
  },
  {
   "cell_type": "code",
   "execution_count": 3,
   "id": "3b823afb",
   "metadata": {},
   "outputs": [],
   "source": [
    "res = [\n",
    "    20, 30, 50, \n",
    "    20, 10, 5, \n",
    "    60, 40\n",
    "]"
   ]
  },
  {
   "cell_type": "markdown",
   "id": "b75740b7",
   "metadata": {},
   "source": [
    "**3)** Crea un diccionario con los concursantes y los resultados."
   ]
  },
  {
   "cell_type": "code",
   "execution_count": 4,
   "id": "48dc671f",
   "metadata": {},
   "outputs": [
    {
     "data": {
      "text/plain": [
       "{'Juan': 20,\n",
       " 'Pedro': 30,\n",
       " 'Andrea': 50,\n",
       " 'Luis': 20,\n",
       " 'Ana': 10,\n",
       " 'Lara': 5,\n",
       " 'Jose': 60,\n",
       " 'Estefania': 40}"
      ]
     },
     "execution_count": 4,
     "metadata": {},
     "output_type": "execute_result"
    }
   ],
   "source": [
    "dic_con = {}\n",
    "\n",
    "for i in range(len(con)):\n",
    "    dic_con[con[i]] = res[i]\n",
    "    \n",
    "dic_con"
   ]
  },
  {
   "cell_type": "markdown",
   "id": "95c6bf46",
   "metadata": {},
   "source": [
    "**4)** Crea un dataframe vacio y apendiza los concursantes y los resultados mediante el empleo de un bucle for"
   ]
  },
  {
   "cell_type": "code",
   "execution_count": 5,
   "id": "739a2b53",
   "metadata": {},
   "outputs": [
    {
     "data": {
      "text/html": [
       "<div>\n",
       "<style scoped>\n",
       "    .dataframe tbody tr th:only-of-type {\n",
       "        vertical-align: middle;\n",
       "    }\n",
       "\n",
       "    .dataframe tbody tr th {\n",
       "        vertical-align: top;\n",
       "    }\n",
       "\n",
       "    .dataframe thead th {\n",
       "        text-align: right;\n",
       "    }\n",
       "</style>\n",
       "<table border=\"1\" class=\"dataframe\">\n",
       "  <thead>\n",
       "    <tr style=\"text-align: right;\">\n",
       "      <th></th>\n",
       "      <th>Concursantes</th>\n",
       "      <th>Resultados</th>\n",
       "    </tr>\n",
       "  </thead>\n",
       "  <tbody>\n",
       "    <tr>\n",
       "      <th>0</th>\n",
       "      <td>Juan</td>\n",
       "      <td>20</td>\n",
       "    </tr>\n",
       "    <tr>\n",
       "      <th>1</th>\n",
       "      <td>Pedro</td>\n",
       "      <td>30</td>\n",
       "    </tr>\n",
       "    <tr>\n",
       "      <th>2</th>\n",
       "      <td>Andrea</td>\n",
       "      <td>50</td>\n",
       "    </tr>\n",
       "    <tr>\n",
       "      <th>3</th>\n",
       "      <td>Luis</td>\n",
       "      <td>20</td>\n",
       "    </tr>\n",
       "    <tr>\n",
       "      <th>4</th>\n",
       "      <td>Ana</td>\n",
       "      <td>10</td>\n",
       "    </tr>\n",
       "    <tr>\n",
       "      <th>5</th>\n",
       "      <td>Lara</td>\n",
       "      <td>5</td>\n",
       "    </tr>\n",
       "    <tr>\n",
       "      <th>6</th>\n",
       "      <td>Jose</td>\n",
       "      <td>60</td>\n",
       "    </tr>\n",
       "    <tr>\n",
       "      <th>7</th>\n",
       "      <td>Estefania</td>\n",
       "      <td>40</td>\n",
       "    </tr>\n",
       "  </tbody>\n",
       "</table>\n",
       "</div>"
      ],
      "text/plain": [
       "  Concursantes Resultados\n",
       "0         Juan         20\n",
       "1        Pedro         30\n",
       "2       Andrea         50\n",
       "3         Luis         20\n",
       "4          Ana         10\n",
       "5         Lara          5\n",
       "6         Jose         60\n",
       "7    Estefania         40"
      ]
     },
     "execution_count": 5,
     "metadata": {},
     "output_type": "execute_result"
    }
   ],
   "source": [
    "df_con = pd.DataFrame(columns=[\"Concursantes\",\"Resultados\"])\n",
    "df_con\n",
    "\n",
    "for key,value in dic_con.items():\n",
    "    new_row = pd.DataFrame([[key,value]],columns=[\"Concursantes\",\"Resultados\"])\n",
    "    df_con = pd.concat([df_con,new_row],ignore_index=True)\n",
    "\n",
    "df_con"
   ]
  },
  {
   "cell_type": "markdown",
   "id": "12c797c5",
   "metadata": {},
   "source": [
    "**5)** Con ayuda de loc filtra los resultados obtenidos desde pedro hasta Lara."
   ]
  },
  {
   "cell_type": "code",
   "execution_count": 6,
   "id": "138317d5",
   "metadata": {},
   "outputs": [
    {
     "data": {
      "text/html": [
       "<div>\n",
       "<style scoped>\n",
       "    .dataframe tbody tr th:only-of-type {\n",
       "        vertical-align: middle;\n",
       "    }\n",
       "\n",
       "    .dataframe tbody tr th {\n",
       "        vertical-align: top;\n",
       "    }\n",
       "\n",
       "    .dataframe thead th {\n",
       "        text-align: right;\n",
       "    }\n",
       "</style>\n",
       "<table border=\"1\" class=\"dataframe\">\n",
       "  <thead>\n",
       "    <tr style=\"text-align: right;\">\n",
       "      <th></th>\n",
       "      <th>Concursantes</th>\n",
       "      <th>Resultados</th>\n",
       "    </tr>\n",
       "  </thead>\n",
       "  <tbody>\n",
       "    <tr>\n",
       "      <th>1</th>\n",
       "      <td>Pedro</td>\n",
       "      <td>30</td>\n",
       "    </tr>\n",
       "    <tr>\n",
       "      <th>2</th>\n",
       "      <td>Andrea</td>\n",
       "      <td>50</td>\n",
       "    </tr>\n",
       "    <tr>\n",
       "      <th>3</th>\n",
       "      <td>Luis</td>\n",
       "      <td>20</td>\n",
       "    </tr>\n",
       "    <tr>\n",
       "      <th>4</th>\n",
       "      <td>Ana</td>\n",
       "      <td>10</td>\n",
       "    </tr>\n",
       "    <tr>\n",
       "      <th>5</th>\n",
       "      <td>Lara</td>\n",
       "      <td>5</td>\n",
       "    </tr>\n",
       "  </tbody>\n",
       "</table>\n",
       "</div>"
      ],
      "text/plain": [
       "  Concursantes Resultados\n",
       "1        Pedro         30\n",
       "2       Andrea         50\n",
       "3         Luis         20\n",
       "4          Ana         10\n",
       "5         Lara          5"
      ]
     },
     "execution_count": 6,
     "metadata": {},
     "output_type": "execute_result"
    }
   ],
   "source": [
    "df_con.loc[1:5]"
   ]
  },
  {
   "cell_type": "markdown",
   "id": "771bd6db",
   "metadata": {},
   "source": [
    "**6)** Con ayuda de loc filtra los resultados obtenidos mayores o iguales a 40"
   ]
  },
  {
   "cell_type": "code",
   "execution_count": 7,
   "id": "14dd5162",
   "metadata": {},
   "outputs": [
    {
     "data": {
      "text/html": [
       "<div>\n",
       "<style scoped>\n",
       "    .dataframe tbody tr th:only-of-type {\n",
       "        vertical-align: middle;\n",
       "    }\n",
       "\n",
       "    .dataframe tbody tr th {\n",
       "        vertical-align: top;\n",
       "    }\n",
       "\n",
       "    .dataframe thead th {\n",
       "        text-align: right;\n",
       "    }\n",
       "</style>\n",
       "<table border=\"1\" class=\"dataframe\">\n",
       "  <thead>\n",
       "    <tr style=\"text-align: right;\">\n",
       "      <th></th>\n",
       "      <th>Concursantes</th>\n",
       "      <th>Resultados</th>\n",
       "    </tr>\n",
       "  </thead>\n",
       "  <tbody>\n",
       "    <tr>\n",
       "      <th>2</th>\n",
       "      <td>Andrea</td>\n",
       "      <td>50</td>\n",
       "    </tr>\n",
       "    <tr>\n",
       "      <th>6</th>\n",
       "      <td>Jose</td>\n",
       "      <td>60</td>\n",
       "    </tr>\n",
       "    <tr>\n",
       "      <th>7</th>\n",
       "      <td>Estefania</td>\n",
       "      <td>40</td>\n",
       "    </tr>\n",
       "  </tbody>\n",
       "</table>\n",
       "</div>"
      ],
      "text/plain": [
       "  Concursantes Resultados\n",
       "2       Andrea         50\n",
       "6         Jose         60\n",
       "7    Estefania         40"
      ]
     },
     "execution_count": 7,
     "metadata": {},
     "output_type": "execute_result"
    }
   ],
   "source": [
    "df_con.loc[df_con.Resultados >= 40]"
   ]
  },
  {
   "cell_type": "markdown",
   "id": "72ce7b0b",
   "metadata": {},
   "source": [
    "**7)** Muestra el concursante con la mayor puntuación"
   ]
  },
  {
   "cell_type": "code",
   "execution_count": 8,
   "id": "f8f695f8",
   "metadata": {},
   "outputs": [
    {
     "data": {
      "text/html": [
       "<div>\n",
       "<style scoped>\n",
       "    .dataframe tbody tr th:only-of-type {\n",
       "        vertical-align: middle;\n",
       "    }\n",
       "\n",
       "    .dataframe tbody tr th {\n",
       "        vertical-align: top;\n",
       "    }\n",
       "\n",
       "    .dataframe thead th {\n",
       "        text-align: right;\n",
       "    }\n",
       "</style>\n",
       "<table border=\"1\" class=\"dataframe\">\n",
       "  <thead>\n",
       "    <tr style=\"text-align: right;\">\n",
       "      <th></th>\n",
       "      <th>Concursantes</th>\n",
       "      <th>Resultados</th>\n",
       "    </tr>\n",
       "  </thead>\n",
       "  <tbody>\n",
       "    <tr>\n",
       "      <th>6</th>\n",
       "      <td>Jose</td>\n",
       "      <td>60</td>\n",
       "    </tr>\n",
       "  </tbody>\n",
       "</table>\n",
       "</div>"
      ],
      "text/plain": [
       "  Concursantes Resultados\n",
       "6         Jose         60"
      ]
     },
     "execution_count": 8,
     "metadata": {},
     "output_type": "execute_result"
    }
   ],
   "source": [
    "df_con.loc[df_con.Resultados == max(df_con.Resultados)]"
   ]
  },
  {
   "cell_type": "markdown",
   "id": "b4517488",
   "metadata": {},
   "source": [
    "**8)** Muestra el concursante con la menor puntuación"
   ]
  },
  {
   "cell_type": "code",
   "execution_count": 9,
   "id": "d4f97aec",
   "metadata": {},
   "outputs": [
    {
     "data": {
      "text/html": [
       "<div>\n",
       "<style scoped>\n",
       "    .dataframe tbody tr th:only-of-type {\n",
       "        vertical-align: middle;\n",
       "    }\n",
       "\n",
       "    .dataframe tbody tr th {\n",
       "        vertical-align: top;\n",
       "    }\n",
       "\n",
       "    .dataframe thead th {\n",
       "        text-align: right;\n",
       "    }\n",
       "</style>\n",
       "<table border=\"1\" class=\"dataframe\">\n",
       "  <thead>\n",
       "    <tr style=\"text-align: right;\">\n",
       "      <th></th>\n",
       "      <th>Concursantes</th>\n",
       "      <th>Resultados</th>\n",
       "    </tr>\n",
       "  </thead>\n",
       "  <tbody>\n",
       "    <tr>\n",
       "      <th>5</th>\n",
       "      <td>Lara</td>\n",
       "      <td>5</td>\n",
       "    </tr>\n",
       "  </tbody>\n",
       "</table>\n",
       "</div>"
      ],
      "text/plain": [
       "  Concursantes Resultados\n",
       "5         Lara          5"
      ]
     },
     "execution_count": 9,
     "metadata": {},
     "output_type": "execute_result"
    }
   ],
   "source": [
    "df_con.loc[df_con.Resultados == min(df_con.Resultados)]"
   ]
  },
  {
   "cell_type": "markdown",
   "id": "7ec91fb9",
   "metadata": {},
   "source": [
    "**9)** Modifica con la ayuda de loc los valores 20 por 0"
   ]
  },
  {
   "cell_type": "code",
   "execution_count": 10,
   "id": "0e910637",
   "metadata": {},
   "outputs": [
    {
     "data": {
      "text/html": [
       "<div>\n",
       "<style scoped>\n",
       "    .dataframe tbody tr th:only-of-type {\n",
       "        vertical-align: middle;\n",
       "    }\n",
       "\n",
       "    .dataframe tbody tr th {\n",
       "        vertical-align: top;\n",
       "    }\n",
       "\n",
       "    .dataframe thead th {\n",
       "        text-align: right;\n",
       "    }\n",
       "</style>\n",
       "<table border=\"1\" class=\"dataframe\">\n",
       "  <thead>\n",
       "    <tr style=\"text-align: right;\">\n",
       "      <th></th>\n",
       "      <th>Concursantes</th>\n",
       "      <th>Resultados</th>\n",
       "    </tr>\n",
       "  </thead>\n",
       "  <tbody>\n",
       "    <tr>\n",
       "      <th>0</th>\n",
       "      <td>Juan</td>\n",
       "      <td>20</td>\n",
       "    </tr>\n",
       "    <tr>\n",
       "      <th>1</th>\n",
       "      <td>Pedro</td>\n",
       "      <td>30</td>\n",
       "    </tr>\n",
       "    <tr>\n",
       "      <th>2</th>\n",
       "      <td>Andrea</td>\n",
       "      <td>50</td>\n",
       "    </tr>\n",
       "    <tr>\n",
       "      <th>3</th>\n",
       "      <td>Luis</td>\n",
       "      <td>20</td>\n",
       "    </tr>\n",
       "    <tr>\n",
       "      <th>4</th>\n",
       "      <td>Ana</td>\n",
       "      <td>10</td>\n",
       "    </tr>\n",
       "    <tr>\n",
       "      <th>5</th>\n",
       "      <td>Lara</td>\n",
       "      <td>5</td>\n",
       "    </tr>\n",
       "    <tr>\n",
       "      <th>6</th>\n",
       "      <td>Jose</td>\n",
       "      <td>60</td>\n",
       "    </tr>\n",
       "    <tr>\n",
       "      <th>7</th>\n",
       "      <td>Estefania</td>\n",
       "      <td>40</td>\n",
       "    </tr>\n",
       "  </tbody>\n",
       "</table>\n",
       "</div>"
      ],
      "text/plain": [
       "  Concursantes Resultados\n",
       "0         Juan         20\n",
       "1        Pedro         30\n",
       "2       Andrea         50\n",
       "3         Luis         20\n",
       "4          Ana         10\n",
       "5         Lara          5\n",
       "6         Jose         60\n",
       "7    Estefania         40"
      ]
     },
     "execution_count": 10,
     "metadata": {},
     "output_type": "execute_result"
    }
   ],
   "source": [
    "df_con"
   ]
  },
  {
   "cell_type": "code",
   "execution_count": 11,
   "id": "94cc7c48",
   "metadata": {},
   "outputs": [
    {
     "data": {
      "text/html": [
       "<div>\n",
       "<style scoped>\n",
       "    .dataframe tbody tr th:only-of-type {\n",
       "        vertical-align: middle;\n",
       "    }\n",
       "\n",
       "    .dataframe tbody tr th {\n",
       "        vertical-align: top;\n",
       "    }\n",
       "\n",
       "    .dataframe thead th {\n",
       "        text-align: right;\n",
       "    }\n",
       "</style>\n",
       "<table border=\"1\" class=\"dataframe\">\n",
       "  <thead>\n",
       "    <tr style=\"text-align: right;\">\n",
       "      <th></th>\n",
       "      <th>Concursantes</th>\n",
       "      <th>Resultados</th>\n",
       "    </tr>\n",
       "  </thead>\n",
       "  <tbody>\n",
       "    <tr>\n",
       "      <th>0</th>\n",
       "      <td>Juan</td>\n",
       "      <td>0</td>\n",
       "    </tr>\n",
       "    <tr>\n",
       "      <th>1</th>\n",
       "      <td>Pedro</td>\n",
       "      <td>30</td>\n",
       "    </tr>\n",
       "    <tr>\n",
       "      <th>2</th>\n",
       "      <td>Andrea</td>\n",
       "      <td>50</td>\n",
       "    </tr>\n",
       "    <tr>\n",
       "      <th>3</th>\n",
       "      <td>Luis</td>\n",
       "      <td>0</td>\n",
       "    </tr>\n",
       "    <tr>\n",
       "      <th>4</th>\n",
       "      <td>Ana</td>\n",
       "      <td>10</td>\n",
       "    </tr>\n",
       "    <tr>\n",
       "      <th>5</th>\n",
       "      <td>Lara</td>\n",
       "      <td>5</td>\n",
       "    </tr>\n",
       "    <tr>\n",
       "      <th>6</th>\n",
       "      <td>Jose</td>\n",
       "      <td>60</td>\n",
       "    </tr>\n",
       "    <tr>\n",
       "      <th>7</th>\n",
       "      <td>Estefania</td>\n",
       "      <td>40</td>\n",
       "    </tr>\n",
       "  </tbody>\n",
       "</table>\n",
       "</div>"
      ],
      "text/plain": [
       "  Concursantes Resultados\n",
       "0         Juan          0\n",
       "1        Pedro         30\n",
       "2       Andrea         50\n",
       "3         Luis          0\n",
       "4          Ana         10\n",
       "5         Lara          5\n",
       "6         Jose         60\n",
       "7    Estefania         40"
      ]
     },
     "execution_count": 11,
     "metadata": {},
     "output_type": "execute_result"
    }
   ],
   "source": [
    "df_con.loc[df_con.Resultados == 20,\"Resultados\"] = 0\n",
    "df_con"
   ]
  },
  {
   "cell_type": "markdown",
   "id": "3c2fdbca",
   "metadata": {},
   "source": [
    "**10)** Modifica Concursante \"Juan\" su puntuación por \"None\" con ayuda de .loc"
   ]
  },
  {
   "cell_type": "code",
   "execution_count": 12,
   "id": "373387ef",
   "metadata": {},
   "outputs": [
    {
     "data": {
      "text/html": [
       "<div>\n",
       "<style scoped>\n",
       "    .dataframe tbody tr th:only-of-type {\n",
       "        vertical-align: middle;\n",
       "    }\n",
       "\n",
       "    .dataframe tbody tr th {\n",
       "        vertical-align: top;\n",
       "    }\n",
       "\n",
       "    .dataframe thead th {\n",
       "        text-align: right;\n",
       "    }\n",
       "</style>\n",
       "<table border=\"1\" class=\"dataframe\">\n",
       "  <thead>\n",
       "    <tr style=\"text-align: right;\">\n",
       "      <th></th>\n",
       "      <th>Concursantes</th>\n",
       "      <th>Resultados</th>\n",
       "    </tr>\n",
       "  </thead>\n",
       "  <tbody>\n",
       "    <tr>\n",
       "      <th>0</th>\n",
       "      <td>Juan</td>\n",
       "      <td>None</td>\n",
       "    </tr>\n",
       "    <tr>\n",
       "      <th>1</th>\n",
       "      <td>Pedro</td>\n",
       "      <td>30</td>\n",
       "    </tr>\n",
       "    <tr>\n",
       "      <th>2</th>\n",
       "      <td>Andrea</td>\n",
       "      <td>50</td>\n",
       "    </tr>\n",
       "    <tr>\n",
       "      <th>3</th>\n",
       "      <td>Luis</td>\n",
       "      <td>0</td>\n",
       "    </tr>\n",
       "    <tr>\n",
       "      <th>4</th>\n",
       "      <td>Ana</td>\n",
       "      <td>10</td>\n",
       "    </tr>\n",
       "    <tr>\n",
       "      <th>5</th>\n",
       "      <td>Lara</td>\n",
       "      <td>5</td>\n",
       "    </tr>\n",
       "    <tr>\n",
       "      <th>6</th>\n",
       "      <td>Jose</td>\n",
       "      <td>60</td>\n",
       "    </tr>\n",
       "    <tr>\n",
       "      <th>7</th>\n",
       "      <td>Estefania</td>\n",
       "      <td>40</td>\n",
       "    </tr>\n",
       "  </tbody>\n",
       "</table>\n",
       "</div>"
      ],
      "text/plain": [
       "  Concursantes Resultados\n",
       "0         Juan       None\n",
       "1        Pedro         30\n",
       "2       Andrea         50\n",
       "3         Luis          0\n",
       "4          Ana         10\n",
       "5         Lara          5\n",
       "6         Jose         60\n",
       "7    Estefania         40"
      ]
     },
     "execution_count": 12,
     "metadata": {},
     "output_type": "execute_result"
    }
   ],
   "source": [
    "df_con.loc[df_con.Concursantes == \"Juan\",\"Resultados\"] = None\n",
    "df_con"
   ]
  },
  {
   "cell_type": "markdown",
   "id": "60884f85",
   "metadata": {},
   "source": [
    "**NOTA:** los apartados 9 y 10 debéis buscar por internet o en la documentación de pandas como realizar ese ejercicio"
   ]
  },
  {
   "cell_type": "markdown",
   "id": "b2e5fea5",
   "metadata": {},
   "source": [
    "# Ejercicio 2"
   ]
  },
  {
   "cell_type": "markdown",
   "id": "a757d699",
   "metadata": {},
   "source": [
    "Buscar utilidades de fibonacci"
   ]
  },
  {
   "cell_type": "markdown",
   "id": "8197970a",
   "metadata": {},
   "source": [
    "**Proporción áurea**: Muy elegante para arte<br>\n",
    "**Arbol genealógico abejas**: 1 zangano tiene 1 madre, 2 abuelos, 3, visabuelos, 5, tatarabuelos, 8 tastarabuelos etc."
   ]
  },
  {
   "cell_type": "markdown",
   "id": "d185c294",
   "metadata": {},
   "source": [
    "# Ejercicio 3"
   ]
  },
  {
   "cell_type": "markdown",
   "id": "34d1c68c",
   "metadata": {},
   "source": [
    "Escribe un programa que pida dos palabras y diga si riman o no. Si coinciden\n",
    "las tres últimas letras tiene que decir que riman. Si coinciden sólo las dos\n",
    "últimas tiene que decir que riman un poco y si no, que no riman."
   ]
  },
  {
   "cell_type": "code",
   "execution_count": 3,
   "id": "f67d8993",
   "metadata": {},
   "outputs": [
    {
     "name": "stdout",
     "output_type": "stream",
     "text": [
      "Dime tu primera palabra: Casa\n",
      "Dime tu segunda palabra: Puente\n",
      "Las palabras Casa y Puente no riman\n"
     ]
    }
   ],
   "source": [
    "word1 = input(\"Dime tu primera palabra: \")\n",
    "word2 = input(\"Dime tu segunda palabra: \")\n",
    "\n",
    "cont = 0\n",
    "error = False\n",
    "\n",
    "\n",
    "for i in range(-1,-4,-1):\n",
    "    try:\n",
    "        if word1[i].upper() == word2[i].upper(): cont += 1\n",
    "        else: break\n",
    "    except:\n",
    "        print(\"Error -> Las palabras deben tener mínimo 3 letras\")\n",
    "        error = True\n",
    "\n",
    "\n",
    "if not error:\n",
    "    if cont == 3: print(f\"Las palabras {word1} y {word2} riman\")\n",
    "    elif cont == 2: print(f\"Las palabras {word1} y {word2} riman a medias\")\n",
    "    else: print(f\"Las palabras {word1} y {word2} no riman\")"
   ]
  },
  {
   "cell_type": "markdown",
   "id": "c5df4dd9",
   "metadata": {},
   "source": [
    "*Creado por:*\n",
    "\n",
    "*Isabel Maniega*"
   ]
  }
 ],
 "metadata": {
  "kernelspec": {
   "display_name": "Python 3 (ipykernel)",
   "language": "python",
   "name": "python3"
  },
  "language_info": {
   "codemirror_mode": {
    "name": "ipython",
    "version": 3
   },
   "file_extension": ".py",
   "mimetype": "text/x-python",
   "name": "python",
   "nbconvert_exporter": "python",
   "pygments_lexer": "ipython3",
   "version": "3.8.10"
  }
 },
 "nbformat": 4,
 "nbformat_minor": 5
}

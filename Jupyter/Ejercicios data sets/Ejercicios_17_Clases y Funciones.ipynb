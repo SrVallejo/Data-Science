{
 "cells": [
  {
   "cell_type": "markdown",
   "id": "7d2da827",
   "metadata": {},
   "source": [
    "# Ejercicio 1"
   ]
  },
  {
   "cell_type": "markdown",
   "id": "03bd9e42",
   "metadata": {},
   "source": [
    "Crea la clase \"matematicas\" y dentro de esa clase crea las funciones suma y resta, en dichas funciones nos deberán devolver el resultado de la suma y de la resta, siguiendo los siguientes pasos:"
   ]
  },
  {
   "cell_type": "code",
   "execution_count": 5,
   "id": "02df8a91",
   "metadata": {},
   "outputs": [],
   "source": [
    "class matematicas:\n",
    "    \n",
    "    def suma(x):\n",
    "        return 10+x\n",
    "\n",
    "    def resta(x):\n",
    "        return 10-x\n",
    "    \n",
    "# Crea la clase matematicas\n",
    "# crea la funcion suma en la cual se le pase un valor (x):\n",
    "#           y = 10 + x\n",
    "#           retornar el resultado\n",
    "# crea la funcion resta en la cual se le pase un valor(x):\n",
    "#           y = 10- x\n",
    "#           retornar el resultado\n",
    "# Imprime el resultado de la función suma y de la funcion resta para un valor de x = 5, x = 10"
   ]
  },
  {
   "cell_type": "code",
   "execution_count": 6,
   "id": "7edcf817",
   "metadata": {},
   "outputs": [
    {
     "data": {
      "text/plain": [
       "15"
      ]
     },
     "execution_count": 6,
     "metadata": {},
     "output_type": "execute_result"
    }
   ],
   "source": [
    "matematicas.suma(5)"
   ]
  },
  {
   "cell_type": "code",
   "execution_count": 7,
   "id": "263f7aed",
   "metadata": {},
   "outputs": [
    {
     "data": {
      "text/plain": [
       "0"
      ]
     },
     "execution_count": 7,
     "metadata": {},
     "output_type": "execute_result"
    }
   ],
   "source": [
    "matematicas.resta(10)"
   ]
  },
  {
   "cell_type": "markdown",
   "id": "6578f5a6",
   "metadata": {},
   "source": [
    "# Ejercicio 2"
   ]
  },
  {
   "cell_type": "markdown",
   "id": "cc0d1bfd",
   "metadata": {},
   "source": [
    "Crea dos clases una llamala \"libros\" y otra clase \"materias\".\n",
    "\n",
    "A la clase libros declara una función con nombre \"tipos\" y dentro de clase materias declara una función con nombre \"asignaturas\".\n",
    "\n",
    "A la función tipos retorne el valor name = \"Data Science\" y la función asignaturas retorne nombre = \"Big Data\""
   ]
  },
  {
   "cell_type": "code",
   "execution_count": 14,
   "id": "eec0fba9",
   "metadata": {},
   "outputs": [],
   "source": [
    "class libros:\n",
    "    \n",
    "    def tipos():\n",
    "        return \"Data Science\""
   ]
  },
  {
   "cell_type": "code",
   "execution_count": 19,
   "id": "792338bf",
   "metadata": {},
   "outputs": [],
   "source": [
    "class materias(libros):\n",
    "    def asignaturas():\n",
    "        return \"Big Data\""
   ]
  },
  {
   "cell_type": "markdown",
   "id": "fe6c4b2e",
   "metadata": {},
   "source": [
    "**1)** Prueba a retornar el resultados de la clase libros y la función tipos"
   ]
  },
  {
   "cell_type": "code",
   "execution_count": 16,
   "id": "a99e716f",
   "metadata": {},
   "outputs": [
    {
     "data": {
      "text/plain": [
       "'Data Science'"
      ]
     },
     "execution_count": 16,
     "metadata": {},
     "output_type": "execute_result"
    }
   ],
   "source": [
    "libros.tipos()"
   ]
  },
  {
   "cell_type": "markdown",
   "id": "51a94b31",
   "metadata": {},
   "source": [
    "**2)** Prueba a retornar el resultados de la clase materias y la función asignaturas"
   ]
  },
  {
   "cell_type": "code",
   "execution_count": 17,
   "id": "86fc6a80",
   "metadata": {},
   "outputs": [
    {
     "data": {
      "text/plain": [
       "'Big Data'"
      ]
     },
     "execution_count": 17,
     "metadata": {},
     "output_type": "execute_result"
    }
   ],
   "source": [
    "materias.asignaturas()"
   ]
  },
  {
   "cell_type": "markdown",
   "id": "7923ff08",
   "metadata": {},
   "source": [
    "**3)** Prueba a retornar el resultados de la clase materias y la función tipos"
   ]
  },
  {
   "cell_type": "code",
   "execution_count": 20,
   "id": "d8c2d9c9",
   "metadata": {},
   "outputs": [
    {
     "data": {
      "text/plain": [
       "'Data Science'"
      ]
     },
     "execution_count": 20,
     "metadata": {},
     "output_type": "execute_result"
    }
   ],
   "source": [
    "materias.tipos()"
   ]
  },
  {
   "cell_type": "markdown",
   "id": "08c648c9",
   "metadata": {},
   "source": [
    "¿ Qué es lo que observas ?"
   ]
  },
  {
   "cell_type": "code",
   "execution_count": null,
   "id": "be7379ad",
   "metadata": {},
   "outputs": [],
   "source": []
  }
 ],
 "metadata": {
  "kernelspec": {
   "display_name": "Python 3.8.10 ('env': venv)",
   "language": "python",
   "name": "python3"
  },
  "language_info": {
   "codemirror_mode": {
    "name": "ipython",
    "version": 3
   },
   "file_extension": ".py",
   "mimetype": "text/x-python",
   "name": "python",
   "nbconvert_exporter": "python",
   "pygments_lexer": "ipython3",
   "version": "3.8.10"
  },
  "vscode": {
   "interpreter": {
    "hash": "d056a00af5ef154cf937a569b76106a0a550a554b0a1723c03c26f8ac1acd3c8"
   }
  }
 },
 "nbformat": 4,
 "nbformat_minor": 5
}

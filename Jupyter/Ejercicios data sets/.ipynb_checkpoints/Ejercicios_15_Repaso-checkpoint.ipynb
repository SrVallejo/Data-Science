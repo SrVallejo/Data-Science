{
 "cells": [
  {
   "cell_type": "markdown",
   "id": "415133fb",
   "metadata": {},
   "source": [
    "*Creado por:*\n",
    "\n",
    "*Isabel Maniega*"
   ]
  },
  {
   "cell_type": "markdown",
   "id": "4c0057eb",
   "metadata": {},
   "source": [
    "# Ejercicio 1"
   ]
  },
  {
   "cell_type": "markdown",
   "id": "aa8e6906",
   "metadata": {},
   "source": [
    "**1)** Crea una lista de nombre \"Concursante\" que contenga los siguientes valores:\n",
    "    \n",
    "\"Juan\", \"Pedro\", \"Andrea\", \"Luis\", \"Ana\", \"Lara\", \"Jose\", \"Estefania\""
   ]
  },
  {
   "cell_type": "code",
   "execution_count": 1,
   "id": "da491285",
   "metadata": {},
   "outputs": [],
   "source": [
    "concurante = [\n",
    "    \"Juan\", \"Pedro\", \"Andrea\", \n",
    "    \"Luis\", \"Ana\", \"Lara\", \n",
    "    \"Jose\", \"Estefania\"\n",
    "]"
   ]
  },
  {
   "cell_type": "markdown",
   "id": "c860246d",
   "metadata": {},
   "source": [
    "**2)** Crea una lista de nombre \"Resultados\" que contenga los siguientes valores:\n",
    "    \n",
    "\"20\", \"30\", \"50\", \"20\", \"10\", \"5\", \"60\", \"40\""
   ]
  },
  {
   "cell_type": "code",
   "execution_count": 2,
   "id": "4f96f000",
   "metadata": {},
   "outputs": [],
   "source": [
    "resultados = [\n",
    "    \"20\", \"30\", \"50\", \n",
    "    \"20\", \"10\", \"5\", \n",
    "    \"60\", \"40\"\n",
    "]"
   ]
  },
  {
   "cell_type": "markdown",
   "id": "b75740b7",
   "metadata": {},
   "source": [
    "**3)** Crea un diccionario con los concursantes y los resultados."
   ]
  },
  {
   "cell_type": "code",
   "execution_count": null,
   "id": "7262bfff",
   "metadata": {},
   "outputs": [],
   "source": [
    "dic_concursantes "
   ]
  },
  {
   "cell_type": "markdown",
   "id": "95c6bf46",
   "metadata": {},
   "source": [
    "**4)** Crea un dataframe vacio y apendiza los concursantes y los resultados mediante el empleo de un bucle for"
   ]
  },
  {
   "cell_type": "markdown",
   "id": "12c797c5",
   "metadata": {},
   "source": [
    "**5)** Con ayuda de loc filtra los resultados obtenidos desde pedro hasta Lara."
   ]
  },
  {
   "cell_type": "markdown",
   "id": "771bd6db",
   "metadata": {},
   "source": [
    "**6)** Con ayuda de loc filtra los resultados obtenidos mayores o iguales a 40"
   ]
  },
  {
   "cell_type": "markdown",
   "id": "72ce7b0b",
   "metadata": {},
   "source": [
    "**7)** Muestra el concursante con la mayor puntuación"
   ]
  },
  {
   "cell_type": "markdown",
   "id": "b4517488",
   "metadata": {},
   "source": [
    "**8)** Muestra el concursante con la menor puntuación"
   ]
  },
  {
   "cell_type": "markdown",
   "id": "7ec91fb9",
   "metadata": {},
   "source": [
    "**9)** Modifica con la ayuda de loc los valores 20 por 0"
   ]
  },
  {
   "cell_type": "markdown",
   "id": "3c2fdbca",
   "metadata": {},
   "source": [
    "**10)** Modifica Concursante \"Juan\" su puntuación por \"None\" con ayuda de .loc"
   ]
  },
  {
   "cell_type": "markdown",
   "id": "60884f85",
   "metadata": {},
   "source": [
    "**NOTA:** los apartados 9 y 10 debéis buscar por internet o en la documentación de pandas como realizar ese ejercicio"
   ]
  },
  {
   "cell_type": "markdown",
   "id": "b2e5fea5",
   "metadata": {},
   "source": [
    "# Ejercicio 2"
   ]
  },
  {
   "cell_type": "markdown",
   "id": "a757d699",
   "metadata": {},
   "source": [
    "Buscar utilidades de fibonacci"
   ]
  },
  {
   "cell_type": "markdown",
   "id": "d185c294",
   "metadata": {},
   "source": [
    "# Ejercicio 3"
   ]
  },
  {
   "cell_type": "markdown",
   "id": "34d1c68c",
   "metadata": {},
   "source": [
    "Escribe un programa que pida dos palabras y diga si riman o no. Si coinciden\n",
    "las tres últimas letras tiene que decir que riman. Si coinciden sólo las dos\n",
    "últimas tiene que decir que riman un poco y si no, que no riman."
   ]
  },
  {
   "cell_type": "markdown",
   "id": "c5df4dd9",
   "metadata": {},
   "source": [
    "*Creado por:*\n",
    "\n",
    "*Isabel Maniega*"
   ]
  }
 ],
 "metadata": {
  "kernelspec": {
   "display_name": "Python 3 (ipykernel)",
   "language": "python",
   "name": "python3"
  },
  "language_info": {
   "codemirror_mode": {
    "name": "ipython",
    "version": 3
   },
   "file_extension": ".py",
   "mimetype": "text/x-python",
   "name": "python",
   "nbconvert_exporter": "python",
   "pygments_lexer": "ipython3",
   "version": "3.8.10"
  }
 },
 "nbformat": 4,
 "nbformat_minor": 5
}
